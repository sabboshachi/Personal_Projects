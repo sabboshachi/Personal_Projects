{
 "cells": [
  {
   "cell_type": "code",
   "execution_count": 1,
   "id": "dbfdbbf0",
   "metadata": {},
   "outputs": [
    {
     "name": "stdout",
     "output_type": "stream",
     "text": [
      "Requirement already satisfied: prince in c:\\users\\sabbo\\appdata\\local\\programs\\python\\python311\\lib\\site-packages (0.10.0)\n",
      "Requirement already satisfied: altair<5.0.0,>=4.2.2 in c:\\users\\sabbo\\appdata\\local\\programs\\python\\python311\\lib\\site-packages (from prince) (4.2.2)\n",
      "Requirement already satisfied: pandas<2.0.0,>=1.4.1 in c:\\users\\sabbo\\appdata\\local\\programs\\python\\python311\\lib\\site-packages (from prince) (1.5.3)\n",
      "Requirement already satisfied: scikit-learn<2.0.0,>=1.0.2 in c:\\users\\sabbo\\appdata\\local\\programs\\python\\python311\\lib\\site-packages (from prince) (1.2.1)\n",
      "Requirement already satisfied: entrypoints in c:\\users\\sabbo\\appdata\\local\\programs\\python\\python311\\lib\\site-packages (from altair<5.0.0,>=4.2.2->prince) (0.4)\n",
      "Requirement already satisfied: jinja2 in c:\\users\\sabbo\\appdata\\local\\programs\\python\\python311\\lib\\site-packages (from altair<5.0.0,>=4.2.2->prince) (3.1.2)\n",
      "Requirement already satisfied: jsonschema>=3.0 in c:\\users\\sabbo\\appdata\\local\\programs\\python\\python311\\lib\\site-packages (from altair<5.0.0,>=4.2.2->prince) (4.17.3)\n",
      "Requirement already satisfied: numpy in c:\\users\\sabbo\\appdata\\local\\programs\\python\\python311\\lib\\site-packages (from altair<5.0.0,>=4.2.2->prince) (1.24.1)\n",
      "Requirement already satisfied: toolz in c:\\users\\sabbo\\appdata\\local\\programs\\python\\python311\\lib\\site-packages (from altair<5.0.0,>=4.2.2->prince) (0.12.0)\n",
      "Requirement already satisfied: python-dateutil>=2.8.1 in c:\\users\\sabbo\\appdata\\local\\programs\\python\\python311\\lib\\site-packages (from pandas<2.0.0,>=1.4.1->prince) (2.8.2)\n",
      "Requirement already satisfied: pytz>=2020.1 in c:\\users\\sabbo\\appdata\\local\\programs\\python\\python311\\lib\\site-packages (from pandas<2.0.0,>=1.4.1->prince) (2022.7.1)\n",
      "Requirement already satisfied: scipy>=1.3.2 in c:\\users\\sabbo\\appdata\\local\\programs\\python\\python311\\lib\\site-packages (from scikit-learn<2.0.0,>=1.0.2->prince) (1.10.0)\n",
      "Requirement already satisfied: joblib>=1.1.1 in c:\\users\\sabbo\\appdata\\local\\programs\\python\\python311\\lib\\site-packages (from scikit-learn<2.0.0,>=1.0.2->prince) (1.2.0)\n",
      "Requirement already satisfied: threadpoolctl>=2.0.0 in c:\\users\\sabbo\\appdata\\local\\programs\\python\\python311\\lib\\site-packages (from scikit-learn<2.0.0,>=1.0.2->prince) (3.1.0)\n",
      "Requirement already satisfied: attrs>=17.4.0 in c:\\users\\sabbo\\appdata\\local\\programs\\python\\python311\\lib\\site-packages (from jsonschema>=3.0->altair<5.0.0,>=4.2.2->prince) (22.2.0)\n",
      "Requirement already satisfied: pyrsistent!=0.17.0,!=0.17.1,!=0.17.2,>=0.14.0 in c:\\users\\sabbo\\appdata\\local\\programs\\python\\python311\\lib\\site-packages (from jsonschema>=3.0->altair<5.0.0,>=4.2.2->prince) (0.19.3)\n",
      "Requirement already satisfied: six>=1.5 in c:\\users\\sabbo\\appdata\\local\\programs\\python\\python311\\lib\\site-packages (from python-dateutil>=2.8.1->pandas<2.0.0,>=1.4.1->prince) (1.16.0)\n",
      "Requirement already satisfied: MarkupSafe>=2.0 in c:\\users\\sabbo\\appdata\\local\\programs\\python\\python311\\lib\\site-packages (from jinja2->altair<5.0.0,>=4.2.2->prince) (2.1.1)\n",
      "Note: you may need to restart the kernel to use updated packages.\n"
     ]
    },
    {
     "name": "stderr",
     "output_type": "stream",
     "text": [
      "\n",
      "[notice] A new release of pip available: 22.3.1 -> 23.0.1\n",
      "[notice] To update, run: python.exe -m pip install --upgrade pip\n"
     ]
    }
   ],
   "source": [
    "pip install prince"
   ]
  },
  {
   "cell_type": "code",
   "execution_count": 3,
   "id": "38dd6204",
   "metadata": {},
   "outputs": [
    {
     "name": "stdout",
     "output_type": "stream",
     "text": [
      "Requirement already satisfied: scikeras in c:\\users\\sabbo\\appdata\\local\\programs\\python\\python311\\lib\\site-packages (0.4.1)\n",
      "Requirement already satisfied: packaging<22.0,>=0.21 in c:\\users\\sabbo\\appdata\\local\\programs\\python\\python311\\lib\\site-packages (from scikeras) (21.3)\n",
      "Requirement already satisfied: scikit-learn>=0.22.0 in c:\\users\\sabbo\\appdata\\local\\programs\\python\\python311\\lib\\site-packages (from scikeras) (1.2.1)\n",
      "Requirement already satisfied: pyparsing!=3.0.5,>=2.0.2 in c:\\users\\sabbo\\appdata\\local\\programs\\python\\python311\\lib\\site-packages (from packaging<22.0,>=0.21->scikeras) (3.0.9)\n",
      "Requirement already satisfied: numpy>=1.17.3 in c:\\users\\sabbo\\appdata\\local\\programs\\python\\python311\\lib\\site-packages (from scikit-learn>=0.22.0->scikeras) (1.24.1)\n",
      "Requirement already satisfied: scipy>=1.3.2 in c:\\users\\sabbo\\appdata\\local\\programs\\python\\python311\\lib\\site-packages (from scikit-learn>=0.22.0->scikeras) (1.10.0)\n",
      "Requirement already satisfied: joblib>=1.1.1 in c:\\users\\sabbo\\appdata\\local\\programs\\python\\python311\\lib\\site-packages (from scikit-learn>=0.22.0->scikeras) (1.2.0)\n",
      "Requirement already satisfied: threadpoolctl>=2.0.0 in c:\\users\\sabbo\\appdata\\local\\programs\\python\\python311\\lib\\site-packages (from scikit-learn>=0.22.0->scikeras) (3.1.0)\n",
      "Note: you may need to restart the kernel to use updated packages.\n"
     ]
    },
    {
     "name": "stderr",
     "output_type": "stream",
     "text": [
      "\n",
      "[notice] A new release of pip available: 22.3.1 -> 23.0.1\n",
      "[notice] To update, run: python.exe -m pip install --upgrade pip\n"
     ]
    }
   ],
   "source": [
    "pip install scikeras"
   ]
  },
  {
   "cell_type": "code",
   "execution_count": 5,
   "id": "5d3165ab",
   "metadata": {},
   "outputs": [],
   "source": [
    "import pandas as pd \n",
    "import numpy as np\n",
    "import matplotlib.pyplot as plt\n",
    "\n",
    "from sklearn import *\n",
    "import warnings\n",
    "from imblearn.pipeline import Pipeline as ImbPipeline\n",
    "from imblearn.over_sampling import RandomOverSampler, SMOTE\n",
    "from imblearn.pipeline import Pipeline as ImbPipeline\n",
    "from scipy import stats\n",
    "from time import time as tt\n",
    "np.random.seed(0)"
   ]
  },
  {
   "cell_type": "code",
   "execution_count": 6,
   "id": "d41f1c0a",
   "metadata": {},
   "outputs": [],
   "source": [
    "from IPython.display import HTML\n",
    "def pretty_print_df(value_counts_):\n",
    "  \"Quick function to display value counts more nicely\"\n",
    "  display(HTML(pd.DataFrame(value_counts_).to_html()))"
   ]
  },
  {
   "cell_type": "code",
   "execution_count": 9,
   "id": "20abe5b4",
   "metadata": {},
   "outputs": [],
   "source": [
    "data = pd.read_csv('../DataSet/OPTION1_uk_road_accident_2019_coursework_final.csv')"
   ]
  },
  {
   "cell_type": "code",
   "execution_count": 11,
   "id": "d7625f40",
   "metadata": {},
   "outputs": [
    {
     "data": {
      "text/html": [
       "<div>\n",
       "<style scoped>\n",
       "    .dataframe tbody tr th:only-of-type {\n",
       "        vertical-align: middle;\n",
       "    }\n",
       "\n",
       "    .dataframe tbody tr th {\n",
       "        vertical-align: top;\n",
       "    }\n",
       "\n",
       "    .dataframe thead th {\n",
       "        text-align: right;\n",
       "    }\n",
       "</style>\n",
       "<table border=\"1\" class=\"dataframe\">\n",
       "  <thead>\n",
       "    <tr style=\"text-align: right;\">\n",
       "      <th></th>\n",
       "      <th>accident_index</th>\n",
       "      <th>speed_limit</th>\n",
       "      <th>light_conditions</th>\n",
       "      <th>weather_conditions</th>\n",
       "      <th>road_surface_conditions</th>\n",
       "      <th>vehicle_type</th>\n",
       "      <th>junction_location</th>\n",
       "      <th>skidding_and_overturning</th>\n",
       "      <th>vehicle_leaving_carriageway</th>\n",
       "      <th>hit_object_off_carriageway</th>\n",
       "      <th>first_point_of_impact</th>\n",
       "      <th>sex_of_driver</th>\n",
       "      <th>age_of_oldest_driver</th>\n",
       "      <th>accident_severity</th>\n",
       "    </tr>\n",
       "  </thead>\n",
       "  <tbody>\n",
       "    <tr>\n",
       "      <th>0</th>\n",
       "      <td>2019010225080</td>\n",
       "      <td>30</td>\n",
       "      <td>darkness</td>\n",
       "      <td>other</td>\n",
       "      <td>wet or damp</td>\n",
       "      <td>at least one van</td>\n",
       "      <td>at or within 20 metres of junction</td>\n",
       "      <td>no skidding or overturning</td>\n",
       "      <td>none leaving carriageway</td>\n",
       "      <td>none hit an object</td>\n",
       "      <td>other points of impact</td>\n",
       "      <td>all males</td>\n",
       "      <td>63.0</td>\n",
       "      <td>serious</td>\n",
       "    </tr>\n",
       "    <tr>\n",
       "      <th>1</th>\n",
       "      <td>2019200908684</td>\n",
       "      <td>30</td>\n",
       "      <td>darkness</td>\n",
       "      <td>fine</td>\n",
       "      <td>dry</td>\n",
       "      <td>only cars</td>\n",
       "      <td>at or within 20 metres of junction</td>\n",
       "      <td>no skidding or overturning</td>\n",
       "      <td>at least one vehicle leaving carriageway</td>\n",
       "      <td>at least one vehicle hit an object</td>\n",
       "      <td>at least one vehicle with frontal impact</td>\n",
       "      <td>all males</td>\n",
       "      <td>82.0</td>\n",
       "      <td>fatal</td>\n",
       "    </tr>\n",
       "    <tr>\n",
       "      <th>2</th>\n",
       "      <td>2019040860897</td>\n",
       "      <td>40</td>\n",
       "      <td>daylight</td>\n",
       "      <td>fine</td>\n",
       "      <td>dry</td>\n",
       "      <td>only cars</td>\n",
       "      <td>at or within 20 metres of junction</td>\n",
       "      <td>no skidding or overturning</td>\n",
       "      <td>none leaving carriageway</td>\n",
       "      <td>none hit an object</td>\n",
       "      <td>at least one vehicle with frontal impact</td>\n",
       "      <td>data missing or out of range</td>\n",
       "      <td>NaN</td>\n",
       "      <td>serious</td>\n",
       "    </tr>\n",
       "    <tr>\n",
       "      <th>3</th>\n",
       "      <td>2019460847205</td>\n",
       "      <td>40</td>\n",
       "      <td>daylight</td>\n",
       "      <td>fine</td>\n",
       "      <td>dry</td>\n",
       "      <td>only cars</td>\n",
       "      <td>not at or within 20 metres of junction</td>\n",
       "      <td>no skidding or overturning</td>\n",
       "      <td>none leaving carriageway</td>\n",
       "      <td>none hit an object</td>\n",
       "      <td>at least one vehicle with frontal impact</td>\n",
       "      <td>male and female</td>\n",
       "      <td>NaN</td>\n",
       "      <td>serious</td>\n",
       "    </tr>\n",
       "    <tr>\n",
       "      <th>4</th>\n",
       "      <td>2019051911581</td>\n",
       "      <td>30</td>\n",
       "      <td>daylight</td>\n",
       "      <td>fine</td>\n",
       "      <td>dry</td>\n",
       "      <td>only cars</td>\n",
       "      <td>not at or within 20 metres of junction</td>\n",
       "      <td>no skidding or overturning</td>\n",
       "      <td>none leaving carriageway</td>\n",
       "      <td>none hit an object</td>\n",
       "      <td>at least one vehicle with frontal impact</td>\n",
       "      <td>all females</td>\n",
       "      <td>39.0</td>\n",
       "      <td>slight</td>\n",
       "    </tr>\n",
       "  </tbody>\n",
       "</table>\n",
       "</div>"
      ],
      "text/plain": [
       "  accident_index  speed_limit light_conditions weather_conditions  \\\n",
       "0  2019010225080           30         darkness              other   \n",
       "1  2019200908684           30         darkness               fine   \n",
       "2  2019040860897           40         daylight               fine   \n",
       "3  2019460847205           40         daylight               fine   \n",
       "4  2019051911581           30         daylight               fine   \n",
       "\n",
       "  road_surface_conditions      vehicle_type  \\\n",
       "0             wet or damp  at least one van   \n",
       "1                     dry         only cars   \n",
       "2                     dry         only cars   \n",
       "3                     dry         only cars   \n",
       "4                     dry         only cars   \n",
       "\n",
       "                        junction_location    skidding_and_overturning  \\\n",
       "0      at or within 20 metres of junction  no skidding or overturning   \n",
       "1      at or within 20 metres of junction  no skidding or overturning   \n",
       "2      at or within 20 metres of junction  no skidding or overturning   \n",
       "3  not at or within 20 metres of junction  no skidding or overturning   \n",
       "4  not at or within 20 metres of junction  no skidding or overturning   \n",
       "\n",
       "                vehicle_leaving_carriageway  \\\n",
       "0                  none leaving carriageway   \n",
       "1  at least one vehicle leaving carriageway   \n",
       "2                  none leaving carriageway   \n",
       "3                  none leaving carriageway   \n",
       "4                  none leaving carriageway   \n",
       "\n",
       "           hit_object_off_carriageway  \\\n",
       "0                  none hit an object   \n",
       "1  at least one vehicle hit an object   \n",
       "2                  none hit an object   \n",
       "3                  none hit an object   \n",
       "4                  none hit an object   \n",
       "\n",
       "                      first_point_of_impact                 sex_of_driver  \\\n",
       "0                    other points of impact                     all males   \n",
       "1  at least one vehicle with frontal impact                     all males   \n",
       "2  at least one vehicle with frontal impact  data missing or out of range   \n",
       "3  at least one vehicle with frontal impact               male and female   \n",
       "4  at least one vehicle with frontal impact                   all females   \n",
       "\n",
       "   age_of_oldest_driver accident_severity  \n",
       "0                  63.0           serious  \n",
       "1                  82.0             fatal  \n",
       "2                   NaN           serious  \n",
       "3                   NaN           serious  \n",
       "4                  39.0            slight  "
      ]
     },
     "execution_count": 11,
     "metadata": {},
     "output_type": "execute_result"
    }
   ],
   "source": [
    "data.head()"
   ]
  },
  {
   "cell_type": "code",
   "execution_count": 12,
   "id": "67ff4548",
   "metadata": {},
   "outputs": [],
   "source": [
    "WorkingData = data.copy()"
   ]
  },
  {
   "cell_type": "code",
   "execution_count": 13,
   "id": "a9fa63a9",
   "metadata": {},
   "outputs": [
    {
     "data": {
      "text/plain": [
       "(31647, 14)"
      ]
     },
     "execution_count": 13,
     "metadata": {},
     "output_type": "execute_result"
    }
   ],
   "source": [
    "WorkingData.shape"
   ]
  },
  {
   "cell_type": "code",
   "execution_count": 14,
   "id": "2ea10d29",
   "metadata": {},
   "outputs": [
    {
     "data": {
      "text/plain": [
       "Index(['accident_index', 'speed_limit', 'light_conditions',\n",
       "       'weather_conditions', 'road_surface_conditions', 'vehicle_type',\n",
       "       'junction_location', 'skidding_and_overturning',\n",
       "       'vehicle_leaving_carriageway', 'hit_object_off_carriageway',\n",
       "       'first_point_of_impact', 'sex_of_driver', 'age_of_oldest_driver',\n",
       "       'accident_severity'],\n",
       "      dtype='object')"
      ]
     },
     "metadata": {},
     "output_type": "display_data"
    }
   ],
   "source": [
    "display(WorkingData.columns)"
   ]
  },
  {
   "cell_type": "code",
   "execution_count": 16,
   "id": "61b86256",
   "metadata": {},
   "outputs": [
    {
     "data": {
      "text/html": [
       "<div>\n",
       "<style scoped>\n",
       "    .dataframe tbody tr th:only-of-type {\n",
       "        vertical-align: middle;\n",
       "    }\n",
       "\n",
       "    .dataframe tbody tr th {\n",
       "        vertical-align: top;\n",
       "    }\n",
       "\n",
       "    .dataframe thead th {\n",
       "        text-align: right;\n",
       "    }\n",
       "</style>\n",
       "<table border=\"1\" class=\"dataframe\">\n",
       "  <thead>\n",
       "    <tr style=\"text-align: right;\">\n",
       "      <th></th>\n",
       "      <th>speed_limit</th>\n",
       "      <th>age_of_oldest_driver</th>\n",
       "    </tr>\n",
       "  </thead>\n",
       "  <tbody>\n",
       "    <tr>\n",
       "      <th>count</th>\n",
       "      <td>31647.000000</td>\n",
       "      <td>25197.000000</td>\n",
       "    </tr>\n",
       "    <tr>\n",
       "      <th>mean</th>\n",
       "      <td>36.572029</td>\n",
       "      <td>47.254038</td>\n",
       "    </tr>\n",
       "    <tr>\n",
       "      <th>std</th>\n",
       "      <td>13.837362</td>\n",
       "      <td>16.779656</td>\n",
       "    </tr>\n",
       "    <tr>\n",
       "      <th>min</th>\n",
       "      <td>-1.000000</td>\n",
       "      <td>6.000000</td>\n",
       "    </tr>\n",
       "    <tr>\n",
       "      <th>25%</th>\n",
       "      <td>30.000000</td>\n",
       "      <td>34.000000</td>\n",
       "    </tr>\n",
       "    <tr>\n",
       "      <th>50%</th>\n",
       "      <td>30.000000</td>\n",
       "      <td>47.000000</td>\n",
       "    </tr>\n",
       "    <tr>\n",
       "      <th>75%</th>\n",
       "      <td>40.000000</td>\n",
       "      <td>59.000000</td>\n",
       "    </tr>\n",
       "    <tr>\n",
       "      <th>max</th>\n",
       "      <td>70.000000</td>\n",
       "      <td>101.000000</td>\n",
       "    </tr>\n",
       "  </tbody>\n",
       "</table>\n",
       "</div>"
      ],
      "text/plain": [
       "        speed_limit  age_of_oldest_driver\n",
       "count  31647.000000          25197.000000\n",
       "mean      36.572029             47.254038\n",
       "std       13.837362             16.779656\n",
       "min       -1.000000              6.000000\n",
       "25%       30.000000             34.000000\n",
       "50%       30.000000             47.000000\n",
       "75%       40.000000             59.000000\n",
       "max       70.000000            101.000000"
      ]
     },
     "execution_count": 16,
     "metadata": {},
     "output_type": "execute_result"
    }
   ],
   "source": [
    "WorkingData.describe()"
   ]
  },
  {
   "cell_type": "code",
   "execution_count": 17,
   "id": "6817dd3e",
   "metadata": {},
   "outputs": [
    {
     "data": {
      "text/plain": [
       "accident_index                  object\n",
       "speed_limit                      int64\n",
       "light_conditions                object\n",
       "weather_conditions              object\n",
       "road_surface_conditions         object\n",
       "vehicle_type                    object\n",
       "junction_location               object\n",
       "skidding_and_overturning        object\n",
       "vehicle_leaving_carriageway     object\n",
       "hit_object_off_carriageway      object\n",
       "first_point_of_impact           object\n",
       "sex_of_driver                   object\n",
       "age_of_oldest_driver           float64\n",
       "accident_severity               object\n",
       "dtype: object"
      ]
     },
     "execution_count": 17,
     "metadata": {},
     "output_type": "execute_result"
    }
   ],
   "source": [
    "WorkingData.dtypes"
   ]
  },
  {
   "cell_type": "code",
   "execution_count": 18,
   "id": "2817f054",
   "metadata": {},
   "outputs": [
    {
     "data": {
      "text/plain": [
       "accident_index                    0\n",
       "speed_limit                       0\n",
       "light_conditions                  0\n",
       "weather_conditions                0\n",
       "road_surface_conditions           0\n",
       "vehicle_type                      0\n",
       "junction_location                 0\n",
       "skidding_and_overturning          0\n",
       "vehicle_leaving_carriageway       0\n",
       "hit_object_off_carriageway        0\n",
       "first_point_of_impact             0\n",
       "sex_of_driver                     0\n",
       "age_of_oldest_driver           6450\n",
       "accident_severity              1172\n",
       "dtype: int64"
      ]
     },
     "execution_count": 18,
     "metadata": {},
     "output_type": "execute_result"
    }
   ],
   "source": [
    "WorkingData.isna().sum()"
   ]
  },
  {
   "cell_type": "code",
   "execution_count": 19,
   "id": "acb60ab2",
   "metadata": {},
   "outputs": [
    {
     "name": "stdout",
     "output_type": "stream",
     "text": [
      "Categories and number of occurrences for 'light_conditions'\n"
     ]
    },
    {
     "data": {
      "text/html": [
       "<table border=\"1\" class=\"dataframe\">\n",
       "  <thead>\n",
       "    <tr style=\"text-align: right;\">\n",
       "      <th></th>\n",
       "      <th>light_conditions</th>\n",
       "    </tr>\n",
       "  </thead>\n",
       "  <tbody>\n",
       "    <tr>\n",
       "      <th>daylight</th>\n",
       "      <td>22210</td>\n",
       "    </tr>\n",
       "    <tr>\n",
       "      <th>darkness</th>\n",
       "      <td>9437</td>\n",
       "    </tr>\n",
       "  </tbody>\n",
       "</table>"
      ],
      "text/plain": [
       "<IPython.core.display.HTML object>"
      ]
     },
     "metadata": {},
     "output_type": "display_data"
    },
    {
     "name": "stdout",
     "output_type": "stream",
     "text": [
      "\n",
      "Categories and number of occurrences for 'weather_conditions'\n"
     ]
    },
    {
     "data": {
      "text/html": [
       "<table border=\"1\" class=\"dataframe\">\n",
       "  <thead>\n",
       "    <tr style=\"text-align: right;\">\n",
       "      <th></th>\n",
       "      <th>weather_conditions</th>\n",
       "    </tr>\n",
       "  </thead>\n",
       "  <tbody>\n",
       "    <tr>\n",
       "      <th>fine</th>\n",
       "      <td>25152</td>\n",
       "    </tr>\n",
       "    <tr>\n",
       "      <th>other</th>\n",
       "      <td>5407</td>\n",
       "    </tr>\n",
       "    <tr>\n",
       "      <th>data missing or out of range</th>\n",
       "      <td>970</td>\n",
       "    </tr>\n",
       "    <tr>\n",
       "      <th>fog or mist</th>\n",
       "      <td>118</td>\n",
       "    </tr>\n",
       "  </tbody>\n",
       "</table>"
      ],
      "text/plain": [
       "<IPython.core.display.HTML object>"
      ]
     },
     "metadata": {},
     "output_type": "display_data"
    },
    {
     "name": "stdout",
     "output_type": "stream",
     "text": [
      "\n",
      "Categories and number of occurrences for 'road_surface_conditions'\n"
     ]
    },
    {
     "data": {
      "text/html": [
       "<table border=\"1\" class=\"dataframe\">\n",
       "  <thead>\n",
       "    <tr style=\"text-align: right;\">\n",
       "      <th></th>\n",
       "      <th>road_surface_conditions</th>\n",
       "    </tr>\n",
       "  </thead>\n",
       "  <tbody>\n",
       "    <tr>\n",
       "      <th>dry</th>\n",
       "      <td>22092</td>\n",
       "    </tr>\n",
       "    <tr>\n",
       "      <th>wet or damp</th>\n",
       "      <td>8761</td>\n",
       "    </tr>\n",
       "    <tr>\n",
       "      <th>other</th>\n",
       "      <td>374</td>\n",
       "    </tr>\n",
       "    <tr>\n",
       "      <th>data missing or out of range</th>\n",
       "      <td>365</td>\n",
       "    </tr>\n",
       "    <tr>\n",
       "      <th>flood over 3cm. deep</th>\n",
       "      <td>55</td>\n",
       "    </tr>\n",
       "  </tbody>\n",
       "</table>"
      ],
      "text/plain": [
       "<IPython.core.display.HTML object>"
      ]
     },
     "metadata": {},
     "output_type": "display_data"
    },
    {
     "name": "stdout",
     "output_type": "stream",
     "text": [
      "\n",
      "Categories and number of occurrences for 'vehicle_type'\n"
     ]
    },
    {
     "data": {
      "text/html": [
       "<table border=\"1\" class=\"dataframe\">\n",
       "  <thead>\n",
       "    <tr style=\"text-align: right;\">\n",
       "      <th></th>\n",
       "      <th>vehicle_type</th>\n",
       "    </tr>\n",
       "  </thead>\n",
       "  <tbody>\n",
       "    <tr>\n",
       "      <th>only cars</th>\n",
       "      <td>17487</td>\n",
       "    </tr>\n",
       "    <tr>\n",
       "      <th>at least one biped</th>\n",
       "      <td>8662</td>\n",
       "    </tr>\n",
       "    <tr>\n",
       "      <th>at least one van</th>\n",
       "      <td>4040</td>\n",
       "    </tr>\n",
       "    <tr>\n",
       "      <th>biped and van</th>\n",
       "      <td>1000</td>\n",
       "    </tr>\n",
       "    <tr>\n",
       "      <th>other</th>\n",
       "      <td>395</td>\n",
       "    </tr>\n",
       "    <tr>\n",
       "      <th>data missing or out of range</th>\n",
       "      <td>63</td>\n",
       "    </tr>\n",
       "  </tbody>\n",
       "</table>"
      ],
      "text/plain": [
       "<IPython.core.display.HTML object>"
      ]
     },
     "metadata": {},
     "output_type": "display_data"
    },
    {
     "name": "stdout",
     "output_type": "stream",
     "text": [
      "\n",
      "Categories and number of occurrences for 'junction_location'\n"
     ]
    },
    {
     "data": {
      "text/html": [
       "<table border=\"1\" class=\"dataframe\">\n",
       "  <thead>\n",
       "    <tr style=\"text-align: right;\">\n",
       "      <th></th>\n",
       "      <th>junction_location</th>\n",
       "    </tr>\n",
       "  </thead>\n",
       "  <tbody>\n",
       "    <tr>\n",
       "      <th>at or within 20 metres of junction</th>\n",
       "      <td>17204</td>\n",
       "    </tr>\n",
       "    <tr>\n",
       "      <th>not at or within 20 metres of junction</th>\n",
       "      <td>12973</td>\n",
       "    </tr>\n",
       "    <tr>\n",
       "      <th>data missing or out of range</th>\n",
       "      <td>1470</td>\n",
       "    </tr>\n",
       "  </tbody>\n",
       "</table>"
      ],
      "text/plain": [
       "<IPython.core.display.HTML object>"
      ]
     },
     "metadata": {},
     "output_type": "display_data"
    },
    {
     "name": "stdout",
     "output_type": "stream",
     "text": [
      "\n",
      "Categories and number of occurrences for 'skidding_and_overturning'\n"
     ]
    },
    {
     "data": {
      "text/html": [
       "<table border=\"1\" class=\"dataframe\">\n",
       "  <thead>\n",
       "    <tr style=\"text-align: right;\">\n",
       "      <th></th>\n",
       "      <th>skidding_and_overturning</th>\n",
       "    </tr>\n",
       "  </thead>\n",
       "  <tbody>\n",
       "    <tr>\n",
       "      <th>no skidding or overturning</th>\n",
       "      <td>24387</td>\n",
       "    </tr>\n",
       "    <tr>\n",
       "      <th>at least one vehicle skidded or overturned</th>\n",
       "      <td>5226</td>\n",
       "    </tr>\n",
       "    <tr>\n",
       "      <th>data missing or out of range</th>\n",
       "      <td>2034</td>\n",
       "    </tr>\n",
       "  </tbody>\n",
       "</table>"
      ],
      "text/plain": [
       "<IPython.core.display.HTML object>"
      ]
     },
     "metadata": {},
     "output_type": "display_data"
    },
    {
     "name": "stdout",
     "output_type": "stream",
     "text": [
      "\n",
      "Categories and number of occurrences for 'vehicle_leaving_carriageway'\n"
     ]
    },
    {
     "data": {
      "text/html": [
       "<table border=\"1\" class=\"dataframe\">\n",
       "  <thead>\n",
       "    <tr style=\"text-align: right;\">\n",
       "      <th></th>\n",
       "      <th>vehicle_leaving_carriageway</th>\n",
       "    </tr>\n",
       "  </thead>\n",
       "  <tbody>\n",
       "    <tr>\n",
       "      <th>none leaving carriageway</th>\n",
       "      <td>24019</td>\n",
       "    </tr>\n",
       "    <tr>\n",
       "      <th>at least one vehicle leaving carriageway</th>\n",
       "      <td>5661</td>\n",
       "    </tr>\n",
       "    <tr>\n",
       "      <th>data missing or out of range</th>\n",
       "      <td>1967</td>\n",
       "    </tr>\n",
       "  </tbody>\n",
       "</table>"
      ],
      "text/plain": [
       "<IPython.core.display.HTML object>"
      ]
     },
     "metadata": {},
     "output_type": "display_data"
    },
    {
     "name": "stdout",
     "output_type": "stream",
     "text": [
      "\n",
      "Categories and number of occurrences for 'hit_object_off_carriageway'\n"
     ]
    },
    {
     "data": {
      "text/html": [
       "<table border=\"1\" class=\"dataframe\">\n",
       "  <thead>\n",
       "    <tr style=\"text-align: right;\">\n",
       "      <th></th>\n",
       "      <th>hit_object_off_carriageway</th>\n",
       "    </tr>\n",
       "  </thead>\n",
       "  <tbody>\n",
       "    <tr>\n",
       "      <th>none hit an object</th>\n",
       "      <td>26129</td>\n",
       "    </tr>\n",
       "    <tr>\n",
       "      <th>at least one vehicle hit an object</th>\n",
       "      <td>3655</td>\n",
       "    </tr>\n",
       "    <tr>\n",
       "      <th>data missing or out of range</th>\n",
       "      <td>1863</td>\n",
       "    </tr>\n",
       "  </tbody>\n",
       "</table>"
      ],
      "text/plain": [
       "<IPython.core.display.HTML object>"
      ]
     },
     "metadata": {},
     "output_type": "display_data"
    },
    {
     "name": "stdout",
     "output_type": "stream",
     "text": [
      "\n",
      "Categories and number of occurrences for 'first_point_of_impact'\n"
     ]
    },
    {
     "data": {
      "text/html": [
       "<table border=\"1\" class=\"dataframe\">\n",
       "  <thead>\n",
       "    <tr style=\"text-align: right;\">\n",
       "      <th></th>\n",
       "      <th>first_point_of_impact</th>\n",
       "    </tr>\n",
       "  </thead>\n",
       "  <tbody>\n",
       "    <tr>\n",
       "      <th>at least one vehicle with frontal impact</th>\n",
       "      <td>23002</td>\n",
       "    </tr>\n",
       "    <tr>\n",
       "      <th>other points of impact</th>\n",
       "      <td>6008</td>\n",
       "    </tr>\n",
       "    <tr>\n",
       "      <th>no impact</th>\n",
       "      <td>1333</td>\n",
       "    </tr>\n",
       "    <tr>\n",
       "      <th>data missing or out of range</th>\n",
       "      <td>1304</td>\n",
       "    </tr>\n",
       "  </tbody>\n",
       "</table>"
      ],
      "text/plain": [
       "<IPython.core.display.HTML object>"
      ]
     },
     "metadata": {},
     "output_type": "display_data"
    },
    {
     "name": "stdout",
     "output_type": "stream",
     "text": [
      "\n",
      "Categories and number of occurrences for 'accident_severity'\n"
     ]
    },
    {
     "data": {
      "text/html": [
       "<table border=\"1\" class=\"dataframe\">\n",
       "  <thead>\n",
       "    <tr style=\"text-align: right;\">\n",
       "      <th></th>\n",
       "      <th>accident_severity</th>\n",
       "    </tr>\n",
       "  </thead>\n",
       "  <tbody>\n",
       "    <tr>\n",
       "      <th>slight</th>\n",
       "      <td>12672</td>\n",
       "    </tr>\n",
       "    <tr>\n",
       "      <th>serious</th>\n",
       "      <td>11592</td>\n",
       "    </tr>\n",
       "    <tr>\n",
       "      <th>fatal</th>\n",
       "      <td>6159</td>\n",
       "    </tr>\n",
       "    <tr>\n",
       "      <th>Serious</th>\n",
       "      <td>25</td>\n",
       "    </tr>\n",
       "    <tr>\n",
       "      <th>Slight</th>\n",
       "      <td>19</td>\n",
       "    </tr>\n",
       "    <tr>\n",
       "      <th>Fatal</th>\n",
       "      <td>8</td>\n",
       "    </tr>\n",
       "  </tbody>\n",
       "</table>"
      ],
      "text/plain": [
       "<IPython.core.display.HTML object>"
      ]
     },
     "metadata": {},
     "output_type": "display_data"
    },
    {
     "name": "stdout",
     "output_type": "stream",
     "text": [
      "\n",
      "Categories and number of occurrences for 'sex_of_driver'\n"
     ]
    },
    {
     "data": {
      "text/html": [
       "<table border=\"1\" class=\"dataframe\">\n",
       "  <thead>\n",
       "    <tr style=\"text-align: right;\">\n",
       "      <th></th>\n",
       "      <th>sex_of_driver</th>\n",
       "    </tr>\n",
       "  </thead>\n",
       "  <tbody>\n",
       "    <tr>\n",
       "      <th>all males</th>\n",
       "      <td>15494</td>\n",
       "    </tr>\n",
       "    <tr>\n",
       "      <th>male and female</th>\n",
       "      <td>7015</td>\n",
       "    </tr>\n",
       "    <tr>\n",
       "      <th>data missing or out of range</th>\n",
       "      <td>5122</td>\n",
       "    </tr>\n",
       "    <tr>\n",
       "      <th>all females</th>\n",
       "      <td>4016</td>\n",
       "    </tr>\n",
       "  </tbody>\n",
       "</table>"
      ],
      "text/plain": [
       "<IPython.core.display.HTML object>"
      ]
     },
     "metadata": {},
     "output_type": "display_data"
    },
    {
     "name": "stdout",
     "output_type": "stream",
     "text": [
      "\n"
     ]
    }
   ],
   "source": [
    "# let's list all categorical features\n",
    "categorical_columns= ['light_conditions', 'weather_conditions', 'road_surface_conditions', 'vehicle_type','junction_location','skidding_and_overturning','vehicle_leaving_carriageway','hit_object_off_carriageway','first_point_of_impact',\n",
    "       'accident_severity', 'sex_of_driver']\n",
    "# Question: why have we not included Loan_ID?\n",
    "\n",
    "# let's get the categories and their count for each feature\n",
    "for col in categorical_columns:\n",
    "  print(f\"Categories and number of occurrences for '{col}'\")\n",
    "  pretty_print_df(WorkingData[col].value_counts())\n",
    "  print()"
   ]
  },
  {
   "cell_type": "code",
   "execution_count": 20,
   "id": "1168b97a",
   "metadata": {},
   "outputs": [],
   "source": [
    "WorkingData.loc[WorkingData.accident_severity=='Slight','accident_severity'] = 'slight'\n",
    "WorkingData.loc[WorkingData.accident_severity=='Serious','accident_severity'] = 'serious'\n",
    "WorkingData.loc[WorkingData.accident_severity=='Fatal','accident_severity'] = 'fatal'"
   ]
  },
  {
   "cell_type": "code",
   "execution_count": 21,
   "id": "25446040",
   "metadata": {},
   "outputs": [],
   "source": [
    "# replace out of scope value for the columns values with NaN\n",
    "accepted_weather_conditions = ['fine','other','fog or mist']\n",
    "accepted_road_surface_conditions = ['dry','wet or damp','other','flood over 3cm. deep']\n",
    "accepted_vehicle_type = ['only cars','at least one biped','at least one van','biped and van','other']\n",
    "accepted_junction_location = ['at or within 20 metres of junction','not at or within 20 metres of junction']\n",
    "accepted_skidding_and_overturning = ['no skidding or overturning','at least one vehicle skidded or overturned']\n",
    "accepted_vehicle_leaving_carriageway = ['none leaving carriageway','at least one vehicle leaving carriageway']\n",
    "accepted_hit_object_off_carriageway = ['none hit an object','at least one vehicle hit an object']\n",
    "accepted_first_point_of_impact = ['at least one vehicle with frontal impact','other points of impact','no impact']\n",
    "accepted_sex_of_driver = ['all males','male and female','all females']\n",
    "\n",
    "\n",
    "# remember the lambda notation: it is an anonymous function that lets us specificy\n",
    "# a given (and easy) transformation for its input (in this case, x)\n",
    "WorkingData.loc[WorkingData.weather_conditions.map(lambda x: x not in accepted_weather_conditions),'weather_conditions'] = np.nan\n",
    "WorkingData.loc[WorkingData.road_surface_conditions.map(lambda x: x not in accepted_road_surface_conditions),'road_surface_conditions'] = np.nan\n",
    "WorkingData.loc[WorkingData.vehicle_type.map(lambda x: x not in accepted_vehicle_type),'vehicle_type'] = np.nan\n",
    "WorkingData.loc[WorkingData.junction_location.map(lambda x: x not in accepted_junction_location),'junction_location'] = np.nan\n",
    "WorkingData.loc[WorkingData.skidding_and_overturning.map(lambda x: x not in accepted_skidding_and_overturning),'skidding_and_overturning'] = np.nan\n",
    "WorkingData.loc[WorkingData.vehicle_leaving_carriageway.map(lambda x: x not in accepted_vehicle_leaving_carriageway),'vehicle_leaving_carriageway'] = np.nan\n",
    "WorkingData.loc[WorkingData.hit_object_off_carriageway.map(lambda x: x not in accepted_hit_object_off_carriageway),'hit_object_off_carriageway'] = np.nan\n",
    "WorkingData.loc[WorkingData.first_point_of_impact.map(lambda x: x not in accepted_first_point_of_impact),'first_point_of_impact'] = np.nan\n",
    "WorkingData.loc[WorkingData.sex_of_driver.map(lambda x: x not in accepted_sex_of_driver),'sex_of_driver'] = np.nan\n",
    "#replacing the -1 with an NaN\n",
    "WorkingData.loc[WorkingData.speed_limit==-1,'speed_limit'] = np.nan"
   ]
  },
  {
   "cell_type": "code",
   "execution_count": 22,
   "id": "97e4ac48",
   "metadata": {},
   "outputs": [],
   "source": [
    "from sklearn.impute import SimpleImputer \n",
    "\n",
    "# data_no_nans =  data.copy()\n",
    "\n",
    "categorical_columns= ['light_conditions', 'weather_conditions', 'road_surface_conditions', 'vehicle_type','junction_location','skidding_and_overturning','vehicle_leaving_carriageway','hit_object_off_carriageway','first_point_of_impact'\n",
    "       , 'sex_of_driver']\n",
    "### insert code here; work on the: train_dataset_no_nans\n",
    "# 1. Imputer\n",
    "imptr_cat = SimpleImputer(missing_values = np.nan, strategy = 'most_frequent')  \n",
    "\n",
    "# 2. Fit the imputer object to the feature matrix (only for categorical features)\n",
    "imptr_cat = imptr_cat.fit(WorkingData[categorical_columns])\n",
    "\n",
    "# 3. Call Transform to replace missing data in train_dataset (on specific columns) by the mean of the column to which that missing data belongs to\n",
    "WorkingData[categorical_columns] = imptr_cat.transform(WorkingData[categorical_columns])  \n"
   ]
  },
  {
   "cell_type": "code",
   "execution_count": 23,
   "id": "ba8e1c7e",
   "metadata": {},
   "outputs": [],
   "source": [
    "# 1. Imputer\n",
    "imptr_num = SimpleImputer(missing_values = np.nan, strategy = 'median')  \n",
    "\n",
    "\n",
    "# 2. Fit the imputer object to the feature matrix (only for numeric features)\n",
    "numerical_columns = ['speed_limit', 'age_of_oldest_driver']\n",
    "imptr_num = imptr_num.fit(WorkingData[numerical_columns]) # fit the data to estimate the parameters (here, the average value)\n",
    "\n",
    "# 3. Call Transform to replace missing data in train_dataset (on specific columns) by the mean of the column to which that missing data belongs to\n",
    "WorkingData[numerical_columns] = \\\n",
    "  imptr_num.transform(WorkingData[numerical_columns])"
   ]
  },
  {
   "cell_type": "code",
   "execution_count": null,
   "id": "f7534524",
   "metadata": {},
   "outputs": [],
   "source": []
  },
  {
   "cell_type": "code",
   "execution_count": null,
   "id": "4c16e684",
   "metadata": {},
   "outputs": [],
   "source": []
  },
  {
   "cell_type": "code",
   "execution_count": null,
   "id": "57a508cc",
   "metadata": {},
   "outputs": [],
   "source": []
  },
  {
   "cell_type": "code",
   "execution_count": null,
   "id": "79d701ab",
   "metadata": {},
   "outputs": [],
   "source": []
  },
  {
   "cell_type": "code",
   "execution_count": null,
   "id": "ee409d51",
   "metadata": {},
   "outputs": [],
   "source": []
  },
  {
   "cell_type": "code",
   "execution_count": null,
   "id": "2d320f13",
   "metadata": {},
   "outputs": [],
   "source": []
  },
  {
   "cell_type": "code",
   "execution_count": null,
   "id": "84a2d47b",
   "metadata": {},
   "outputs": [],
   "source": []
  },
  {
   "cell_type": "code",
   "execution_count": null,
   "id": "c67ad8fb",
   "metadata": {},
   "outputs": [],
   "source": []
  },
  {
   "cell_type": "code",
   "execution_count": null,
   "id": "95abbb6a",
   "metadata": {},
   "outputs": [],
   "source": []
  },
  {
   "cell_type": "code",
   "execution_count": null,
   "id": "89dc812f",
   "metadata": {},
   "outputs": [],
   "source": []
  },
  {
   "cell_type": "code",
   "execution_count": null,
   "id": "586763b8",
   "metadata": {},
   "outputs": [],
   "source": []
  },
  {
   "cell_type": "code",
   "execution_count": null,
   "id": "0505c050",
   "metadata": {},
   "outputs": [],
   "source": []
  },
  {
   "cell_type": "code",
   "execution_count": null,
   "id": "5dfe9983",
   "metadata": {},
   "outputs": [],
   "source": []
  },
  {
   "cell_type": "code",
   "execution_count": null,
   "id": "3053e10f",
   "metadata": {},
   "outputs": [],
   "source": []
  },
  {
   "cell_type": "code",
   "execution_count": null,
   "id": "87631ac6",
   "metadata": {},
   "outputs": [],
   "source": []
  },
  {
   "cell_type": "code",
   "execution_count": null,
   "id": "bce27fae",
   "metadata": {},
   "outputs": [],
   "source": []
  },
  {
   "cell_type": "code",
   "execution_count": null,
   "id": "5a8ce046",
   "metadata": {},
   "outputs": [],
   "source": []
  },
  {
   "cell_type": "code",
   "execution_count": null,
   "id": "1e425eb5",
   "metadata": {},
   "outputs": [],
   "source": []
  },
  {
   "cell_type": "code",
   "execution_count": null,
   "id": "d35f0c04",
   "metadata": {},
   "outputs": [],
   "source": []
  },
  {
   "cell_type": "code",
   "execution_count": null,
   "id": "316593dc",
   "metadata": {},
   "outputs": [],
   "source": []
  },
  {
   "cell_type": "code",
   "execution_count": null,
   "id": "9890bffd",
   "metadata": {},
   "outputs": [],
   "source": []
  },
  {
   "cell_type": "code",
   "execution_count": null,
   "id": "350c71be",
   "metadata": {},
   "outputs": [],
   "source": []
  },
  {
   "cell_type": "code",
   "execution_count": null,
   "id": "8c362238",
   "metadata": {},
   "outputs": [],
   "source": []
  },
  {
   "cell_type": "code",
   "execution_count": null,
   "id": "746770ae",
   "metadata": {},
   "outputs": [],
   "source": []
  },
  {
   "cell_type": "code",
   "execution_count": null,
   "id": "acda3f2c",
   "metadata": {},
   "outputs": [],
   "source": []
  },
  {
   "cell_type": "code",
   "execution_count": null,
   "id": "cb9d6d7f",
   "metadata": {},
   "outputs": [],
   "source": []
  }
 ],
 "metadata": {
  "kernelspec": {
   "display_name": "Python 3 (ipykernel)",
   "language": "python",
   "name": "python3"
  },
  "language_info": {
   "codemirror_mode": {
    "name": "ipython",
    "version": 3
   },
   "file_extension": ".py",
   "mimetype": "text/x-python",
   "name": "python",
   "nbconvert_exporter": "python",
   "pygments_lexer": "ipython3",
   "version": "3.11.1"
  }
 },
 "nbformat": 4,
 "nbformat_minor": 5
}
