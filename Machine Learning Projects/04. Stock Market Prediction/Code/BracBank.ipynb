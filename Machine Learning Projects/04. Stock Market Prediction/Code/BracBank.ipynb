{
 "cells": [
  {
   "cell_type": "code",
   "execution_count": 33,
   "metadata": {
    "executionInfo": {
     "elapsed": 435,
     "status": "ok",
     "timestamp": 1661717587320,
     "user": {
      "displayName": "Sabboshachi Sarkar",
      "userId": "04069010327666808480"
     },
     "user_tz": -360
    },
    "id": "-djV6WiE_YlA"
   },
   "outputs": [],
   "source": [
    "import pandas as pd\n",
    "import matplotlib.pyplot as plt\n",
    "import numpy as np"
   ]
  },
  {
   "cell_type": "code",
   "execution_count": 2,
   "metadata": {},
   "outputs": [],
   "source": [
    "df = pd.read_csv(\"../Dataset/BracBank.csv\")"
   ]
  },
  {
   "cell_type": "code",
   "execution_count": 3,
   "metadata": {
    "colab": {
     "base_uri": "https://localhost:8080/",
     "height": 424
    },
    "executionInfo": {
     "elapsed": 6,
     "status": "ok",
     "timestamp": 1661717587770,
     "user": {
      "displayName": "Sabboshachi Sarkar",
      "userId": "04069010327666808480"
     },
     "user_tz": -360
    },
    "id": "JYjEBzPz_1As",
    "outputId": "ded541f5-42fb-4f97-80ee-b410d96e1ebf"
   },
   "outputs": [
    {
     "data": {
      "text/html": [
       "<div>\n",
       "<style scoped>\n",
       "    .dataframe tbody tr th:only-of-type {\n",
       "        vertical-align: middle;\n",
       "    }\n",
       "\n",
       "    .dataframe tbody tr th {\n",
       "        vertical-align: top;\n",
       "    }\n",
       "\n",
       "    .dataframe thead th {\n",
       "        text-align: right;\n",
       "    }\n",
       "</style>\n",
       "<table border=\"1\" class=\"dataframe\">\n",
       "  <thead>\n",
       "    <tr style=\"text-align: right;\">\n",
       "      <th></th>\n",
       "      <th>Date</th>\n",
       "      <th>Open</th>\n",
       "      <th>High</th>\n",
       "      <th>Low</th>\n",
       "      <th>Close</th>\n",
       "      <th>Volume</th>\n",
       "    </tr>\n",
       "  </thead>\n",
       "  <tbody>\n",
       "    <tr>\n",
       "      <th>0</th>\n",
       "      <td>2007-02-14</td>\n",
       "      <td>5.45</td>\n",
       "      <td>5.57</td>\n",
       "      <td>5.13</td>\n",
       "      <td>5.21</td>\n",
       "      <td>8.230592e+06</td>\n",
       "    </tr>\n",
       "    <tr>\n",
       "      <th>1</th>\n",
       "      <td>2007-02-15</td>\n",
       "      <td>5.54</td>\n",
       "      <td>5.82</td>\n",
       "      <td>5.54</td>\n",
       "      <td>5.63</td>\n",
       "      <td>2.666820e+07</td>\n",
       "    </tr>\n",
       "    <tr>\n",
       "      <th>2</th>\n",
       "      <td>2007-02-19</td>\n",
       "      <td>5.25</td>\n",
       "      <td>5.39</td>\n",
       "      <td>5.22</td>\n",
       "      <td>5.30</td>\n",
       "      <td>8.539239e+06</td>\n",
       "    </tr>\n",
       "    <tr>\n",
       "      <th>3</th>\n",
       "      <td>2007-02-20</td>\n",
       "      <td>5.36</td>\n",
       "      <td>5.36</td>\n",
       "      <td>5.10</td>\n",
       "      <td>5.15</td>\n",
       "      <td>1.550275e+07</td>\n",
       "    </tr>\n",
       "    <tr>\n",
       "      <th>4</th>\n",
       "      <td>2007-02-22</td>\n",
       "      <td>5.09</td>\n",
       "      <td>5.19</td>\n",
       "      <td>4.85</td>\n",
       "      <td>4.90</td>\n",
       "      <td>1.308772e+07</td>\n",
       "    </tr>\n",
       "  </tbody>\n",
       "</table>\n",
       "</div>"
      ],
      "text/plain": [
       "         Date  Open  High   Low  Close        Volume\n",
       "0  2007-02-14  5.45  5.57  5.13   5.21  8.230592e+06\n",
       "1  2007-02-15  5.54  5.82  5.54   5.63  2.666820e+07\n",
       "2  2007-02-19  5.25  5.39  5.22   5.30  8.539239e+06\n",
       "3  2007-02-20  5.36  5.36  5.10   5.15  1.550275e+07\n",
       "4  2007-02-22  5.09  5.19  4.85   4.90  1.308772e+07"
      ]
     },
     "execution_count": 3,
     "metadata": {},
     "output_type": "execute_result"
    }
   ],
   "source": [
    "df.head()"
   ]
  },
  {
   "cell_type": "code",
   "execution_count": 4,
   "metadata": {},
   "outputs": [
    {
     "data": {
      "text/plain": [
       "Date      0\n",
       "Open      0\n",
       "High      0\n",
       "Low       0\n",
       "Close     0\n",
       "Volume    0\n",
       "dtype: int64"
      ]
     },
     "execution_count": 4,
     "metadata": {},
     "output_type": "execute_result"
    }
   ],
   "source": [
    "df.isnull().sum()"
   ]
  },
  {
   "cell_type": "code",
   "execution_count": 5,
   "metadata": {},
   "outputs": [
    {
     "data": {
      "text/html": [
       "<div>\n",
       "<style scoped>\n",
       "    .dataframe tbody tr th:only-of-type {\n",
       "        vertical-align: middle;\n",
       "    }\n",
       "\n",
       "    .dataframe tbody tr th {\n",
       "        vertical-align: top;\n",
       "    }\n",
       "\n",
       "    .dataframe thead th {\n",
       "        text-align: right;\n",
       "    }\n",
       "</style>\n",
       "<table border=\"1\" class=\"dataframe\">\n",
       "  <thead>\n",
       "    <tr style=\"text-align: right;\">\n",
       "      <th></th>\n",
       "      <th>Open</th>\n",
       "      <th>High</th>\n",
       "      <th>Low</th>\n",
       "      <th>Close</th>\n",
       "      <th>Volume</th>\n",
       "    </tr>\n",
       "  </thead>\n",
       "  <tbody>\n",
       "    <tr>\n",
       "      <th>count</th>\n",
       "      <td>2907.000000</td>\n",
       "      <td>2907.000000</td>\n",
       "      <td>2907.000000</td>\n",
       "      <td>2907.000000</td>\n",
       "      <td>2.907000e+03</td>\n",
       "    </tr>\n",
       "    <tr>\n",
       "      <th>mean</th>\n",
       "      <td>26.020791</td>\n",
       "      <td>26.393760</td>\n",
       "      <td>25.641359</td>\n",
       "      <td>25.977107</td>\n",
       "      <td>3.171766e+06</td>\n",
       "    </tr>\n",
       "    <tr>\n",
       "      <th>std</th>\n",
       "      <td>16.823499</td>\n",
       "      <td>17.022977</td>\n",
       "      <td>16.568481</td>\n",
       "      <td>16.772077</td>\n",
       "      <td>4.249563e+06</td>\n",
       "    </tr>\n",
       "    <tr>\n",
       "      <th>min</th>\n",
       "      <td>4.480000</td>\n",
       "      <td>4.620000</td>\n",
       "      <td>4.460000</td>\n",
       "      <td>4.560000</td>\n",
       "      <td>5.892075e+02</td>\n",
       "    </tr>\n",
       "    <tr>\n",
       "      <th>25%</th>\n",
       "      <td>11.860000</td>\n",
       "      <td>12.130000</td>\n",
       "      <td>11.700000</td>\n",
       "      <td>11.890000</td>\n",
       "      <td>7.853634e+05</td>\n",
       "    </tr>\n",
       "    <tr>\n",
       "      <th>50%</th>\n",
       "      <td>17.720000</td>\n",
       "      <td>17.960000</td>\n",
       "      <td>17.530000</td>\n",
       "      <td>17.770000</td>\n",
       "      <td>1.674354e+06</td>\n",
       "    </tr>\n",
       "    <tr>\n",
       "      <th>75%</th>\n",
       "      <td>42.520000</td>\n",
       "      <td>43.060000</td>\n",
       "      <td>41.960000</td>\n",
       "      <td>42.495000</td>\n",
       "      <td>3.674490e+06</td>\n",
       "    </tr>\n",
       "    <tr>\n",
       "      <th>max</th>\n",
       "      <td>64.500000</td>\n",
       "      <td>65.930000</td>\n",
       "      <td>63.140000</td>\n",
       "      <td>64.320000</td>\n",
       "      <td>4.587806e+07</td>\n",
       "    </tr>\n",
       "  </tbody>\n",
       "</table>\n",
       "</div>"
      ],
      "text/plain": [
       "              Open         High          Low        Close        Volume\n",
       "count  2907.000000  2907.000000  2907.000000  2907.000000  2.907000e+03\n",
       "mean     26.020791    26.393760    25.641359    25.977107  3.171766e+06\n",
       "std      16.823499    17.022977    16.568481    16.772077  4.249563e+06\n",
       "min       4.480000     4.620000     4.460000     4.560000  5.892075e+02\n",
       "25%      11.860000    12.130000    11.700000    11.890000  7.853634e+05\n",
       "50%      17.720000    17.960000    17.530000    17.770000  1.674354e+06\n",
       "75%      42.520000    43.060000    41.960000    42.495000  3.674490e+06\n",
       "max      64.500000    65.930000    63.140000    64.320000  4.587806e+07"
      ]
     },
     "execution_count": 5,
     "metadata": {},
     "output_type": "execute_result"
    }
   ],
   "source": [
    "df.describe()"
   ]
  },
  {
   "cell_type": "code",
   "execution_count": 6,
   "metadata": {},
   "outputs": [],
   "source": [
    "import datetime\n",
    "\n",
    "def str_to_datetime(s):\n",
    "  split = s.split('-')\n",
    "  year, month, day = int(split[0]), int(split[1]), int(split[2])\n",
    "  return datetime.datetime(year=year, month=month, day=day)\n",
    "\n",
    "datetime_object = str_to_datetime('2007-03-05')\n"
   ]
  },
  {
   "cell_type": "code",
   "execution_count": 7,
   "metadata": {},
   "outputs": [
    {
     "data": {
      "text/plain": [
       "datetime.datetime(2007, 3, 5, 0, 0)"
      ]
     },
     "execution_count": 7,
     "metadata": {},
     "output_type": "execute_result"
    }
   ],
   "source": [
    "datetime_object"
   ]
  },
  {
   "cell_type": "code",
   "execution_count": 8,
   "metadata": {},
   "outputs": [],
   "source": [
    "WorkingData = df.copy()"
   ]
  },
  {
   "cell_type": "code",
   "execution_count": 9,
   "metadata": {},
   "outputs": [],
   "source": [
    "WorkingData['Date'] = WorkingData['Date'].apply(str_to_datetime)"
   ]
  },
  {
   "cell_type": "code",
   "execution_count": 10,
   "metadata": {},
   "outputs": [
    {
     "data": {
      "text/plain": [
       "0      2007-02-14\n",
       "1      2007-02-15\n",
       "2      2007-02-19\n",
       "3      2007-02-20\n",
       "4      2007-02-22\n",
       "          ...    \n",
       "2902   2022-08-04\n",
       "2903   2022-08-08\n",
       "2904   2022-08-10\n",
       "2905   2022-08-11\n",
       "2906   2022-08-16\n",
       "Name: Date, Length: 2907, dtype: datetime64[ns]"
      ]
     },
     "execution_count": 10,
     "metadata": {},
     "output_type": "execute_result"
    }
   ],
   "source": [
    "WorkingData['Date']"
   ]
  },
  {
   "cell_type": "code",
   "execution_count": 11,
   "metadata": {},
   "outputs": [],
   "source": [
    "WorkingData.index = WorkingData.pop('Date')"
   ]
  },
  {
   "cell_type": "code",
   "execution_count": 12,
   "metadata": {},
   "outputs": [
    {
     "data": {
      "text/plain": [
       "DatetimeIndex(['2007-02-14', '2007-02-15', '2007-02-19', '2007-02-20',\n",
       "               '2007-02-22', '2007-02-26', '2007-02-27', '2007-02-28',\n",
       "               '2007-03-01', '2007-03-05',\n",
       "               ...\n",
       "               '2022-07-27', '2022-07-28', '2022-08-01', '2022-08-02',\n",
       "               '2022-08-03', '2022-08-04', '2022-08-08', '2022-08-10',\n",
       "               '2022-08-11', '2022-08-16'],\n",
       "              dtype='datetime64[ns]', name='Date', length=2907, freq=None)"
      ]
     },
     "execution_count": 12,
     "metadata": {},
     "output_type": "execute_result"
    }
   ],
   "source": [
    "WorkingData.index"
   ]
  },
  {
   "cell_type": "code",
   "execution_count": 18,
   "metadata": {},
   "outputs": [
    {
     "data": {
      "text/plain": [
       "<matplotlib.legend.Legend at 0x192a18f8390>"
      ]
     },
     "execution_count": 18,
     "metadata": {},
     "output_type": "execute_result"
    },
    {
     "data": {
      "image/png": "[encoded data removed]",
      "text/plain": [
       "<Figure size 640x480 with 1 Axes>"
      ]
     },
     "metadata": {},
     "output_type": "display_data"
    }
   ],
   "source": [
    "plt.plot(df.index, df['Close'])\n",
    "plt.legend(['Close'])"
   ]
  },
  {
   "cell_type": "code",
   "execution_count": 16,
   "metadata": {},
   "outputs": [],
   "source": [
    "WorkingData[\"Tomorrow\"] = WorkingData[\"Close\"].shift(-1)"
   ]
  },
  {
   "cell_type": "code",
   "execution_count": 20,
   "metadata": {},
   "outputs": [
    {
     "data": {
      "text/html": [
       "<div>\n",
       "<style scoped>\n",
       "    .dataframe tbody tr th:only-of-type {\n",
       "        vertical-align: middle;\n",
       "    }\n",
       "\n",
       "    .dataframe tbody tr th {\n",
       "        vertical-align: top;\n",
       "    }\n",
       "\n",
       "    .dataframe thead th {\n",
       "        text-align: right;\n",
       "    }\n",
       "</style>\n",
       "<table border=\"1\" class=\"dataframe\">\n",
       "  <thead>\n",
       "    <tr style=\"text-align: right;\">\n",
       "      <th></th>\n",
       "      <th>Open</th>\n",
       "      <th>High</th>\n",
       "      <th>Low</th>\n",
       "      <th>Close</th>\n",
       "      <th>Volume</th>\n",
       "      <th>Tomorrow</th>\n",
       "    </tr>\n",
       "    <tr>\n",
       "      <th>Date</th>\n",
       "      <th></th>\n",
       "      <th></th>\n",
       "      <th></th>\n",
       "      <th></th>\n",
       "      <th></th>\n",
       "      <th></th>\n",
       "    </tr>\n",
       "  </thead>\n",
       "  <tbody>\n",
       "    <tr>\n",
       "      <th>2007-02-14</th>\n",
       "      <td>5.45</td>\n",
       "      <td>5.57</td>\n",
       "      <td>5.13</td>\n",
       "      <td>5.21</td>\n",
       "      <td>8.230592e+06</td>\n",
       "      <td>5.63</td>\n",
       "    </tr>\n",
       "    <tr>\n",
       "      <th>2007-02-15</th>\n",
       "      <td>5.54</td>\n",
       "      <td>5.82</td>\n",
       "      <td>5.54</td>\n",
       "      <td>5.63</td>\n",
       "      <td>2.666820e+07</td>\n",
       "      <td>5.30</td>\n",
       "    </tr>\n",
       "    <tr>\n",
       "      <th>2007-02-19</th>\n",
       "      <td>5.25</td>\n",
       "      <td>5.39</td>\n",
       "      <td>5.22</td>\n",
       "      <td>5.30</td>\n",
       "      <td>8.539239e+06</td>\n",
       "      <td>5.15</td>\n",
       "    </tr>\n",
       "    <tr>\n",
       "      <th>2007-02-20</th>\n",
       "      <td>5.36</td>\n",
       "      <td>5.36</td>\n",
       "      <td>5.10</td>\n",
       "      <td>5.15</td>\n",
       "      <td>1.550275e+07</td>\n",
       "      <td>4.90</td>\n",
       "    </tr>\n",
       "    <tr>\n",
       "      <th>2007-02-22</th>\n",
       "      <td>5.09</td>\n",
       "      <td>5.19</td>\n",
       "      <td>4.85</td>\n",
       "      <td>4.90</td>\n",
       "      <td>1.308772e+07</td>\n",
       "      <td>4.61</td>\n",
       "    </tr>\n",
       "  </tbody>\n",
       "</table>\n",
       "</div>"
      ],
      "text/plain": [
       "            Open  High   Low  Close        Volume  Tomorrow\n",
       "Date                                                       \n",
       "2007-02-14  5.45  5.57  5.13   5.21  8.230592e+06      5.63\n",
       "2007-02-15  5.54  5.82  5.54   5.63  2.666820e+07      5.30\n",
       "2007-02-19  5.25  5.39  5.22   5.30  8.539239e+06      5.15\n",
       "2007-02-20  5.36  5.36  5.10   5.15  1.550275e+07      4.90\n",
       "2007-02-22  5.09  5.19  4.85   4.90  1.308772e+07      4.61"
      ]
     },
     "execution_count": 20,
     "metadata": {},
     "output_type": "execute_result"
    }
   ],
   "source": [
    "WorkingData.head()"
   ]
  },
  {
   "cell_type": "code",
   "execution_count": 21,
   "metadata": {},
   "outputs": [],
   "source": [
    "WorkingData[\"Target\"] = (WorkingData[\"Tomorrow\"] > WorkingData[\"Close\"]).astype(int)"
   ]
  },
  {
   "cell_type": "code",
   "execution_count": 25,
   "metadata": {},
   "outputs": [
    {
     "data": {
      "text/html": [
       "<div>\n",
       "<style scoped>\n",
       "    .dataframe tbody tr th:only-of-type {\n",
       "        vertical-align: middle;\n",
       "    }\n",
       "\n",
       "    .dataframe tbody tr th {\n",
       "        vertical-align: top;\n",
       "    }\n",
       "\n",
       "    .dataframe thead th {\n",
       "        text-align: right;\n",
       "    }\n",
       "</style>\n",
       "<table border=\"1\" class=\"dataframe\">\n",
       "  <thead>\n",
       "    <tr style=\"text-align: right;\">\n",
       "      <th></th>\n",
       "      <th>Open</th>\n",
       "      <th>High</th>\n",
       "      <th>Low</th>\n",
       "      <th>Close</th>\n",
       "      <th>Volume</th>\n",
       "      <th>Tomorrow</th>\n",
       "      <th>Target</th>\n",
       "    </tr>\n",
       "    <tr>\n",
       "      <th>Date</th>\n",
       "      <th></th>\n",
       "      <th></th>\n",
       "      <th></th>\n",
       "      <th></th>\n",
       "      <th></th>\n",
       "      <th></th>\n",
       "      <th></th>\n",
       "    </tr>\n",
       "  </thead>\n",
       "  <tbody>\n",
       "    <tr>\n",
       "      <th>2007-02-14</th>\n",
       "      <td>5.45</td>\n",
       "      <td>5.57</td>\n",
       "      <td>5.13</td>\n",
       "      <td>5.21</td>\n",
       "      <td>8.230592e+06</td>\n",
       "      <td>5.63</td>\n",
       "      <td>1</td>\n",
       "    </tr>\n",
       "    <tr>\n",
       "      <th>2007-02-15</th>\n",
       "      <td>5.54</td>\n",
       "      <td>5.82</td>\n",
       "      <td>5.54</td>\n",
       "      <td>5.63</td>\n",
       "      <td>2.666820e+07</td>\n",
       "      <td>5.30</td>\n",
       "      <td>0</td>\n",
       "    </tr>\n",
       "    <tr>\n",
       "      <th>2007-02-19</th>\n",
       "      <td>5.25</td>\n",
       "      <td>5.39</td>\n",
       "      <td>5.22</td>\n",
       "      <td>5.30</td>\n",
       "      <td>8.539239e+06</td>\n",
       "      <td>5.15</td>\n",
       "      <td>0</td>\n",
       "    </tr>\n",
       "    <tr>\n",
       "      <th>2007-02-20</th>\n",
       "      <td>5.36</td>\n",
       "      <td>5.36</td>\n",
       "      <td>5.10</td>\n",
       "      <td>5.15</td>\n",
       "      <td>1.550275e+07</td>\n",
       "      <td>4.90</td>\n",
       "      <td>0</td>\n",
       "    </tr>\n",
       "    <tr>\n",
       "      <th>2007-02-22</th>\n",
       "      <td>5.09</td>\n",
       "      <td>5.19</td>\n",
       "      <td>4.85</td>\n",
       "      <td>4.90</td>\n",
       "      <td>1.308772e+07</td>\n",
       "      <td>4.61</td>\n",
       "      <td>0</td>\n",
       "    </tr>\n",
       "  </tbody>\n",
       "</table>\n",
       "</div>"
      ],
      "text/plain": [
       "            Open  High   Low  Close        Volume  Tomorrow  Target\n",
       "Date                                                               \n",
       "2007-02-14  5.45  5.57  5.13   5.21  8.230592e+06      5.63       1\n",
       "2007-02-15  5.54  5.82  5.54   5.63  2.666820e+07      5.30       0\n",
       "2007-02-19  5.25  5.39  5.22   5.30  8.539239e+06      5.15       0\n",
       "2007-02-20  5.36  5.36  5.10   5.15  1.550275e+07      4.90       0\n",
       "2007-02-22  5.09  5.19  4.85   4.90  1.308772e+07      4.61       0"
      ]
     },
     "execution_count": 25,
     "metadata": {},
     "output_type": "execute_result"
    }
   ],
   "source": [
    "WorkingData.head()"
   ]
  },
  {
   "cell_type": "code",
   "execution_count": 28,
   "metadata": {},
   "outputs": [
    {
     "data": {
      "text/plain": [
       "0    1607\n",
       "1    1300\n",
       "Name: Target, dtype: int64"
      ]
     },
     "execution_count": 28,
     "metadata": {},
     "output_type": "execute_result"
    }
   ],
   "source": [
    "WorkingData[\"Target\"].value_counts()"
   ]
  },
  {
   "cell_type": "code",
   "execution_count": 61,
   "metadata": {},
   "outputs": [
    {
     "data": {
      "text/plain": [
       "((2907,), (2907, 4, 1), (2907,))"
      ]
     },
     "execution_count": 61,
     "metadata": {},
     "output_type": "execute_result"
    }
   ],
   "source": [
    "def windowed_df_to_date_X_y(windowed_dataframe):\n",
    "    df_as_np = windowed_dataframe.to_numpy()\n",
    "    dates = WorkingData.index\n",
    "    middle_matrix = df_as_np[0:, 0:4]\n",
    "    X = middle_matrix.reshape((len(dates), middle_matrix.shape[1], 1))\n",
    "    Y = df_as_np[:, -1]\n",
    "    return dates, X.astype(np.float32), Y.astype(np.float32)\n",
    "\n",
    "dates, X, y = windowed_df_to_date_X_y(WorkingData)\n",
    "dates.shape, X.shape, y.shape"
   ]
  },
  {
   "cell_type": "code",
   "execution_count": 62,
   "metadata": {},
   "outputs": [
    {
     "data": {
      "text/plain": [
       "DatetimeIndex(['2007-02-14', '2007-02-15', '2007-02-19', '2007-02-20',\n",
       "               '2007-02-22', '2007-02-26', '2007-02-27', '2007-02-28',\n",
       "               '2007-03-01', '2007-03-05',\n",
       "               ...\n",
       "               '2022-07-27', '2022-07-28', '2022-08-01', '2022-08-02',\n",
       "               '2022-08-03', '2022-08-04', '2022-08-08', '2022-08-10',\n",
       "               '2022-08-11', '2022-08-16'],\n",
       "              dtype='datetime64[ns]', name='Date', length=2907, freq=None)"
      ]
     },
     "execution_count": 62,
     "metadata": {},
     "output_type": "execute_result"
    }
   ],
   "source": [
    "dates"
   ]
  },
  {
   "cell_type": "code",
   "execution_count": 63,
   "metadata": {},
   "outputs": [
    {
     "data": {
      "text/plain": [
       "array([[[ 5.45],\n",
       "        [ 5.57],\n",
       "        [ 5.13],\n",
       "        [ 5.21]],\n",
       "\n",
       "       [[ 5.54],\n",
       "        [ 5.82],\n",
       "        [ 5.54],\n",
       "        [ 5.63]],\n",
       "\n",
       "       [[ 5.25],\n",
       "        [ 5.39],\n",
       "        [ 5.22],\n",
       "        [ 5.3 ]],\n",
       "\n",
       "       ...,\n",
       "\n",
       "       [[39.8 ],\n",
       "        [39.8 ],\n",
       "        [38.8 ],\n",
       "        [39.5 ]],\n",
       "\n",
       "       [[39.  ],\n",
       "        [39.4 ],\n",
       "        [38.8 ],\n",
       "        [38.9 ]],\n",
       "\n",
       "       [[39.7 ],\n",
       "        [39.7 ],\n",
       "        [38.9 ],\n",
       "        [39.  ]]], dtype=float32)"
      ]
     },
     "execution_count": 63,
     "metadata": {},
     "output_type": "execute_result"
    }
   ],
   "source": [
    "X"
   ]
  },
  {
   "cell_type": "code",
   "execution_count": 47,
   "metadata": {},
   "outputs": [
    {
     "data": {
      "text/html": [
       "<div>\n",
       "<style scoped>\n",
       "    .dataframe tbody tr th:only-of-type {\n",
       "        vertical-align: middle;\n",
       "    }\n",
       "\n",
       "    .dataframe tbody tr th {\n",
       "        vertical-align: top;\n",
       "    }\n",
       "\n",
       "    .dataframe thead th {\n",
       "        text-align: right;\n",
       "    }\n",
       "</style>\n",
       "<table border=\"1\" class=\"dataframe\">\n",
       "  <thead>\n",
       "    <tr style=\"text-align: right;\">\n",
       "      <th></th>\n",
       "      <th>Target</th>\n",
       "    </tr>\n",
       "    <tr>\n",
       "      <th>Date</th>\n",
       "      <th></th>\n",
       "    </tr>\n",
       "  </thead>\n",
       "  <tbody>\n",
       "    <tr>\n",
       "      <th>2007-02-14</th>\n",
       "      <td>1</td>\n",
       "    </tr>\n",
       "    <tr>\n",
       "      <th>2007-02-15</th>\n",
       "      <td>0</td>\n",
       "    </tr>\n",
       "    <tr>\n",
       "      <th>2007-02-19</th>\n",
       "      <td>0</td>\n",
       "    </tr>\n",
       "    <tr>\n",
       "      <th>2007-02-20</th>\n",
       "      <td>0</td>\n",
       "    </tr>\n",
       "    <tr>\n",
       "      <th>2007-02-22</th>\n",
       "      <td>0</td>\n",
       "    </tr>\n",
       "    <tr>\n",
       "      <th>...</th>\n",
       "      <td>...</td>\n",
       "    </tr>\n",
       "    <tr>\n",
       "      <th>2022-08-04</th>\n",
       "      <td>0</td>\n",
       "    </tr>\n",
       "    <tr>\n",
       "      <th>2022-08-08</th>\n",
       "      <td>1</td>\n",
       "    </tr>\n",
       "    <tr>\n",
       "      <th>2022-08-10</th>\n",
       "      <td>0</td>\n",
       "    </tr>\n",
       "    <tr>\n",
       "      <th>2022-08-11</th>\n",
       "      <td>1</td>\n",
       "    </tr>\n",
       "    <tr>\n",
       "      <th>2022-08-16</th>\n",
       "      <td>0</td>\n",
       "    </tr>\n",
       "  </tbody>\n",
       "</table>\n",
       "<p>2907 rows × 1 columns</p>\n",
       "</div>"
      ],
      "text/plain": [
       "            Target\n",
       "Date              \n",
       "2007-02-14       1\n",
       "2007-02-15       0\n",
       "2007-02-19       0\n",
       "2007-02-20       0\n",
       "2007-02-22       0\n",
       "...            ...\n",
       "2022-08-04       0\n",
       "2022-08-08       1\n",
       "2022-08-10       0\n",
       "2022-08-11       1\n",
       "2022-08-16       0\n",
       "\n",
       "[2907 rows x 1 columns]"
      ]
     },
     "execution_count": 47,
     "metadata": {},
     "output_type": "execute_result"
    }
   ],
   "source": [
    "Y"
   ]
  },
  {
   "cell_type": "code",
   "execution_count": 67,
   "metadata": {},
   "outputs": [
    {
     "data": {
      "text/plain": [
       "<matplotlib.legend.Legend at 0x192c9920790>"
      ]
     },
     "execution_count": 67,
     "metadata": {},
     "output_type": "execute_result"
    },
    {
     "data": {
      "image/png": "[encoded data removed]",
      "text/plain": [
       "<Figure size 640x480 with 1 Axes>"
      ]
     },
     "metadata": {},
     "output_type": "display_data"
    }
   ],
   "source": [
    "q_80 = int(len(dates) * .8)\n",
    "dates_train, X_train, y_train = dates[:q_80], X[:q_80], y[:q_80]\n",
    "dates_test, X_test, y_test = dates[q_80:], X[q_80:], y[q_80:]\n",
    "plt.plot(dates_train, y_train)\n",
    "plt.plot(dates_test, y_test)\n",
    "plt.legend(['Train', 'Test'])"
   ]
  },
  {
   "cell_type": "code",
   "execution_count": null,
   "metadata": {},
   "outputs": [],
   "source": []
  },
  {
   "cell_type": "code",
   "execution_count": null,
   "metadata": {},
   "outputs": [],
   "source": []
  },
  {
   "cell_type": "code",
   "execution_count": 29,
   "metadata": {},
   "outputs": [],
   "source": [
    "X = pd.DataFrame(WorkingData,columns=[ 'Open', 'High', 'Low', 'Close', 'Volume'])\n",
    "Y = pd.DataFrame(WorkingData,columns=['Target'])"
   ]
  },
  {
   "cell_type": "code",
   "execution_count": 30,
   "metadata": {},
   "outputs": [
    {
     "data": {
      "text/plain": [
       "(2907, 1)"
      ]
     },
     "execution_count": 30,
     "metadata": {},
     "output_type": "execute_result"
    }
   ],
   "source": [
    "Y.shape"
   ]
  },
  {
   "cell_type": "code",
   "execution_count": 31,
   "metadata": {},
   "outputs": [
    {
     "data": {
      "text/html": [
       "<div>\n",
       "<style scoped>\n",
       "    .dataframe tbody tr th:only-of-type {\n",
       "        vertical-align: middle;\n",
       "    }\n",
       "\n",
       "    .dataframe tbody tr th {\n",
       "        vertical-align: top;\n",
       "    }\n",
       "\n",
       "    .dataframe thead th {\n",
       "        text-align: right;\n",
       "    }\n",
       "</style>\n",
       "<table border=\"1\" class=\"dataframe\">\n",
       "  <thead>\n",
       "    <tr style=\"text-align: right;\">\n",
       "      <th></th>\n",
       "      <th>Open</th>\n",
       "      <th>High</th>\n",
       "      <th>Low</th>\n",
       "      <th>Close</th>\n",
       "      <th>Volume</th>\n",
       "    </tr>\n",
       "    <tr>\n",
       "      <th>Date</th>\n",
       "      <th></th>\n",
       "      <th></th>\n",
       "      <th></th>\n",
       "      <th></th>\n",
       "      <th></th>\n",
       "    </tr>\n",
       "  </thead>\n",
       "  <tbody>\n",
       "    <tr>\n",
       "      <th>2007-02-14</th>\n",
       "      <td>5.45</td>\n",
       "      <td>5.57</td>\n",
       "      <td>5.13</td>\n",
       "      <td>5.21</td>\n",
       "      <td>8.230592e+06</td>\n",
       "    </tr>\n",
       "    <tr>\n",
       "      <th>2007-02-15</th>\n",
       "      <td>5.54</td>\n",
       "      <td>5.82</td>\n",
       "      <td>5.54</td>\n",
       "      <td>5.63</td>\n",
       "      <td>2.666820e+07</td>\n",
       "    </tr>\n",
       "    <tr>\n",
       "      <th>2007-02-19</th>\n",
       "      <td>5.25</td>\n",
       "      <td>5.39</td>\n",
       "      <td>5.22</td>\n",
       "      <td>5.30</td>\n",
       "      <td>8.539239e+06</td>\n",
       "    </tr>\n",
       "    <tr>\n",
       "      <th>2007-02-20</th>\n",
       "      <td>5.36</td>\n",
       "      <td>5.36</td>\n",
       "      <td>5.10</td>\n",
       "      <td>5.15</td>\n",
       "      <td>1.550275e+07</td>\n",
       "    </tr>\n",
       "    <tr>\n",
       "      <th>2007-02-22</th>\n",
       "      <td>5.09</td>\n",
       "      <td>5.19</td>\n",
       "      <td>4.85</td>\n",
       "      <td>4.90</td>\n",
       "      <td>1.308772e+07</td>\n",
       "    </tr>\n",
       "    <tr>\n",
       "      <th>...</th>\n",
       "      <td>...</td>\n",
       "      <td>...</td>\n",
       "      <td>...</td>\n",
       "      <td>...</td>\n",
       "      <td>...</td>\n",
       "    </tr>\n",
       "    <tr>\n",
       "      <th>2022-08-04</th>\n",
       "      <td>40.60</td>\n",
       "      <td>40.80</td>\n",
       "      <td>39.60</td>\n",
       "      <td>40.00</td>\n",
       "      <td>7.309170e+05</td>\n",
       "    </tr>\n",
       "    <tr>\n",
       "      <th>2022-08-08</th>\n",
       "      <td>39.50</td>\n",
       "      <td>39.70</td>\n",
       "      <td>39.00</td>\n",
       "      <td>39.20</td>\n",
       "      <td>9.789490e+05</td>\n",
       "    </tr>\n",
       "    <tr>\n",
       "      <th>2022-08-10</th>\n",
       "      <td>39.80</td>\n",
       "      <td>39.80</td>\n",
       "      <td>38.80</td>\n",
       "      <td>39.50</td>\n",
       "      <td>1.344274e+06</td>\n",
       "    </tr>\n",
       "    <tr>\n",
       "      <th>2022-08-11</th>\n",
       "      <td>39.00</td>\n",
       "      <td>39.40</td>\n",
       "      <td>38.80</td>\n",
       "      <td>38.90</td>\n",
       "      <td>1.339250e+05</td>\n",
       "    </tr>\n",
       "    <tr>\n",
       "      <th>2022-08-16</th>\n",
       "      <td>39.70</td>\n",
       "      <td>39.70</td>\n",
       "      <td>38.90</td>\n",
       "      <td>39.00</td>\n",
       "      <td>4.802590e+05</td>\n",
       "    </tr>\n",
       "  </tbody>\n",
       "</table>\n",
       "<p>2907 rows × 5 columns</p>\n",
       "</div>"
      ],
      "text/plain": [
       "             Open   High    Low  Close        Volume\n",
       "Date                                                \n",
       "2007-02-14   5.45   5.57   5.13   5.21  8.230592e+06\n",
       "2007-02-15   5.54   5.82   5.54   5.63  2.666820e+07\n",
       "2007-02-19   5.25   5.39   5.22   5.30  8.539239e+06\n",
       "2007-02-20   5.36   5.36   5.10   5.15  1.550275e+07\n",
       "2007-02-22   5.09   5.19   4.85   4.90  1.308772e+07\n",
       "...           ...    ...    ...    ...           ...\n",
       "2022-08-04  40.60  40.80  39.60  40.00  7.309170e+05\n",
       "2022-08-08  39.50  39.70  39.00  39.20  9.789490e+05\n",
       "2022-08-10  39.80  39.80  38.80  39.50  1.344274e+06\n",
       "2022-08-11  39.00  39.40  38.80  38.90  1.339250e+05\n",
       "2022-08-16  39.70  39.70  38.90  39.00  4.802590e+05\n",
       "\n",
       "[2907 rows x 5 columns]"
      ]
     },
     "execution_count": 31,
     "metadata": {},
     "output_type": "execute_result"
    }
   ],
   "source": [
    "X"
   ]
  },
  {
   "cell_type": "code",
   "execution_count": 36,
   "metadata": {},
   "outputs": [],
   "source": [
    "from sklearn.model_selection import train_test_split"
   ]
  },
  {
   "cell_type": "code",
   "execution_count": 37,
   "metadata": {},
   "outputs": [],
   "source": [
    "X_train, X_test, y_train, y_test = train_test_split(X, Y, test_size=0.2, shuffle= True, random_state=1)"
   ]
  },
  {
   "cell_type": "code",
   "execution_count": 39,
   "metadata": {},
   "outputs": [],
   "source": [
    "from sklearn.model_selection import GridSearchCV"
   ]
  },
  {
   "cell_type": "code",
   "execution_count": 40,
   "metadata": {},
   "outputs": [
    {
     "name": "stdout",
     "output_type": "stream",
     "text": [
      "Best estimator: RandomForestClassifier(max_features='log2')\n",
      "Best params: {'criterion': 'gini', 'max_features': 'log2', 'min_samples_split': 2}\n",
      "Feature importance: [0.1965142  0.19170817 0.18485983 0.1916555  0.2352623 ]\n"
     ]
    }
   ],
   "source": [
    "from sklearn.ensemble import RandomForestClassifier\n",
    "\n",
    "param_grid = {\n",
    "    \"criterion\": [\"gini\", \"entropy\", \"log_loss\"], \n",
    "    \"max_features\": [\"sqrt\", \"log2\"],\"min_samples_split\": [2, 5, 10],\n",
    "}\n",
    "\n",
    "rf = RandomForestClassifier(n_estimators=100)\n",
    "\n",
    "grid = GridSearchCV(estimator=rf, param_grid=param_grid, cv=10, scoring='accuracy', refit=True)\n",
    "grid = grid.fit(X_train, y_train)\n",
    "\n",
    "print('Best estimator:', grid.best_estimator_)\n",
    "print('Best params:', grid.best_params_)\n",
    "\n",
    "# get feature importance of the best estimator\n",
    "feature_importance = grid.best_estimator_.feature_importances_\n",
    "print('Feature importance:', feature_importance)\n"
   ]
  },
  {
   "cell_type": "code",
   "execution_count": 41,
   "metadata": {},
   "outputs": [
    {
     "data": {
      "text/html": [
       "<div>\n",
       "<style scoped>\n",
       "    .dataframe tbody tr th:only-of-type {\n",
       "        vertical-align: middle;\n",
       "    }\n",
       "\n",
       "    .dataframe tbody tr th {\n",
       "        vertical-align: top;\n",
       "    }\n",
       "\n",
       "    .dataframe thead th {\n",
       "        text-align: right;\n",
       "    }\n",
       "</style>\n",
       "<table border=\"1\" class=\"dataframe\">\n",
       "  <thead>\n",
       "    <tr style=\"text-align: right;\">\n",
       "      <th></th>\n",
       "      <th>criterion</th>\n",
       "      <th>max_features</th>\n",
       "      <th>min_samples_split</th>\n",
       "      <th>Validation Accuracy</th>\n",
       "    </tr>\n",
       "  </thead>\n",
       "  <tbody>\n",
       "    <tr>\n",
       "      <th>0</th>\n",
       "      <td>gini</td>\n",
       "      <td>sqrt</td>\n",
       "      <td>2</td>\n",
       "      <td>0.534226</td>\n",
       "    </tr>\n",
       "    <tr>\n",
       "      <th>1</th>\n",
       "      <td>gini</td>\n",
       "      <td>sqrt</td>\n",
       "      <td>5</td>\n",
       "      <td>0.532501</td>\n",
       "    </tr>\n",
       "    <tr>\n",
       "      <th>2</th>\n",
       "      <td>gini</td>\n",
       "      <td>sqrt</td>\n",
       "      <td>10</td>\n",
       "      <td>0.535065</td>\n",
       "    </tr>\n",
       "    <tr>\n",
       "      <th>3</th>\n",
       "      <td>gini</td>\n",
       "      <td>log2</td>\n",
       "      <td>2</td>\n",
       "      <td>0.540232</td>\n",
       "    </tr>\n",
       "    <tr>\n",
       "      <th>4</th>\n",
       "      <td>gini</td>\n",
       "      <td>log2</td>\n",
       "      <td>5</td>\n",
       "      <td>0.533341</td>\n",
       "    </tr>\n",
       "    <tr>\n",
       "      <th>5</th>\n",
       "      <td>gini</td>\n",
       "      <td>log2</td>\n",
       "      <td>10</td>\n",
       "      <td>0.538941</td>\n",
       "    </tr>\n",
       "    <tr>\n",
       "      <th>6</th>\n",
       "      <td>entropy</td>\n",
       "      <td>sqrt</td>\n",
       "      <td>2</td>\n",
       "      <td>0.539807</td>\n",
       "    </tr>\n",
       "    <tr>\n",
       "      <th>7</th>\n",
       "      <td>entropy</td>\n",
       "      <td>sqrt</td>\n",
       "      <td>5</td>\n",
       "      <td>0.523026</td>\n",
       "    </tr>\n",
       "    <tr>\n",
       "      <th>8</th>\n",
       "      <td>entropy</td>\n",
       "      <td>sqrt</td>\n",
       "      <td>10</td>\n",
       "      <td>0.532061</td>\n",
       "    </tr>\n",
       "    <tr>\n",
       "      <th>9</th>\n",
       "      <td>entropy</td>\n",
       "      <td>log2</td>\n",
       "      <td>2</td>\n",
       "      <td>0.527755</td>\n",
       "    </tr>\n",
       "    <tr>\n",
       "      <th>10</th>\n",
       "      <td>entropy</td>\n",
       "      <td>log2</td>\n",
       "      <td>5</td>\n",
       "      <td>0.532054</td>\n",
       "    </tr>\n",
       "    <tr>\n",
       "      <th>11</th>\n",
       "      <td>entropy</td>\n",
       "      <td>log2</td>\n",
       "      <td>10</td>\n",
       "      <td>0.537648</td>\n",
       "    </tr>\n",
       "    <tr>\n",
       "      <th>12</th>\n",
       "      <td>log_loss</td>\n",
       "      <td>sqrt</td>\n",
       "      <td>2</td>\n",
       "      <td>0.538530</td>\n",
       "    </tr>\n",
       "    <tr>\n",
       "      <th>13</th>\n",
       "      <td>log_loss</td>\n",
       "      <td>sqrt</td>\n",
       "      <td>5</td>\n",
       "      <td>0.536344</td>\n",
       "    </tr>\n",
       "    <tr>\n",
       "      <th>14</th>\n",
       "      <td>log_loss</td>\n",
       "      <td>sqrt</td>\n",
       "      <td>10</td>\n",
       "      <td>0.532065</td>\n",
       "    </tr>\n",
       "    <tr>\n",
       "      <th>15</th>\n",
       "      <td>log_loss</td>\n",
       "      <td>log2</td>\n",
       "      <td>2</td>\n",
       "      <td>0.530333</td>\n",
       "    </tr>\n",
       "    <tr>\n",
       "      <th>16</th>\n",
       "      <td>log_loss</td>\n",
       "      <td>log2</td>\n",
       "      <td>5</td>\n",
       "      <td>0.528628</td>\n",
       "    </tr>\n",
       "    <tr>\n",
       "      <th>17</th>\n",
       "      <td>log_loss</td>\n",
       "      <td>log2</td>\n",
       "      <td>10</td>\n",
       "      <td>0.535497</td>\n",
       "    </tr>\n",
       "  </tbody>\n",
       "</table>\n",
       "</div>"
      ],
      "text/plain": [
       "   criterion max_features  min_samples_split  Validation Accuracy\n",
       "0       gini         sqrt                  2             0.534226\n",
       "1       gini         sqrt                  5             0.532501\n",
       "2       gini         sqrt                 10             0.535065\n",
       "3       gini         log2                  2             0.540232\n",
       "4       gini         log2                  5             0.533341\n",
       "5       gini         log2                 10             0.538941\n",
       "6    entropy         sqrt                  2             0.539807\n",
       "7    entropy         sqrt                  5             0.523026\n",
       "8    entropy         sqrt                 10             0.532061\n",
       "9    entropy         log2                  2             0.527755\n",
       "10   entropy         log2                  5             0.532054\n",
       "11   entropy         log2                 10             0.537648\n",
       "12  log_loss         sqrt                  2             0.538530\n",
       "13  log_loss         sqrt                  5             0.536344\n",
       "14  log_loss         sqrt                 10             0.532065\n",
       "15  log_loss         log2                  2             0.530333\n",
       "16  log_loss         log2                  5             0.528628\n",
       "17  log_loss         log2                 10             0.535497"
      ]
     },
     "execution_count": 41,
     "metadata": {},
     "output_type": "execute_result"
    }
   ],
   "source": [
    "results = pd.concat([pd.DataFrame(grid.cv_results_[\"params\"]), pd.DataFrame(grid.cv_results_[\"mean_test_score\"],columns =[\"Validation Accuracy\"] )], axis = 1)\n",
    "results"
   ]
  },
  {
   "cell_type": "code",
   "execution_count": 42,
   "metadata": {},
   "outputs": [
    {
     "name": "stdout",
     "output_type": "stream",
     "text": [
      "Best estimator: 0.5402323516353411\n"
     ]
    }
   ],
   "source": [
    "print('Best estimator:', grid.best_score_)"
   ]
  },
  {
   "cell_type": "markdown",
   "metadata": {},
   "source": [
    "### Random Forest Classifier"
   ]
  },
  {
   "cell_type": "code",
   "execution_count": 40,
   "metadata": {},
   "outputs": [],
   "source": [
    "# from sklearn.ensemble import RandomForestClassifier"
   ]
  },
  {
   "cell_type": "code",
   "execution_count": 43,
   "metadata": {},
   "outputs": [
    {
     "data": {
      "text/html": [
       "<style>#sk-container-id-1 {color: black;background-color: white;}#sk-container-id-1 pre{padding: 0;}#sk-container-id-1 div.sk-toggleable {background-color: white;}#sk-container-id-1 label.sk-toggleable__label {cursor: pointer;display: block;width: 100%;margin-bottom: 0;padding: 0.3em;box-sizing: border-box;text-align: center;}#sk-container-id-1 label.sk-toggleable__label-arrow:before {content: \"▸\";float: left;margin-right: 0.25em;color: #696969;}#sk-container-id-1 label.sk-toggleable__label-arrow:hover:before {color: black;}#sk-container-id-1 div.sk-estimator:hover label.sk-toggleable__label-arrow:before {color: black;}#sk-container-id-1 div.sk-toggleable__content {max-height: 0;max-width: 0;overflow: hidden;text-align: left;background-color: #f0f8ff;}#sk-container-id-1 div.sk-toggleable__content pre {margin: 0.2em;color: black;border-radius: 0.25em;background-color: #f0f8ff;}#sk-container-id-1 input.sk-toggleable__control:checked~div.sk-toggleable__content {max-height: 200px;max-width: 100%;overflow: auto;}#sk-container-id-1 input.sk-toggleable__control:checked~label.sk-toggleable__label-arrow:before {content: \"▾\";}#sk-container-id-1 div.sk-estimator input.sk-toggleable__control:checked~label.sk-toggleable__label {background-color: #d4ebff;}#sk-container-id-1 div.sk-label input.sk-toggleable__control:checked~label.sk-toggleable__label {background-color: #d4ebff;}#sk-container-id-1 input.sk-hidden--visually {border: 0;clip: rect(1px 1px 1px 1px);clip: rect(1px, 1px, 1px, 1px);height: 1px;margin: -1px;overflow: hidden;padding: 0;position: absolute;width: 1px;}#sk-container-id-1 div.sk-estimator {font-family: monospace;background-color: #f0f8ff;border: 1px dotted black;border-radius: 0.25em;box-sizing: border-box;margin-bottom: 0.5em;}#sk-container-id-1 div.sk-estimator:hover {background-color: #d4ebff;}#sk-container-id-1 div.sk-parallel-item::after {content: \"\";width: 100%;border-bottom: 1px solid gray;flex-grow: 1;}#sk-container-id-1 div.sk-label:hover label.sk-toggleable__label {background-color: #d4ebff;}#sk-container-id-1 div.sk-serial::before {content: \"\";position: absolute;border-left: 1px solid gray;box-sizing: border-box;top: 0;bottom: 0;left: 50%;z-index: 0;}#sk-container-id-1 div.sk-serial {display: flex;flex-direction: column;align-items: center;background-color: white;padding-right: 0.2em;padding-left: 0.2em;position: relative;}#sk-container-id-1 div.sk-item {position: relative;z-index: 1;}#sk-container-id-1 div.sk-parallel {display: flex;align-items: stretch;justify-content: center;background-color: white;position: relative;}#sk-container-id-1 div.sk-item::before, #sk-container-id-1 div.sk-parallel-item::before {content: \"\";position: absolute;border-left: 1px solid gray;box-sizing: border-box;top: 0;bottom: 0;left: 50%;z-index: -1;}#sk-container-id-1 div.sk-parallel-item {display: flex;flex-direction: column;z-index: 1;position: relative;background-color: white;}#sk-container-id-1 div.sk-parallel-item:first-child::after {align-self: flex-end;width: 50%;}#sk-container-id-1 div.sk-parallel-item:last-child::after {align-self: flex-start;width: 50%;}#sk-container-id-1 div.sk-parallel-item:only-child::after {width: 0;}#sk-container-id-1 div.sk-dashed-wrapped {border: 1px dashed gray;margin: 0 0.4em 0.5em 0.4em;box-sizing: border-box;padding-bottom: 0.4em;background-color: white;}#sk-container-id-1 div.sk-label label {font-family: monospace;font-weight: bold;display: inline-block;line-height: 1.2em;}#sk-container-id-1 div.sk-label-container {text-align: center;}#sk-container-id-1 div.sk-container {/* jupyter's `normalize.less` sets `[hidden] { display: none; }` but bootstrap.min.css set `[hidden] { display: none !important; }` so we also need the `!important` here to be able to override the default hidden behavior on the sphinx rendered scikit-learn.org. See: https://github.com/scikit-learn/scikit-learn/issues/21755 */display: inline-block !important;position: relative;}#sk-container-id-1 div.sk-text-repr-fallback {display: none;}</style><div id=\"sk-container-id-1\" class=\"sk-top-container\"><div class=\"sk-text-repr-fallback\"><pre>RandomForestClassifier(min_samples_split=100, n_estimators=500, random_state=1)</pre><b>In a Jupyter environment, please rerun this cell to show the HTML representation or trust the notebook. <br />On GitHub, the HTML representation is unable to render, please try loading this page with nbviewer.org.</b></div><div class=\"sk-container\" hidden><div class=\"sk-item\"><div class=\"sk-estimator sk-toggleable\"><input class=\"sk-toggleable__control sk-hidden--visually\" id=\"sk-estimator-id-1\" type=\"checkbox\" checked><label for=\"sk-estimator-id-1\" class=\"sk-toggleable__label sk-toggleable__label-arrow\">RandomForestClassifier</label><div class=\"sk-toggleable__content\"><pre>RandomForestClassifier(min_samples_split=100, n_estimators=500, random_state=1)</pre></div></div></div></div></div>"
      ],
      "text/plain": [
       "RandomForestClassifier(min_samples_split=100, n_estimators=500, random_state=1)"
      ]
     },
     "execution_count": 43,
     "metadata": {},
     "output_type": "execute_result"
    }
   ],
   "source": [
    "# model = RandomForestClassifier(n_estimators = 500, min_samples_split = 100, random_state = 1)\n",
    "\n",
    "# train = WorkingData.iloc[:-100]\n",
    "# test = WorkingData.iloc[-100:]\n",
    "\n",
    "# predictors = [\"Close\", \"Volume\", \"Open\", \"High\", \"Low\"]\n",
    "\n",
    "# model.fit(train[predictors], train[\"Target\"])"
   ]
  },
  {
   "cell_type": "code",
   "execution_count": 45,
   "metadata": {},
   "outputs": [],
   "source": [
    "# from sklearn.metrics import precision_score \n",
    "\n",
    "# preds = model.predict(test[predictors])"
   ]
  },
  {
   "cell_type": "code",
   "execution_count": 46,
   "metadata": {},
   "outputs": [],
   "source": [
    "# perds = pd.Series(preds, index = test.index)"
   ]
  },
  {
   "cell_type": "code",
   "execution_count": 49,
   "metadata": {},
   "outputs": [
    {
     "data": {
      "text/plain": [
       "0.3333333333333333"
      ]
     },
     "execution_count": 49,
     "metadata": {},
     "output_type": "execute_result"
    }
   ],
   "source": [
    "# precision_score(test[\"Target\"], preds)"
   ]
  },
  {
   "cell_type": "code",
   "execution_count": 55,
   "metadata": {},
   "outputs": [],
   "source": [
    "# combined = pd.concat([test[\"Target\"], preds], axis=1)"
   ]
  },
  {
   "cell_type": "code",
   "execution_count": null,
   "metadata": {},
   "outputs": [],
   "source": []
  },
  {
   "cell_type": "code",
   "execution_count": 56,
   "metadata": {},
   "outputs": [],
   "source": [
    "# def predict(train, test, predictors, model):\n",
    "#     model.fit(train[predictors], train[\"Target\"])\n",
    "#     preds = model.predict(test[predictors])\n",
    "#     preds = pd.Series(preds, index = test.index, name=\"Predictions\")\n",
    "#     combined = pd.concat([test[\"Target\"], preds], axis=1)\n",
    "#     return combined"
   ]
  },
  {
   "cell_type": "code",
   "execution_count": 57,
   "metadata": {},
   "outputs": [],
   "source": [
    "# def backtest(data, model, predictors, start=5000, step=250):\n",
    "#     all_predictions = []\n",
    "    \n",
    "#     for i in range(start, data.shape[0], step):\n",
    "#         train = data.iloc[0:i].copy()\n",
    "#         test = data.iloc[i:(i+step)].copy()\n",
    "#         predictions = predict(train, test, predictiors, model)\n",
    "#         all_predictions.append(predictions)\n",
    "#     return pd.concat(all_predictions)"
   ]
  },
  {
   "cell_type": "code",
   "execution_count": 15,
   "metadata": {},
   "outputs": [],
   "source": [
    "# predictions = backtest(WorkingData, model, predictors)"
   ]
  },
  {
   "cell_type": "code",
   "execution_count": null,
   "metadata": {},
   "outputs": [],
   "source": []
  },
  {
   "cell_type": "code",
   "execution_count": null,
   "metadata": {},
   "outputs": [],
   "source": []
  },
  {
   "cell_type": "code",
   "execution_count": null,
   "metadata": {},
   "outputs": [],
   "source": []
  },
  {
   "cell_type": "code",
   "execution_count": null,
   "metadata": {},
   "outputs": [],
   "source": []
  },
  {
   "cell_type": "code",
   "execution_count": null,
   "metadata": {},
   "outputs": [],
   "source": []
  },
  {
   "cell_type": "code",
   "execution_count": null,
   "metadata": {},
   "outputs": [],
   "source": []
  },
  {
   "cell_type": "code",
   "execution_count": null,
   "metadata": {},
   "outputs": [],
   "source": []
  },
  {
   "cell_type": "code",
   "execution_count": null,
   "metadata": {},
   "outputs": [],
   "source": []
  },
  {
   "cell_type": "code",
   "execution_count": null,
   "metadata": {},
   "outputs": [],
   "source": []
  },
  {
   "cell_type": "code",
   "execution_count": 21,
   "metadata": {
    "colab": {
     "base_uri": "https://localhost:8080/",
     "height": 363
    },
    "executionInfo": {
     "elapsed": 924,
     "status": "ok",
     "timestamp": 1661717588689,
     "user": {
      "displayName": "Sabboshachi Sarkar",
      "userId": "04069010327666808480"
     },
     "user_tz": -360
    },
    "id": "ua1YNr-R_4_b",
    "outputId": "fc9743f0-4b8b-496f-8660-480863ddd48f"
   },
   "outputs": [
    {
     "data": {
      "text/html": [
       "\n",
       "  <div id=\"df-58b9904f-93a5-444d-a5c0-8d6b30d879e5\">\n",
       "    <div class=\"colab-df-container\">\n",
       "      <div>\n",
       "<style scoped>\n",
       "    .dataframe tbody tr th:only-of-type {\n",
       "        vertical-align: middle;\n",
       "    }\n",
       "\n",
       "    .dataframe tbody tr th {\n",
       "        vertical-align: top;\n",
       "    }\n",
       "\n",
       "    .dataframe thead th {\n",
       "        text-align: right;\n",
       "    }\n",
       "</style>\n",
       "<table border=\"1\" class=\"dataframe\">\n",
       "  <thead>\n",
       "    <tr style=\"text-align: right;\">\n",
       "      <th></th>\n",
       "      <th>Date</th>\n",
       "      <th>Close</th>\n",
       "    </tr>\n",
       "  </thead>\n",
       "  <tbody>\n",
       "    <tr>\n",
       "      <th>0</th>\n",
       "      <td>2007-02-14</td>\n",
       "      <td>5.21</td>\n",
       "    </tr>\n",
       "    <tr>\n",
       "      <th>1</th>\n",
       "      <td>2007-02-15</td>\n",
       "      <td>5.63</td>\n",
       "    </tr>\n",
       "    <tr>\n",
       "      <th>2</th>\n",
       "      <td>2007-02-19</td>\n",
       "      <td>5.30</td>\n",
       "    </tr>\n",
       "    <tr>\n",
       "      <th>3</th>\n",
       "      <td>2007-02-20</td>\n",
       "      <td>5.15</td>\n",
       "    </tr>\n",
       "    <tr>\n",
       "      <th>4</th>\n",
       "      <td>2007-02-22</td>\n",
       "      <td>4.90</td>\n",
       "    </tr>\n",
       "    <tr>\n",
       "      <th>5</th>\n",
       "      <td>2007-02-26</td>\n",
       "      <td>4.61</td>\n",
       "    </tr>\n",
       "    <tr>\n",
       "      <th>6</th>\n",
       "      <td>2007-02-27</td>\n",
       "      <td>5.07</td>\n",
       "    </tr>\n",
       "    <tr>\n",
       "      <th>7</th>\n",
       "      <td>2007-02-28</td>\n",
       "      <td>5.00</td>\n",
       "    </tr>\n",
       "    <tr>\n",
       "      <th>8</th>\n",
       "      <td>2007-03-01</td>\n",
       "      <td>4.99</td>\n",
       "    </tr>\n",
       "    <tr>\n",
       "      <th>9</th>\n",
       "      <td>2007-03-05</td>\n",
       "      <td>4.73</td>\n",
       "    </tr>\n",
       "  </tbody>\n",
       "</table>\n",
       "</div>\n",
       "      <button class=\"colab-df-convert\" onclick=\"convertToInteractive('df-58b9904f-93a5-444d-a5c0-8d6b30d879e5')\"\n",
       "              title=\"Convert this dataframe to an interactive table.\"\n",
       "              style=\"display:none;\">\n",
       "        \n",
       "  <svg xmlns=\"http://www.w3.org/2000/svg\" height=\"24px\"viewBox=\"0 0 24 24\"\n",
       "       width=\"24px\">\n",
       "    <path d=\"M0 0h24v24H0V0z\" fill=\"none\"/>\n",
       "    <path d=\"M18.56 5.44l.94 2.06.94-2.06 2.06-.94-2.06-.94-.94-2.06-.94 2.06-2.06.94zm-11 1L8.5 8.5l.94-2.06 2.06-.94-2.06-.94L8.5 2.5l-.94 2.06-2.06.94zm10 10l.94 2.06.94-2.06 2.06-.94-2.06-.94-.94-2.06-.94 2.06-2.06.94z\"/><path d=\"M17.41 7.96l-1.37-1.37c-.4-.4-.92-.59-1.43-.59-.52 0-1.04.2-1.43.59L10.3 9.45l-7.72 7.72c-.78.78-.78 2.05 0 2.83L4 21.41c.39.39.9.59 1.41.59.51 0 1.02-.2 1.41-.59l7.78-7.78 2.81-2.81c.8-.78.8-2.07 0-2.86zM5.41 20L4 18.59l7.72-7.72 1.47 1.35L5.41 20z\"/>\n",
       "  </svg>\n",
       "      </button>\n",
       "      \n",
       "  <style>\n",
       "    .colab-df-container {\n",
       "      display:flex;\n",
       "      flex-wrap:wrap;\n",
       "      gap: 12px;\n",
       "    }\n",
       "\n",
       "    .colab-df-convert {\n",
       "      background-color: #E8F0FE;\n",
       "      border: none;\n",
       "      border-radius: 50%;\n",
       "      cursor: pointer;\n",
       "      display: none;\n",
       "      fill: #1967D2;\n",
       "      height: 32px;\n",
       "      padding: 0 0 0 0;\n",
       "      width: 32px;\n",
       "    }\n",
       "\n",
       "    .colab-df-convert:hover {\n",
       "      background-color: #E2EBFA;\n",
       "      box-shadow: 0px 1px 2px rgba(60, 64, 67, 0.3), 0px 1px 3px 1px rgba(60, 64, 67, 0.15);\n",
       "      fill: #174EA6;\n",
       "    }\n",
       "\n",
       "    [theme=dark] .colab-df-convert {\n",
       "      background-color: #3B4455;\n",
       "      fill: #D2E3FC;\n",
       "    }\n",
       "\n",
       "    [theme=dark] .colab-df-convert:hover {\n",
       "      background-color: #434B5C;\n",
       "      box-shadow: 0px 1px 3px 1px rgba(0, 0, 0, 0.15);\n",
       "      filter: drop-shadow(0px 1px 2px rgba(0, 0, 0, 0.3));\n",
       "      fill: #FFFFFF;\n",
       "    }\n",
       "  </style>\n",
       "\n",
       "      <script>\n",
       "        const buttonEl =\n",
       "          document.querySelector('#df-58b9904f-93a5-444d-a5c0-8d6b30d879e5 button.colab-df-convert');\n",
       "        buttonEl.style.display =\n",
       "          google.colab.kernel.accessAllowed ? 'block' : 'none';\n",
       "\n",
       "        async function convertToInteractive(key) {\n",
       "          const element = document.querySelector('#df-58b9904f-93a5-444d-a5c0-8d6b30d879e5');\n",
       "          const dataTable =\n",
       "            await google.colab.kernel.invokeFunction('convertToInteractive',\n",
       "                                                     [key], {});\n",
       "          if (!dataTable) return;\n",
       "\n",
       "          const docLinkHtml = 'Like what you see? Visit the ' +\n",
       "            '<a target=\"_blank\" href=https://colab.research.google.com/notebooks/data_table.ipynb>data table notebook</a>'\n",
       "            + ' to learn more about interactive tables.';\n",
       "          element.innerHTML = '';\n",
       "          dataTable['output_type'] = 'display_data';\n",
       "          await google.colab.output.renderOutput(dataTable, element);\n",
       "          const docLink = document.createElement('div');\n",
       "          docLink.innerHTML = docLinkHtml;\n",
       "          element.appendChild(docLink);\n",
       "        }\n",
       "      </script>\n",
       "    </div>\n",
       "  </div>\n",
       "  "
      ],
      "text/plain": [
       "         Date  Close\n",
       "0  2007-02-14   5.21\n",
       "1  2007-02-15   5.63\n",
       "2  2007-02-19   5.30\n",
       "3  2007-02-20   5.15\n",
       "4  2007-02-22   4.90\n",
       "5  2007-02-26   4.61\n",
       "6  2007-02-27   5.07\n",
       "7  2007-02-28   5.00\n",
       "8  2007-03-01   4.99\n",
       "9  2007-03-05   4.73"
      ]
     },
     "execution_count": 21,
     "metadata": {},
     "output_type": "execute_result"
    }
   ],
   "source": [
    "df = df[['Date', 'Close']]\n",
    "df.head(10)"
   ]
  },
  {
   "cell_type": "code",
   "execution_count": 22,
   "metadata": {
    "colab": {
     "base_uri": "https://localhost:8080/"
    },
    "executionInfo": {
     "elapsed": 17,
     "status": "ok",
     "timestamp": 1661717588690,
     "user": {
      "displayName": "Sabboshachi Sarkar",
      "userId": "04069010327666808480"
     },
     "user_tz": -360
    },
    "id": "0pPaXZTUAAS7",
    "outputId": "adf9f4ae-ab38-4155-82ac-c0c6ce20257c"
   },
   "outputs": [
    {
     "data": {
      "text/plain": [
       "datetime.datetime(2007, 3, 5, 0, 0)"
      ]
     },
     "execution_count": 22,
     "metadata": {},
     "output_type": "execute_result"
    }
   ],
   "source": [
    "import datetime\n",
    "\n",
    "def str_to_datetime(s):\n",
    "  split = s.split('-')\n",
    "  year, month, day = int(split[0]), int(split[1]), int(split[2])\n",
    "  return datetime.datetime(year=year, month=month, day=day)\n",
    "\n",
    "datetime_object = str_to_datetime('2007-03-05')\n",
    "datetime_object"
   ]
  },
  {
   "cell_type": "code",
   "execution_count": 23,
   "metadata": {
    "colab": {
     "base_uri": "https://localhost:8080/"
    },
    "executionInfo": {
     "elapsed": 15,
     "status": "ok",
     "timestamp": 1661717588690,
     "user": {
      "displayName": "Sabboshachi Sarkar",
      "userId": "04069010327666808480"
     },
     "user_tz": -360
    },
    "id": "Z4u9oh6GAOYL",
    "outputId": "fba756d2-5044-4ff5-83c0-4772ca9c62b6"
   },
   "outputs": [
    {
     "name": "stderr",
     "output_type": "stream",
     "text": [
      "/usr/local/lib/python3.7/dist-packages/ipykernel_launcher.py:1: SettingWithCopyWarning: \n",
      "A value is trying to be set on a copy of a slice from a DataFrame.\n",
      "Try using .loc[row_indexer,col_indexer] = value instead\n",
      "\n",
      "See the caveats in the documentation: https://pandas.pydata.org/pandas-docs/stable/user_guide/indexing.html#returning-a-view-versus-a-copy\n",
      "  \"\"\"Entry point for launching an IPython kernel.\n"
     ]
    }
   ],
   "source": [
    "df['Date'] = df['Date'].apply(str_to_datetime)"
   ]
  },
  {
   "cell_type": "code",
   "execution_count": 24,
   "metadata": {
    "colab": {
     "base_uri": "https://localhost:8080/"
    },
    "executionInfo": {
     "elapsed": 13,
     "status": "ok",
     "timestamp": 1661717588691,
     "user": {
      "displayName": "Sabboshachi Sarkar",
      "userId": "04069010327666808480"
     },
     "user_tz": -360
    },
    "id": "SUWaopPHAS8y",
    "outputId": "895f8b70-10be-40fc-c21d-bc00fcdf0f0b"
   },
   "outputs": [
    {
     "data": {
      "text/plain": [
       "0      2007-02-14\n",
       "1      2007-02-15\n",
       "2      2007-02-19\n",
       "3      2007-02-20\n",
       "4      2007-02-22\n",
       "          ...    \n",
       "2902   2022-08-04\n",
       "2903   2022-08-08\n",
       "2904   2022-08-10\n",
       "2905   2022-08-11\n",
       "2906   2022-08-16\n",
       "Name: Date, Length: 2907, dtype: datetime64[ns]"
      ]
     },
     "execution_count": 24,
     "metadata": {},
     "output_type": "execute_result"
    }
   ],
   "source": [
    "df['Date']"
   ]
  },
  {
   "cell_type": "code",
   "execution_count": 25,
   "metadata": {
    "executionInfo": {
     "elapsed": 12,
     "status": "ok",
     "timestamp": 1661717588691,
     "user": {
      "displayName": "Sabboshachi Sarkar",
      "userId": "04069010327666808480"
     },
     "user_tz": -360
    },
    "id": "9eLq45-oAbKj"
   },
   "outputs": [],
   "source": [
    "df.index = df.pop('Date')"
   ]
  },
  {
   "cell_type": "code",
   "execution_count": 26,
   "metadata": {
    "colab": {
     "base_uri": "https://localhost:8080/"
    },
    "executionInfo": {
     "elapsed": 11,
     "status": "ok",
     "timestamp": 1661717588691,
     "user": {
      "displayName": "Sabboshachi Sarkar",
      "userId": "04069010327666808480"
     },
     "user_tz": -360
    },
    "id": "WzqbV65xAcRy",
    "outputId": "65317cb2-5faf-46d7-b80b-0c7b86677b03"
   },
   "outputs": [
    {
     "data": {
      "text/plain": [
       "DatetimeIndex(['2007-02-14', '2007-02-15', '2007-02-19', '2007-02-20',\n",
       "               '2007-02-22', '2007-02-26', '2007-02-27', '2007-02-28',\n",
       "               '2007-03-01', '2007-03-05',\n",
       "               ...\n",
       "               '2022-07-27', '2022-07-28', '2022-08-01', '2022-08-02',\n",
       "               '2022-08-03', '2022-08-04', '2022-08-08', '2022-08-10',\n",
       "               '2022-08-11', '2022-08-16'],\n",
       "              dtype='datetime64[ns]', name='Date', length=2907, freq=None)"
      ]
     },
     "execution_count": 26,
     "metadata": {},
     "output_type": "execute_result"
    }
   ],
   "source": [
    "df.index"
   ]
  },
  {
   "cell_type": "code",
   "execution_count": 27,
   "metadata": {
    "colab": {
     "base_uri": "https://localhost:8080/",
     "height": 282
    },
    "executionInfo": {
     "elapsed": 11,
     "status": "ok",
     "timestamp": 1661717588692,
     "user": {
      "displayName": "Sabboshachi Sarkar",
      "userId": "04069010327666808480"
     },
     "user_tz": -360
    },
    "id": "gBbwMtKxAiJD",
    "outputId": "392e47b4-633d-4a0b-c13f-cbeaee418a41"
   },
   "outputs": [
    {
     "data": {
      "text/plain": [
       "[<matplotlib.lines.Line2D at 0x7f1957101e10>]"
      ]
     },
     "execution_count": 27,
     "metadata": {},
     "output_type": "execute_result"
    },
    {
     "data": {
      "image/png": "[encoded data removed]",
      "text/plain": [
       "<Figure size 432x288 with 1 Axes>"
      ]
     },
     "metadata": {
      "needs_background": "light"
     },
     "output_type": "display_data"
    }
   ],
   "source": [
    "import matplotlib.pyplot as plt\n",
    "\n",
    "plt.plot(df.index, df['Close'])"
   ]
  },
  {
   "cell_type": "code",
   "execution_count": 28,
   "metadata": {
    "executionInfo": {
     "elapsed": 7,
     "status": "ok",
     "timestamp": 1661717588692,
     "user": {
      "displayName": "Sabboshachi Sarkar",
      "userId": "04069010327666808480"
     },
     "user_tz": -360
    },
    "id": "GeQWtlznAoli"
   },
   "outputs": [],
   "source": [
    "import numpy as np\n",
    "\n",
    "def df_to_windowed_df(dataframe, first_date_str, last_date_str, n):\n",
    "  first_date = str_to_datetime(first_date_str)\n",
    "  last_date  = str_to_datetime(last_date_str)\n",
    "\n",
    "  target_date = first_date\n",
    "  #print(target_date)\n",
    "  dates = []\n",
    "  X, Y = [], []\n",
    "\n",
    "  last_time = False\n",
    "  while True:\n",
    "    df_subset = dataframe.loc[:target_date].tail(n+2)\n",
    "    #print(df_subset)\n",
    "    \n",
    "    if len(df_subset) != n+2:\n",
    "      print(f'Error: Window of size {n} is too large for date {target_date}')\n",
    "      return\n",
    "\n",
    "    values = df_subset['Close'].to_numpy()\n",
    "    x, y = values[:-1], values[-1]\n",
    "\n",
    "    dates.append(target_date)\n",
    "    X.append(x)\n",
    "    Y.append(y)\n",
    "\n",
    "    next_week = dataframe.loc[target_date:target_date+datetime.timedelta(days=100)]\n",
    "    next_datetime_str = str(next_week.head(2).tail(1).index.values[0])\n",
    "    next_date_str = next_datetime_str.split('T')[0]\n",
    "    year_month_day = next_date_str.split('-')\n",
    "    year, month, day = year_month_day\n",
    "    next_date = datetime.datetime(day=int(day), month=int(month), year=int(year))\n",
    "    \n",
    "    if last_time:\n",
    "      break\n",
    "    \n",
    "    target_date = next_date\n",
    "\n",
    "    if target_date == last_date:\n",
    "      last_time = True\n",
    "    \n",
    "  ret_df = pd.DataFrame({})\n",
    "  ret_df['Target Date'] = dates\n",
    "  \n",
    "  X = np.array(X)\n",
    "  for i in range(0, n+1):\n",
    "    X[:, i]\n",
    "    ret_df[f'Target-{n+1-i}'] = X[:, i]\n",
    "  \n",
    "  ret_df['Target'] = Y\n",
    "\n",
    "  return ret_df\n",
    "\n"
   ]
  },
  {
   "cell_type": "code",
   "execution_count": 29,
   "metadata": {
    "colab": {
     "base_uri": "https://localhost:8080/",
     "height": 424
    },
    "executionInfo": {
     "elapsed": 1217,
     "status": "ok",
     "timestamp": 1661717589903,
     "user": {
      "displayName": "Sabboshachi Sarkar",
      "userId": "04069010327666808480"
     },
     "user_tz": -360
    },
    "id": "mZztXYRTApYc",
    "outputId": "ed4d051f-42d9-422f-bdec-6950117e54ff"
   },
   "outputs": [
    {
     "data": {
      "text/html": [
       "\n",
       "  <div id=\"df-8b021203-35bf-4903-94e0-68fd373d30a6\">\n",
       "    <div class=\"colab-df-container\">\n",
       "      <div>\n",
       "<style scoped>\n",
       "    .dataframe tbody tr th:only-of-type {\n",
       "        vertical-align: middle;\n",
       "    }\n",
       "\n",
       "    .dataframe tbody tr th {\n",
       "        vertical-align: top;\n",
       "    }\n",
       "\n",
       "    .dataframe thead th {\n",
       "        text-align: right;\n",
       "    }\n",
       "</style>\n",
       "<table border=\"1\" class=\"dataframe\">\n",
       "  <thead>\n",
       "    <tr style=\"text-align: right;\">\n",
       "      <th></th>\n",
       "      <th>Target Date</th>\n",
       "      <th>Target-6</th>\n",
       "      <th>Target-5</th>\n",
       "      <th>Target-4</th>\n",
       "      <th>Target-3</th>\n",
       "      <th>Target-2</th>\n",
       "      <th>Target-1</th>\n",
       "      <th>Target</th>\n",
       "    </tr>\n",
       "  </thead>\n",
       "  <tbody>\n",
       "    <tr>\n",
       "      <th>0</th>\n",
       "      <td>2007-03-05</td>\n",
       "      <td>5.15</td>\n",
       "      <td>4.90</td>\n",
       "      <td>4.61</td>\n",
       "      <td>5.07</td>\n",
       "      <td>5.00</td>\n",
       "      <td>4.99</td>\n",
       "      <td>4.73</td>\n",
       "    </tr>\n",
       "    <tr>\n",
       "      <th>1</th>\n",
       "      <td>2007-03-06</td>\n",
       "      <td>4.90</td>\n",
       "      <td>4.61</td>\n",
       "      <td>5.07</td>\n",
       "      <td>5.00</td>\n",
       "      <td>4.99</td>\n",
       "      <td>4.73</td>\n",
       "      <td>4.81</td>\n",
       "    </tr>\n",
       "    <tr>\n",
       "      <th>2</th>\n",
       "      <td>2007-03-07</td>\n",
       "      <td>4.61</td>\n",
       "      <td>5.07</td>\n",
       "      <td>5.00</td>\n",
       "      <td>4.99</td>\n",
       "      <td>4.73</td>\n",
       "      <td>4.81</td>\n",
       "      <td>4.87</td>\n",
       "    </tr>\n",
       "    <tr>\n",
       "      <th>3</th>\n",
       "      <td>2007-03-08</td>\n",
       "      <td>5.07</td>\n",
       "      <td>5.00</td>\n",
       "      <td>4.99</td>\n",
       "      <td>4.73</td>\n",
       "      <td>4.81</td>\n",
       "      <td>4.87</td>\n",
       "      <td>4.77</td>\n",
       "    </tr>\n",
       "    <tr>\n",
       "      <th>4</th>\n",
       "      <td>2007-03-12</td>\n",
       "      <td>5.00</td>\n",
       "      <td>4.99</td>\n",
       "      <td>4.73</td>\n",
       "      <td>4.81</td>\n",
       "      <td>4.87</td>\n",
       "      <td>4.77</td>\n",
       "      <td>4.60</td>\n",
       "    </tr>\n",
       "    <tr>\n",
       "      <th>...</th>\n",
       "      <td>...</td>\n",
       "      <td>...</td>\n",
       "      <td>...</td>\n",
       "      <td>...</td>\n",
       "      <td>...</td>\n",
       "      <td>...</td>\n",
       "      <td>...</td>\n",
       "      <td>...</td>\n",
       "    </tr>\n",
       "    <tr>\n",
       "      <th>2892</th>\n",
       "      <td>2022-08-03</td>\n",
       "      <td>38.90</td>\n",
       "      <td>39.20</td>\n",
       "      <td>38.50</td>\n",
       "      <td>37.90</td>\n",
       "      <td>38.80</td>\n",
       "      <td>39.40</td>\n",
       "      <td>39.90</td>\n",
       "    </tr>\n",
       "    <tr>\n",
       "      <th>2893</th>\n",
       "      <td>2022-08-04</td>\n",
       "      <td>39.20</td>\n",
       "      <td>38.50</td>\n",
       "      <td>37.90</td>\n",
       "      <td>38.80</td>\n",
       "      <td>39.40</td>\n",
       "      <td>39.90</td>\n",
       "      <td>40.00</td>\n",
       "    </tr>\n",
       "    <tr>\n",
       "      <th>2894</th>\n",
       "      <td>2022-08-08</td>\n",
       "      <td>38.50</td>\n",
       "      <td>37.90</td>\n",
       "      <td>38.80</td>\n",
       "      <td>39.40</td>\n",
       "      <td>39.90</td>\n",
       "      <td>40.00</td>\n",
       "      <td>39.20</td>\n",
       "    </tr>\n",
       "    <tr>\n",
       "      <th>2895</th>\n",
       "      <td>2022-08-10</td>\n",
       "      <td>37.90</td>\n",
       "      <td>38.80</td>\n",
       "      <td>39.40</td>\n",
       "      <td>39.90</td>\n",
       "      <td>40.00</td>\n",
       "      <td>39.20</td>\n",
       "      <td>39.50</td>\n",
       "    </tr>\n",
       "    <tr>\n",
       "      <th>2896</th>\n",
       "      <td>2022-08-11</td>\n",
       "      <td>38.80</td>\n",
       "      <td>39.40</td>\n",
       "      <td>39.90</td>\n",
       "      <td>40.00</td>\n",
       "      <td>39.20</td>\n",
       "      <td>39.50</td>\n",
       "      <td>38.90</td>\n",
       "    </tr>\n",
       "  </tbody>\n",
       "</table>\n",
       "<p>2897 rows × 8 columns</p>\n",
       "</div>\n",
       "      <button class=\"colab-df-convert\" onclick=\"convertToInteractive('df-8b021203-35bf-4903-94e0-68fd373d30a6')\"\n",
       "              title=\"Convert this dataframe to an interactive table.\"\n",
       "              style=\"display:none;\">\n",
       "        \n",
       "  <svg xmlns=\"http://www.w3.org/2000/svg\" height=\"24px\"viewBox=\"0 0 24 24\"\n",
       "       width=\"24px\">\n",
       "    <path d=\"M0 0h24v24H0V0z\" fill=\"none\"/>\n",
       "    <path d=\"M18.56 5.44l.94 2.06.94-2.06 2.06-.94-2.06-.94-.94-2.06-.94 2.06-2.06.94zm-11 1L8.5 8.5l.94-2.06 2.06-.94-2.06-.94L8.5 2.5l-.94 2.06-2.06.94zm10 10l.94 2.06.94-2.06 2.06-.94-2.06-.94-.94-2.06-.94 2.06-2.06.94z\"/><path d=\"M17.41 7.96l-1.37-1.37c-.4-.4-.92-.59-1.43-.59-.52 0-1.04.2-1.43.59L10.3 9.45l-7.72 7.72c-.78.78-.78 2.05 0 2.83L4 21.41c.39.39.9.59 1.41.59.51 0 1.02-.2 1.41-.59l7.78-7.78 2.81-2.81c.8-.78.8-2.07 0-2.86zM5.41 20L4 18.59l7.72-7.72 1.47 1.35L5.41 20z\"/>\n",
       "  </svg>\n",
       "      </button>\n",
       "      \n",
       "  <style>\n",
       "    .colab-df-container {\n",
       "      display:flex;\n",
       "      flex-wrap:wrap;\n",
       "      gap: 12px;\n",
       "    }\n",
       "\n",
       "    .colab-df-convert {\n",
       "      background-color: #E8F0FE;\n",
       "      border: none;\n",
       "      border-radius: 50%;\n",
       "      cursor: pointer;\n",
       "      display: none;\n",
       "      fill: #1967D2;\n",
       "      height: 32px;\n",
       "      padding: 0 0 0 0;\n",
       "      width: 32px;\n",
       "    }\n",
       "\n",
       "    .colab-df-convert:hover {\n",
       "      background-color: #E2EBFA;\n",
       "      box-shadow: 0px 1px 2px rgba(60, 64, 67, 0.3), 0px 1px 3px 1px rgba(60, 64, 67, 0.15);\n",
       "      fill: #174EA6;\n",
       "    }\n",
       "\n",
       "    [theme=dark] .colab-df-convert {\n",
       "      background-color: #3B4455;\n",
       "      fill: #D2E3FC;\n",
       "    }\n",
       "\n",
       "    [theme=dark] .colab-df-convert:hover {\n",
       "      background-color: #434B5C;\n",
       "      box-shadow: 0px 1px 3px 1px rgba(0, 0, 0, 0.15);\n",
       "      filter: drop-shadow(0px 1px 2px rgba(0, 0, 0, 0.3));\n",
       "      fill: #FFFFFF;\n",
       "    }\n",
       "  </style>\n",
       "\n",
       "      <script>\n",
       "        const buttonEl =\n",
       "          document.querySelector('#df-8b021203-35bf-4903-94e0-68fd373d30a6 button.colab-df-convert');\n",
       "        buttonEl.style.display =\n",
       "          google.colab.kernel.accessAllowed ? 'block' : 'none';\n",
       "\n",
       "        async function convertToInteractive(key) {\n",
       "          const element = document.querySelector('#df-8b021203-35bf-4903-94e0-68fd373d30a6');\n",
       "          const dataTable =\n",
       "            await google.colab.kernel.invokeFunction('convertToInteractive',\n",
       "                                                     [key], {});\n",
       "          if (!dataTable) return;\n",
       "\n",
       "          const docLinkHtml = 'Like what you see? Visit the ' +\n",
       "            '<a target=\"_blank\" href=https://colab.research.google.com/notebooks/data_table.ipynb>data table notebook</a>'\n",
       "            + ' to learn more about interactive tables.';\n",
       "          element.innerHTML = '';\n",
       "          dataTable['output_type'] = 'display_data';\n",
       "          await google.colab.output.renderOutput(dataTable, element);\n",
       "          const docLink = document.createElement('div');\n",
       "          docLink.innerHTML = docLinkHtml;\n",
       "          element.appendChild(docLink);\n",
       "        }\n",
       "      </script>\n",
       "    </div>\n",
       "  </div>\n",
       "  "
      ],
      "text/plain": [
       "     Target Date  Target-6  Target-5  Target-4  Target-3  Target-2  Target-1  \\\n",
       "0     2007-03-05      5.15      4.90      4.61      5.07      5.00      4.99   \n",
       "1     2007-03-06      4.90      4.61      5.07      5.00      4.99      4.73   \n",
       "2     2007-03-07      4.61      5.07      5.00      4.99      4.73      4.81   \n",
       "3     2007-03-08      5.07      5.00      4.99      4.73      4.81      4.87   \n",
       "4     2007-03-12      5.00      4.99      4.73      4.81      4.87      4.77   \n",
       "...          ...       ...       ...       ...       ...       ...       ...   \n",
       "2892  2022-08-03     38.90     39.20     38.50     37.90     38.80     39.40   \n",
       "2893  2022-08-04     39.20     38.50     37.90     38.80     39.40     39.90   \n",
       "2894  2022-08-08     38.50     37.90     38.80     39.40     39.90     40.00   \n",
       "2895  2022-08-10     37.90     38.80     39.40     39.90     40.00     39.20   \n",
       "2896  2022-08-11     38.80     39.40     39.90     40.00     39.20     39.50   \n",
       "\n",
       "      Target  \n",
       "0       4.73  \n",
       "1       4.81  \n",
       "2       4.87  \n",
       "3       4.77  \n",
       "4       4.60  \n",
       "...      ...  \n",
       "2892   39.90  \n",
       "2893   40.00  \n",
       "2894   39.20  \n",
       "2895   39.50  \n",
       "2896   38.90  \n",
       "\n",
       "[2897 rows x 8 columns]"
      ]
     },
     "execution_count": 29,
     "metadata": {},
     "output_type": "execute_result"
    }
   ],
   "source": [
    "# Start day second time around: '2021-03-25'\n",
    "windowed_df = df_to_windowed_df(df, \n",
    "                                '2007-03-05', \n",
    "                                '2022-08-11',                         \n",
    "                                n=5)\n",
    "windowed_df"
   ]
  },
  {
   "cell_type": "code",
   "execution_count": 30,
   "metadata": {
    "colab": {
     "base_uri": "https://localhost:8080/"
    },
    "executionInfo": {
     "elapsed": 7,
     "status": "ok",
     "timestamp": 1661717589903,
     "user": {
      "displayName": "Sabboshachi Sarkar",
      "userId": "04069010327666808480"
     },
     "user_tz": -360
    },
    "id": "xN15kKpEKO0p",
    "outputId": "ac3c3f4f-b8b1-4017-c9e1-2680118fdf1f"
   },
   "outputs": [
    {
     "data": {
      "text/plain": [
       "((2897,), (2897, 6, 1), (2897,))"
      ]
     },
     "execution_count": 30,
     "metadata": {},
     "output_type": "execute_result"
    }
   ],
   "source": [
    "def windowed_df_to_date_X_y(windowed_dataframe):\n",
    "  df_as_np = windowed_dataframe.to_numpy()\n",
    "\n",
    "  dates = df_as_np[:, 0]\n",
    "\n",
    "  middle_matrix = df_as_np[:, 1:-1]\n",
    "  X = middle_matrix.reshape((len(dates), middle_matrix.shape[1], 1))\n",
    "\n",
    "  Y = df_as_np[:, -1]\n",
    "\n",
    "  return dates, X.astype(np.float32), Y.astype(np.float32)\n",
    "\n",
    "dates, X, y = windowed_df_to_date_X_y(windowed_df)\n",
    "\n",
    "dates.shape, X.shape, y.shape"
   ]
  },
  {
   "cell_type": "code",
   "execution_count": 31,
   "metadata": {
    "colab": {
     "base_uri": "https://localhost:8080/",
     "height": 282
    },
    "executionInfo": {
     "elapsed": 1001,
     "status": "ok",
     "timestamp": 1661717590899,
     "user": {
      "displayName": "Sabboshachi Sarkar",
      "userId": "04069010327666808480"
     },
     "user_tz": -360
    },
    "id": "TzS7-QFBKQUI",
    "outputId": "ab66e038-c1ae-4e7e-c7e9-33168c28f14a"
   },
   "outputs": [
    {
     "data": {
      "text/plain": [
       "<matplotlib.legend.Legend at 0x7f1957095950>"
      ]
     },
     "execution_count": 31,
     "metadata": {},
     "output_type": "execute_result"
    },
    {
     "data": {
      "image/png": "[encoded data removed]",
      "text/plain": [
       "<Figure size 432x288 with 1 Axes>"
      ]
     },
     "metadata": {
      "needs_background": "light"
     },
     "output_type": "display_data"
    }
   ],
   "source": [
    "q_80 = int(len(dates) * .8)\n",
    "q_90 = int(len(dates) * .9)\n",
    "\n",
    "dates_train, X_train, y_train = dates[:q_80], X[:q_80], y[:q_80]\n",
    "\n",
    "dates_val, X_val, y_val = dates[q_80:q_90], X[q_80:q_90], y[q_80:q_90,]\n",
    "dates_test, X_test, y_test = dates[q_90:], X[q_90:], y[q_90:]\n",
    "\n",
    "plt.plot(dates_train, y_train)\n",
    "plt.plot(dates_val, y_val)\n",
    "plt.plot(dates_test, y_test)\n",
    "\n",
    "plt.legend(['Train', 'Validation', 'Test'])"
   ]
  },
  {
   "cell_type": "code",
   "execution_count": 32,
   "metadata": {
    "executionInfo": {
     "elapsed": 7,
     "status": "ok",
     "timestamp": 1661717590900,
     "user": {
      "displayName": "Sabboshachi Sarkar",
      "userId": "04069010327666808480"
     },
     "user_tz": -360
    },
    "id": "JQYrV47nKU_h"
   },
   "outputs": [],
   "source": [
    "import tensorflow as tf\n",
    "from tensorflow.keras.models import Sequential\n",
    "from tensorflow.keras.optimizers import Adam\n",
    "from tensorflow.keras import layers\n",
    "\n",
    "model = Sequential([layers.Input((6, 1)),\n",
    "                    layers.LSTM(128),\n",
    "                    layers.Dense(64, activation='relu'),\n",
    "                    layers.Dense(64, activation='relu'),\n",
    "                    layers.Dense(64, activation='relu'),\n",
    "                    layers.Dense(64, activation='relu'),\n",
    "                    layers.Dense(64, activation='relu'),\n",
    "                    layers.Dense(1)])\n",
    "\n",
    "model.compile(loss='mse', optimizer=Adam(learning_rate=0.001), metrics=['mean_absolute_error'])\n",
    "\n",
    "# model.compile(\n",
    "#     optimizer=Adam(learning_rate=0.001),\n",
    "#     loss='mse',\n",
    "#     metrics=[tf.keras.metrics.RootMeanSquaredError()])\n"
   ]
  },
  {
   "cell_type": "code",
   "execution_count": 33,
   "metadata": {
    "colab": {
     "base_uri": "https://localhost:8080/"
    },
    "executionInfo": {
     "elapsed": 86487,
     "status": "ok",
     "timestamp": 1661717677380,
     "user": {
      "displayName": "Sabboshachi Sarkar",
      "userId": "04069010327666808480"
     },
     "user_tz": -360
    },
    "id": "NNT2szHbBuOC",
    "outputId": "2ae32d22-d30a-405c-952e-fe01ceb37919"
   },
   "outputs": [
    {
     "name": "stdout",
     "output_type": "stream",
     "text": [
      "Epoch 1/100\n",
      "73/73 [==============================] - 4s 18ms/step - loss: 192.5741 - mean_absolute_error: 7.9087 - val_loss: 1.7397 - val_mean_absolute_error: 0.9688\n",
      "Epoch 2/100\n",
      "73/73 [==============================] - 1s 11ms/step - loss: 0.5959 - mean_absolute_error: 0.4863 - val_loss: 1.5540 - val_mean_absolute_error: 0.9204\n",
      "Epoch 3/100\n",
      "73/73 [==============================] - 1s 11ms/step - loss: 0.5354 - mean_absolute_error: 0.4646 - val_loss: 1.6104 - val_mean_absolute_error: 0.9816\n",
      "Epoch 4/100\n",
      "73/73 [==============================] - 1s 11ms/step - loss: 0.5285 - mean_absolute_error: 0.4646 - val_loss: 1.6379 - val_mean_absolute_error: 0.9783\n",
      "Epoch 5/100\n",
      "73/73 [==============================] - 1s 11ms/step - loss: 0.6286 - mean_absolute_error: 0.5251 - val_loss: 1.0445 - val_mean_absolute_error: 0.6976\n",
      "Epoch 6/100\n",
      "73/73 [==============================] - 1s 11ms/step - loss: 0.7712 - mean_absolute_error: 0.5847 - val_loss: 1.2955 - val_mean_absolute_error: 0.8469\n",
      "Epoch 7/100\n",
      "73/73 [==============================] - 1s 11ms/step - loss: 0.5392 - mean_absolute_error: 0.4947 - val_loss: 1.0424 - val_mean_absolute_error: 0.6987\n",
      "Epoch 8/100\n",
      "73/73 [==============================] - 1s 11ms/step - loss: 0.4871 - mean_absolute_error: 0.4554 - val_loss: 1.1283 - val_mean_absolute_error: 0.7704\n",
      "Epoch 9/100\n",
      "73/73 [==============================] - 1s 11ms/step - loss: 0.4472 - mean_absolute_error: 0.4393 - val_loss: 1.1485 - val_mean_absolute_error: 0.7994\n",
      "Epoch 10/100\n",
      "73/73 [==============================] - 1s 11ms/step - loss: 0.6815 - mean_absolute_error: 0.5621 - val_loss: 1.9094 - val_mean_absolute_error: 1.1265\n",
      "Epoch 11/100\n",
      "73/73 [==============================] - 1s 13ms/step - loss: 0.6556 - mean_absolute_error: 0.5526 - val_loss: 4.7497 - val_mean_absolute_error: 1.9789\n",
      "Epoch 12/100\n",
      "73/73 [==============================] - 1s 16ms/step - loss: 0.8792 - mean_absolute_error: 0.6171 - val_loss: 0.9732 - val_mean_absolute_error: 0.6668\n",
      "Epoch 13/100\n",
      "73/73 [==============================] - 1s 17ms/step - loss: 0.5245 - mean_absolute_error: 0.4839 - val_loss: 1.4098 - val_mean_absolute_error: 0.9158\n",
      "Epoch 14/100\n",
      "73/73 [==============================] - 1s 16ms/step - loss: 0.4700 - mean_absolute_error: 0.4399 - val_loss: 2.3922 - val_mean_absolute_error: 1.3214\n",
      "Epoch 15/100\n",
      "73/73 [==============================] - 1s 12ms/step - loss: 0.4790 - mean_absolute_error: 0.4546 - val_loss: 1.0184 - val_mean_absolute_error: 0.6934\n",
      "Epoch 16/100\n",
      "73/73 [==============================] - 1s 11ms/step - loss: 0.4864 - mean_absolute_error: 0.4557 - val_loss: 1.5607 - val_mean_absolute_error: 1.0038\n",
      "Epoch 17/100\n",
      "73/73 [==============================] - 1s 11ms/step - loss: 0.7963 - mean_absolute_error: 0.5837 - val_loss: 2.1724 - val_mean_absolute_error: 1.2505\n",
      "Epoch 18/100\n",
      "73/73 [==============================] - 1s 12ms/step - loss: 0.6895 - mean_absolute_error: 0.5498 - val_loss: 0.9941 - val_mean_absolute_error: 0.6816\n",
      "Epoch 19/100\n",
      "73/73 [==============================] - 1s 11ms/step - loss: 0.5433 - mean_absolute_error: 0.4745 - val_loss: 1.0393 - val_mean_absolute_error: 0.7141\n",
      "Epoch 20/100\n",
      "73/73 [==============================] - 1s 10ms/step - loss: 0.5340 - mean_absolute_error: 0.4826 - val_loss: 0.9919 - val_mean_absolute_error: 0.6980\n",
      "Epoch 21/100\n",
      "73/73 [==============================] - 1s 10ms/step - loss: 0.4831 - mean_absolute_error: 0.4516 - val_loss: 1.4762 - val_mean_absolute_error: 0.9584\n",
      "Epoch 22/100\n",
      "73/73 [==============================] - 1s 11ms/step - loss: 0.4579 - mean_absolute_error: 0.4415 - val_loss: 1.2369 - val_mean_absolute_error: 0.8183\n",
      "Epoch 23/100\n",
      "73/73 [==============================] - 1s 11ms/step - loss: 0.6623 - mean_absolute_error: 0.5596 - val_loss: 1.2236 - val_mean_absolute_error: 0.8117\n",
      "Epoch 24/100\n",
      "73/73 [==============================] - 1s 10ms/step - loss: 0.5086 - mean_absolute_error: 0.4640 - val_loss: 1.0165 - val_mean_absolute_error: 0.6965\n",
      "Epoch 25/100\n",
      "73/73 [==============================] - 1s 11ms/step - loss: 0.4881 - mean_absolute_error: 0.4655 - val_loss: 1.4941 - val_mean_absolute_error: 0.9432\n",
      "Epoch 26/100\n",
      "73/73 [==============================] - 1s 10ms/step - loss: 0.6029 - mean_absolute_error: 0.5068 - val_loss: 1.0651 - val_mean_absolute_error: 0.7079\n",
      "Epoch 27/100\n",
      "73/73 [==============================] - 1s 11ms/step - loss: 0.5506 - mean_absolute_error: 0.4905 - val_loss: 1.9021 - val_mean_absolute_error: 1.1201\n",
      "Epoch 28/100\n",
      "73/73 [==============================] - 1s 11ms/step - loss: 0.5372 - mean_absolute_error: 0.4760 - val_loss: 1.1080 - val_mean_absolute_error: 0.7428\n",
      "Epoch 29/100\n",
      "73/73 [==============================] - 1s 11ms/step - loss: 0.3938 - mean_absolute_error: 0.3975 - val_loss: 1.0654 - val_mean_absolute_error: 0.7462\n",
      "Epoch 30/100\n",
      "73/73 [==============================] - 1s 11ms/step - loss: 0.5110 - mean_absolute_error: 0.4669 - val_loss: 1.0070 - val_mean_absolute_error: 0.6767\n",
      "Epoch 31/100\n",
      "73/73 [==============================] - 1s 10ms/step - loss: 0.5304 - mean_absolute_error: 0.4688 - val_loss: 1.3385 - val_mean_absolute_error: 0.8612\n",
      "Epoch 32/100\n",
      "73/73 [==============================] - 1s 10ms/step - loss: 0.7829 - mean_absolute_error: 0.5952 - val_loss: 1.3321 - val_mean_absolute_error: 0.8538\n",
      "Epoch 33/100\n",
      "73/73 [==============================] - 1s 11ms/step - loss: 0.5535 - mean_absolute_error: 0.5092 - val_loss: 1.9734 - val_mean_absolute_error: 1.1510\n",
      "Epoch 34/100\n",
      "73/73 [==============================] - 1s 11ms/step - loss: 0.6347 - mean_absolute_error: 0.5338 - val_loss: 1.4735 - val_mean_absolute_error: 0.9275\n",
      "Epoch 35/100\n",
      "73/73 [==============================] - 1s 11ms/step - loss: 0.5772 - mean_absolute_error: 0.5090 - val_loss: 1.1382 - val_mean_absolute_error: 0.7685\n",
      "Epoch 36/100\n",
      "73/73 [==============================] - 1s 11ms/step - loss: 0.6174 - mean_absolute_error: 0.5150 - val_loss: 1.7105 - val_mean_absolute_error: 1.0486\n",
      "Epoch 37/100\n",
      "73/73 [==============================] - 1s 11ms/step - loss: 0.5711 - mean_absolute_error: 0.4836 - val_loss: 0.9931 - val_mean_absolute_error: 0.6646\n",
      "Epoch 38/100\n",
      "73/73 [==============================] - 1s 11ms/step - loss: 0.5513 - mean_absolute_error: 0.4855 - val_loss: 1.3623 - val_mean_absolute_error: 0.8992\n",
      "Epoch 39/100\n",
      "73/73 [==============================] - 1s 11ms/step - loss: 0.4752 - mean_absolute_error: 0.4565 - val_loss: 1.2032 - val_mean_absolute_error: 0.8016\n",
      "Epoch 40/100\n",
      "73/73 [==============================] - 1s 11ms/step - loss: 0.4900 - mean_absolute_error: 0.4620 - val_loss: 0.9971 - val_mean_absolute_error: 0.6664\n",
      "Epoch 41/100\n",
      "73/73 [==============================] - 1s 12ms/step - loss: 0.4912 - mean_absolute_error: 0.4629 - val_loss: 1.0053 - val_mean_absolute_error: 0.6712\n",
      "Epoch 42/100\n",
      "73/73 [==============================] - 1s 11ms/step - loss: 0.5912 - mean_absolute_error: 0.4946 - val_loss: 1.9309 - val_mean_absolute_error: 1.1636\n",
      "Epoch 43/100\n",
      "73/73 [==============================] - 1s 12ms/step - loss: 0.6180 - mean_absolute_error: 0.5187 - val_loss: 1.0407 - val_mean_absolute_error: 0.6924\n",
      "Epoch 44/100\n",
      "73/73 [==============================] - 1s 11ms/step - loss: 0.4500 - mean_absolute_error: 0.4360 - val_loss: 0.9811 - val_mean_absolute_error: 0.6598\n",
      "Epoch 45/100\n",
      "73/73 [==============================] - 1s 11ms/step - loss: 0.5035 - mean_absolute_error: 0.4539 - val_loss: 1.0254 - val_mean_absolute_error: 0.6992\n",
      "Epoch 46/100\n",
      "73/73 [==============================] - 1s 11ms/step - loss: 0.4443 - mean_absolute_error: 0.4368 - val_loss: 1.6248 - val_mean_absolute_error: 1.0169\n",
      "Epoch 47/100\n",
      "73/73 [==============================] - 1s 11ms/step - loss: 0.4695 - mean_absolute_error: 0.4376 - val_loss: 1.6531 - val_mean_absolute_error: 1.0418\n",
      "Epoch 48/100\n",
      "73/73 [==============================] - 1s 11ms/step - loss: 0.4642 - mean_absolute_error: 0.4364 - val_loss: 3.0377 - val_mean_absolute_error: 1.5176\n",
      "Epoch 49/100\n",
      "73/73 [==============================] - 1s 11ms/step - loss: 0.6103 - mean_absolute_error: 0.5151 - val_loss: 3.3521 - val_mean_absolute_error: 1.6058\n",
      "Epoch 50/100\n",
      "73/73 [==============================] - 1s 10ms/step - loss: 0.6534 - mean_absolute_error: 0.5383 - val_loss: 1.5294 - val_mean_absolute_error: 0.9488\n",
      "Epoch 51/100\n",
      "73/73 [==============================] - 1s 11ms/step - loss: 0.5339 - mean_absolute_error: 0.4863 - val_loss: 1.0014 - val_mean_absolute_error: 0.6719\n",
      "Epoch 52/100\n",
      "73/73 [==============================] - 1s 11ms/step - loss: 0.4738 - mean_absolute_error: 0.4441 - val_loss: 1.1192 - val_mean_absolute_error: 0.7721\n",
      "Epoch 53/100\n",
      "73/73 [==============================] - 1s 11ms/step - loss: 0.4752 - mean_absolute_error: 0.4515 - val_loss: 2.6113 - val_mean_absolute_error: 1.3812\n",
      "Epoch 54/100\n",
      "73/73 [==============================] - 1s 11ms/step - loss: 0.5370 - mean_absolute_error: 0.4810 - val_loss: 0.9985 - val_mean_absolute_error: 0.6728\n",
      "Epoch 55/100\n",
      "73/73 [==============================] - 1s 11ms/step - loss: 0.5600 - mean_absolute_error: 0.4823 - val_loss: 1.0434 - val_mean_absolute_error: 0.7034\n",
      "Epoch 56/100\n",
      "73/73 [==============================] - 1s 11ms/step - loss: 0.5601 - mean_absolute_error: 0.4987 - val_loss: 1.0772 - val_mean_absolute_error: 0.7352\n",
      "Epoch 57/100\n",
      "73/73 [==============================] - 1s 11ms/step - loss: 0.5606 - mean_absolute_error: 0.4969 - val_loss: 1.0056 - val_mean_absolute_error: 0.6802\n",
      "Epoch 58/100\n",
      "73/73 [==============================] - 1s 11ms/step - loss: 0.5495 - mean_absolute_error: 0.4815 - val_loss: 1.6707 - val_mean_absolute_error: 1.0131\n",
      "Epoch 59/100\n",
      "73/73 [==============================] - 1s 11ms/step - loss: 0.5758 - mean_absolute_error: 0.5041 - val_loss: 1.1535 - val_mean_absolute_error: 0.7708\n",
      "Epoch 60/100\n",
      "73/73 [==============================] - 1s 11ms/step - loss: 0.5467 - mean_absolute_error: 0.4839 - val_loss: 2.2896 - val_mean_absolute_error: 1.2757\n",
      "Epoch 61/100\n",
      "73/73 [==============================] - 1s 10ms/step - loss: 0.5797 - mean_absolute_error: 0.4964 - val_loss: 1.0172 - val_mean_absolute_error: 0.6995\n",
      "Epoch 62/100\n",
      "73/73 [==============================] - 1s 11ms/step - loss: 0.5670 - mean_absolute_error: 0.4965 - val_loss: 4.0194 - val_mean_absolute_error: 1.7771\n",
      "Epoch 63/100\n",
      "73/73 [==============================] - 1s 11ms/step - loss: 0.5736 - mean_absolute_error: 0.5027 - val_loss: 1.2005 - val_mean_absolute_error: 0.7905\n",
      "Epoch 64/100\n",
      "73/73 [==============================] - 1s 17ms/step - loss: 0.5084 - mean_absolute_error: 0.4691 - val_loss: 1.1094 - val_mean_absolute_error: 0.7731\n",
      "Epoch 65/100\n",
      "73/73 [==============================] - 1s 17ms/step - loss: 0.4942 - mean_absolute_error: 0.4711 - val_loss: 1.0042 - val_mean_absolute_error: 0.6823\n",
      "Epoch 66/100\n",
      "73/73 [==============================] - 1s 17ms/step - loss: 0.4147 - mean_absolute_error: 0.4094 - val_loss: 0.9991 - val_mean_absolute_error: 0.6740\n",
      "Epoch 67/100\n",
      "73/73 [==============================] - 1s 11ms/step - loss: 0.4241 - mean_absolute_error: 0.4206 - val_loss: 1.0181 - val_mean_absolute_error: 0.6933\n",
      "Epoch 68/100\n",
      "73/73 [==============================] - 1s 10ms/step - loss: 0.8440 - mean_absolute_error: 0.5948 - val_loss: 3.3976 - val_mean_absolute_error: 1.6035\n",
      "Epoch 69/100\n",
      "73/73 [==============================] - 1s 11ms/step - loss: 1.3414 - mean_absolute_error: 0.8242 - val_loss: 1.3121 - val_mean_absolute_error: 0.8441\n",
      "Epoch 70/100\n",
      "73/73 [==============================] - 1s 11ms/step - loss: 0.6266 - mean_absolute_error: 0.5259 - val_loss: 1.3548 - val_mean_absolute_error: 0.8692\n",
      "Epoch 71/100\n",
      "73/73 [==============================] - 1s 11ms/step - loss: 0.6786 - mean_absolute_error: 0.5322 - val_loss: 3.9402 - val_mean_absolute_error: 1.7826\n",
      "Epoch 72/100\n",
      "73/73 [==============================] - 1s 11ms/step - loss: 0.6467 - mean_absolute_error: 0.5375 - val_loss: 3.9708 - val_mean_absolute_error: 1.7756\n",
      "Epoch 73/100\n",
      "73/73 [==============================] - 1s 11ms/step - loss: 0.5232 - mean_absolute_error: 0.4539 - val_loss: 1.0445 - val_mean_absolute_error: 0.7031\n",
      "Epoch 74/100\n",
      "73/73 [==============================] - 1s 11ms/step - loss: 0.4057 - mean_absolute_error: 0.4059 - val_loss: 1.0100 - val_mean_absolute_error: 0.6854\n",
      "Epoch 75/100\n",
      "73/73 [==============================] - 1s 11ms/step - loss: 0.4455 - mean_absolute_error: 0.4278 - val_loss: 1.4895 - val_mean_absolute_error: 0.9703\n",
      "Epoch 76/100\n",
      "73/73 [==============================] - 1s 11ms/step - loss: 0.4487 - mean_absolute_error: 0.4218 - val_loss: 1.6981 - val_mean_absolute_error: 1.0736\n",
      "Epoch 77/100\n",
      "73/73 [==============================] - 1s 11ms/step - loss: 0.6291 - mean_absolute_error: 0.5245 - val_loss: 1.1525 - val_mean_absolute_error: 0.7702\n",
      "Epoch 78/100\n",
      "73/73 [==============================] - 1s 11ms/step - loss: 0.5334 - mean_absolute_error: 0.4804 - val_loss: 1.0088 - val_mean_absolute_error: 0.6961\n",
      "Epoch 79/100\n",
      "73/73 [==============================] - 1s 11ms/step - loss: 0.6180 - mean_absolute_error: 0.5135 - val_loss: 1.0556 - val_mean_absolute_error: 0.7140\n",
      "Epoch 80/100\n",
      "73/73 [==============================] - 1s 11ms/step - loss: 0.5066 - mean_absolute_error: 0.4701 - val_loss: 1.3855 - val_mean_absolute_error: 0.9061\n",
      "Epoch 81/100\n",
      "73/73 [==============================] - 1s 11ms/step - loss: 0.6012 - mean_absolute_error: 0.5116 - val_loss: 1.3101 - val_mean_absolute_error: 0.8637\n",
      "Epoch 82/100\n",
      "73/73 [==============================] - 1s 11ms/step - loss: 0.4569 - mean_absolute_error: 0.4341 - val_loss: 0.9946 - val_mean_absolute_error: 0.6753\n",
      "Epoch 83/100\n",
      "73/73 [==============================] - 1s 11ms/step - loss: 0.4524 - mean_absolute_error: 0.4417 - val_loss: 1.1278 - val_mean_absolute_error: 0.7501\n",
      "Epoch 84/100\n",
      "73/73 [==============================] - 1s 11ms/step - loss: 0.4346 - mean_absolute_error: 0.4199 - val_loss: 1.3795 - val_mean_absolute_error: 0.9058\n",
      "Epoch 85/100\n",
      "73/73 [==============================] - 1s 11ms/step - loss: 0.4607 - mean_absolute_error: 0.4331 - val_loss: 3.9022 - val_mean_absolute_error: 1.7713\n",
      "Epoch 86/100\n",
      "73/73 [==============================] - 1s 12ms/step - loss: 0.6722 - mean_absolute_error: 0.5439 - val_loss: 1.3733 - val_mean_absolute_error: 0.8837\n",
      "Epoch 87/100\n",
      "73/73 [==============================] - 1s 12ms/step - loss: 0.4299 - mean_absolute_error: 0.4159 - val_loss: 1.1717 - val_mean_absolute_error: 0.8055\n",
      "Epoch 88/100\n",
      "73/73 [==============================] - 1s 11ms/step - loss: 0.4216 - mean_absolute_error: 0.4237 - val_loss: 1.1285 - val_mean_absolute_error: 0.7520\n",
      "Epoch 89/100\n",
      "73/73 [==============================] - 1s 12ms/step - loss: 0.5585 - mean_absolute_error: 0.4799 - val_loss: 1.9803 - val_mean_absolute_error: 1.1754\n",
      "Epoch 90/100\n",
      "73/73 [==============================] - 1s 12ms/step - loss: 0.4241 - mean_absolute_error: 0.4081 - val_loss: 0.9884 - val_mean_absolute_error: 0.6806\n",
      "Epoch 91/100\n",
      "73/73 [==============================] - 1s 11ms/step - loss: 0.5067 - mean_absolute_error: 0.4600 - val_loss: 2.7168 - val_mean_absolute_error: 1.4204\n",
      "Epoch 92/100\n",
      "73/73 [==============================] - 1s 12ms/step - loss: 0.6117 - mean_absolute_error: 0.5214 - val_loss: 2.4085 - val_mean_absolute_error: 1.3180\n",
      "Epoch 93/100\n",
      "73/73 [==============================] - 1s 11ms/step - loss: 0.5337 - mean_absolute_error: 0.4731 - val_loss: 1.0425 - val_mean_absolute_error: 0.7039\n",
      "Epoch 94/100\n",
      "73/73 [==============================] - 1s 11ms/step - loss: 0.4863 - mean_absolute_error: 0.4520 - val_loss: 1.8869 - val_mean_absolute_error: 1.1327\n",
      "Epoch 95/100\n",
      "73/73 [==============================] - 1s 11ms/step - loss: 0.4683 - mean_absolute_error: 0.4428 - val_loss: 1.2145 - val_mean_absolute_error: 0.8234\n",
      "Epoch 96/100\n",
      "73/73 [==============================] - 1s 11ms/step - loss: 0.5033 - mean_absolute_error: 0.4605 - val_loss: 1.0284 - val_mean_absolute_error: 0.6947\n",
      "Epoch 97/100\n",
      "73/73 [==============================] - 1s 11ms/step - loss: 0.4895 - mean_absolute_error: 0.4553 - val_loss: 0.9932 - val_mean_absolute_error: 0.6871\n",
      "Epoch 98/100\n",
      "73/73 [==============================] - 1s 11ms/step - loss: 0.7494 - mean_absolute_error: 0.5650 - val_loss: 1.4641 - val_mean_absolute_error: 0.9601\n",
      "Epoch 99/100\n",
      "73/73 [==============================] - 1s 11ms/step - loss: 0.4571 - mean_absolute_error: 0.4360 - val_loss: 1.4885 - val_mean_absolute_error: 0.9493\n",
      "Epoch 100/100\n",
      "73/73 [==============================] - 1s 12ms/step - loss: 0.6453 - mean_absolute_error: 0.5322 - val_loss: 1.4119 - val_mean_absolute_error: 0.8935\n"
     ]
    },
    {
     "data": {
      "text/plain": [
       "<keras.callbacks.History at 0x7f1956e08610>"
      ]
     },
     "execution_count": 33,
     "metadata": {},
     "output_type": "execute_result"
    }
   ],
   "source": [
    "model.fit(X_train, y_train, validation_data=(X_val, y_val), epochs=100)"
   ]
  },
  {
   "cell_type": "code",
   "execution_count": 34,
   "metadata": {
    "colab": {
     "base_uri": "https://localhost:8080/"
    },
    "executionInfo": {
     "elapsed": 14,
     "status": "ok",
     "timestamp": 1661717677380,
     "user": {
      "displayName": "Sabboshachi Sarkar",
      "userId": "04069010327666808480"
     },
     "user_tz": -360
    },
    "id": "1HQZa95qLkzY",
    "outputId": "d0dad01a-66a7-437f-e010-648d3af82470"
   },
   "outputs": [
    {
     "name": "stdout",
     "output_type": "stream",
     "text": [
      "Model: \"sequential_1\"\n",
      "_________________________________________________________________\n",
      " Layer (type)                Output Shape              Param #   \n",
      "=================================================================\n",
      " lstm_1 (LSTM)               (None, 128)               66560     \n",
      "                                                                 \n",
      " dense_6 (Dense)             (None, 64)                8256      \n",
      "                                                                 \n",
      " dense_7 (Dense)             (None, 64)                4160      \n",
      "                                                                 \n",
      " dense_8 (Dense)             (None, 64)                4160      \n",
      "                                                                 \n",
      " dense_9 (Dense)             (None, 64)                4160      \n",
      "                                                                 \n",
      " dense_10 (Dense)            (None, 64)                4160      \n",
      "                                                                 \n",
      " dense_11 (Dense)            (None, 1)                 65        \n",
      "                                                                 \n",
      "=================================================================\n",
      "Total params: 91,521\n",
      "Trainable params: 91,521\n",
      "Non-trainable params: 0\n",
      "_________________________________________________________________\n"
     ]
    }
   ],
   "source": [
    "model.summary()"
   ]
  },
  {
   "cell_type": "code",
   "execution_count": 35,
   "metadata": {
    "colab": {
     "base_uri": "https://localhost:8080/",
     "height": 282
    },
    "executionInfo": {
     "elapsed": 1026,
     "status": "ok",
     "timestamp": 1661717678404,
     "user": {
      "displayName": "Sabboshachi Sarkar",
      "userId": "04069010327666808480"
     },
     "user_tz": -360
    },
    "id": "bnamcpZSLmVh",
    "outputId": "19607ab4-80a0-43eb-b9e7-7af872ebfe39"
   },
   "outputs": [
    {
     "data": {
      "text/plain": [
       "<matplotlib.legend.Legend at 0x7f1954823950>"
      ]
     },
     "execution_count": 35,
     "metadata": {},
     "output_type": "execute_result"
    },
    {
     "data": {
      "image/png": "[encoded data removed]",
      "text/plain": [
       "<Figure size 432x288 with 1 Axes>"
      ]
     },
     "metadata": {
      "needs_background": "light"
     },
     "output_type": "display_data"
    }
   ],
   "source": [
    "train_predictions = model.predict(X_train).flatten()\n",
    "\n",
    "plt.plot(dates_train, train_predictions)\n",
    "plt.plot(dates_train, y_train)\n",
    "plt.legend(['Training Predictions', 'Training Observations'])"
   ]
  },
  {
   "cell_type": "code",
   "execution_count": 36,
   "metadata": {
    "colab": {
     "base_uri": "https://localhost:8080/"
    },
    "executionInfo": {
     "elapsed": 826,
     "status": "ok",
     "timestamp": 1661717679228,
     "user": {
      "displayName": "Sabboshachi Sarkar",
      "userId": "04069010327666808480"
     },
     "user_tz": -360
    },
    "id": "zsfPlr4-ulg1",
    "outputId": "e2245a6a-aff1-45fa-ee88-56cedaf4ec94"
   },
   "outputs": [
    {
     "name": "stdout",
     "output_type": "stream",
     "text": [
      "73/73 [==============================] - 0s 4ms/step - loss: 0.7495 - mean_absolute_error: 0.6000\n"
     ]
    }
   ],
   "source": [
    "results = model.evaluate(X_train, y_train)"
   ]
  },
  {
   "cell_type": "code",
   "execution_count": 37,
   "metadata": {
    "colab": {
     "base_uri": "https://localhost:8080/",
     "height": 309
    },
    "executionInfo": {
     "elapsed": 8,
     "status": "ok",
     "timestamp": 1661717679228,
     "user": {
      "displayName": "Sabboshachi Sarkar",
      "userId": "04069010327666808480"
     },
     "user_tz": -360
    },
    "id": "w_sPiUwZLpl4",
    "outputId": "5d850c42-e1dc-4785-f030-3c8b9bff203b"
   },
   "outputs": [
    {
     "data": {
      "text/plain": [
       "<matplotlib.legend.Legend at 0x7f1954798650>"
      ]
     },
     "execution_count": 37,
     "metadata": {},
     "output_type": "execute_result"
    },
    {
     "data": {
      "image/png": "[encoded data removed]",
      "text/plain": [
       "<Figure size 432x288 with 1 Axes>"
      ]
     },
     "metadata": {
      "needs_background": "light"
     },
     "output_type": "display_data"
    }
   ],
   "source": [
    "val_predictions = model.predict(X_val).flatten()\n",
    "\n",
    "plt.plot(dates_val, val_predictions)\n",
    "plt.plot(dates_val, y_val)\n",
    "plt.xticks(rotation = 45)\n",
    "plt.legend(['Validation Predictions', 'Validation Observations'])"
   ]
  },
  {
   "cell_type": "code",
   "execution_count": 38,
   "metadata": {
    "colab": {
     "base_uri": "https://localhost:8080/",
     "height": 309
    },
    "executionInfo": {
     "elapsed": 1315,
     "status": "ok",
     "timestamp": 1661717680537,
     "user": {
      "displayName": "Sabboshachi Sarkar",
      "userId": "04069010327666808480"
     },
     "user_tz": -360
    },
    "id": "pM6SUasyLsXg",
    "outputId": "d45edfd1-c1ba-40af-a107-2e9a7a2dc6c7"
   },
   "outputs": [
    {
     "data": {
      "text/plain": [
       "<matplotlib.legend.Legend at 0x7f1951f2f810>"
      ]
     },
     "execution_count": 38,
     "metadata": {},
     "output_type": "execute_result"
    },
    {
     "data": {
      "image/png": "[encoded data removed]",
      "text/plain": [
       "<Figure size 432x288 with 1 Axes>"
      ]
     },
     "metadata": {
      "needs_background": "light"
     },
     "output_type": "display_data"
    }
   ],
   "source": [
    "test_predictions = model.predict(X_test).flatten()\n",
    "\n",
    "plt.plot(dates_test, test_predictions)\n",
    "plt.plot(dates_test, y_test)\n",
    "plt.xticks(rotation = 45)\n",
    "plt.legend(['Testing Predictions', 'Testing Observations'])"
   ]
  },
  {
   "cell_type": "code",
   "execution_count": 39,
   "metadata": {
    "colab": {
     "base_uri": "https://localhost:8080/"
    },
    "executionInfo": {
     "elapsed": 10,
     "status": "ok",
     "timestamp": 1661717680538,
     "user": {
      "displayName": "Sabboshachi Sarkar",
      "userId": "04069010327666808480"
     },
     "user_tz": -360
    },
    "id": "sTU5xgPkCkny",
    "outputId": "b4503d17-dc7a-4466-c804-39f3b458338a"
   },
   "outputs": [
    {
     "name": "stdout",
     "output_type": "stream",
     "text": [
      "10/10 [==============================] - 0s 5ms/step - loss: 1.4727 - mean_absolute_error: 0.9096\n"
     ]
    }
   ],
   "source": [
    "results = model.evaluate(X_test, y_test)"
   ]
  },
  {
   "cell_type": "code",
   "execution_count": 40,
   "metadata": {
    "colab": {
     "base_uri": "https://localhost:8080/",
     "height": 282
    },
    "executionInfo": {
     "elapsed": 8,
     "status": "ok",
     "timestamp": 1661717680538,
     "user": {
      "displayName": "Sabboshachi Sarkar",
      "userId": "04069010327666808480"
     },
     "user_tz": -360
    },
    "id": "T_0mqoO4LwdA",
    "outputId": "f65e854d-0392-4afe-e3a8-0b7a18417724"
   },
   "outputs": [
    {
     "data": {
      "text/plain": [
       "<matplotlib.legend.Legend at 0x7f195464ad90>"
      ]
     },
     "execution_count": 40,
     "metadata": {},
     "output_type": "execute_result"
    },
    {
     "data": {
      "image/png": "[encoded data removed]",
      "text/plain": [
       "<Figure size 432x288 with 1 Axes>"
      ]
     },
     "metadata": {
      "needs_background": "light"
     },
     "output_type": "display_data"
    }
   ],
   "source": [
    "plt.plot(dates_train, train_predictions)\n",
    "plt.plot(dates_train, y_train)\n",
    "plt.plot(dates_val, val_predictions)\n",
    "plt.plot(dates_val, y_val)\n",
    "plt.plot(dates_test, test_predictions)\n",
    "plt.plot(dates_test, y_test)\n",
    "plt.legend(['Training Predictions', \n",
    "            'Training Observations',\n",
    "            'Validation Predictions', \n",
    "            'Validation Observations',\n",
    "            'Testing Predictions', \n",
    "            'Testing Observations'])"
   ]
  }
 ],
 "metadata": {
  "colab": {
   "authorship_tag": "ABX9TyPB0DwruvOFC56rd7OHAeg6",
   "collapsed_sections": [],
   "mount_file_id": "1cbY7iEXfe8GzQzBGmBQYmHnjKmLGLVT6",
   "name": "Final_BracBank.ipynb",
   "provenance": []
  },
  "kernelspec": {
   "display_name": "Python 3 (ipykernel)",
   "language": "python",
   "name": "python3"
  },
  "language_info": {
   "codemirror_mode": {
    "name": "ipython",
    "version": 3
   },
   "file_extension": ".py",
   "mimetype": "text/x-python",
   "name": "python",
   "nbconvert_exporter": "python",
   "pygments_lexer": "ipython3",
   "version": "3.11.1"
  }
 },
 "nbformat": 4,
 "nbformat_minor": 1
}
