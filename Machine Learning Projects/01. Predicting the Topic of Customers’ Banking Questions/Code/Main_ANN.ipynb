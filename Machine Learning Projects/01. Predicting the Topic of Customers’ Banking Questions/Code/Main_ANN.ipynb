{
 "cells": [
  {
   "cell_type": "markdown",
   "id": "be186614",
   "metadata": {},
   "source": [
    "# Importing Necessary Frameworks"
   ]
  },
  {
   "cell_type": "code",
   "execution_count": 1,
   "id": "60076bc9",
   "metadata": {},
   "outputs": [],
   "source": [
    "import numpy as np    # Importing the NumPy library and assigning it an alias 'np'\n",
    "import pandas as pd   # Importing the Pandas library and assigning it an alias 'pd'\n",
    "import matplotlib.pyplot as plt   # Importing the Matplotlib library and assigning it an alias 'plt'"
   ]
  },
  {
   "cell_type": "code",
   "execution_count": 2,
   "id": "6767b119",
   "metadata": {},
   "outputs": [],
   "source": [
    "# Import the HTML class from the IPython.display module\n",
    "from IPython.display import HTML\n",
    "\n",
    "# Define a function called pretty_print_df that takes in a pandas value_counts_ object as an input parameter\n",
    "def pretty_print_df(value_counts_): \n",
    "  \"Quick function to display value counts more nicely\"\n",
    "  \n",
    "  # Convert the input value_counts_ object into a pandas DataFrame using the DataFrame() constructor\n",
    "  # and pass it to the to_html() method to create an HTML table as a string\n",
    "  html_table_string = pd.DataFrame(value_counts_).to_html()\n",
    "  \n",
    "  # Pass the HTML table string to the HTML class to create an HTML object\n",
    "  html_object = HTML(html_table_string)\n",
    "  \n",
    "  # Display the HTML object in the notebook using the display() function\n",
    "  display(html_object)\n"
   ]
  },
  {
   "cell_type": "markdown",
   "id": "d015d4df",
   "metadata": {},
   "source": [
    "# Loading the Dataset"
   ]
  },
  {
   "cell_type": "code",
   "execution_count": 3,
   "id": "269b53a5",
   "metadata": {},
   "outputs": [],
   "source": [
    "df = pd.read_csv(\"../DataSet/OPTION2_joined_coursework_dataset_banking_final (1).csv\")"
   ]
  },
  {
   "cell_type": "markdown",
   "id": "dbc2b65a",
   "metadata": {},
   "source": [
    "# Exploratory Data Analysis (EDA) and Data Preprocessing"
   ]
  },
  {
   "cell_type": "code",
   "execution_count": 4,
   "id": "a6b9a982",
   "metadata": {},
   "outputs": [
    {
     "data": {
      "text/html": [
       "<div>\n",
       "<style scoped>\n",
       "    .dataframe tbody tr th:only-of-type {\n",
       "        vertical-align: middle;\n",
       "    }\n",
       "\n",
       "    .dataframe tbody tr th {\n",
       "        vertical-align: top;\n",
       "    }\n",
       "\n",
       "    .dataframe thead th {\n",
       "        text-align: right;\n",
       "    }\n",
       "</style>\n",
       "<table border=\"1\" class=\"dataframe\">\n",
       "  <thead>\n",
       "    <tr style=\"text-align: right;\">\n",
       "      <th></th>\n",
       "      <th>text</th>\n",
       "      <th>label</th>\n",
       "      <th>query_index</th>\n",
       "    </tr>\n",
       "  </thead>\n",
       "  <tbody>\n",
       "    <tr>\n",
       "      <th>0</th>\n",
       "      <td>Can I automatically top-up when traveling?</td>\n",
       "      <td>top_up_queries_or_issues</td>\n",
       "      <td>526cd7f17526</td>\n",
       "    </tr>\n",
       "    <tr>\n",
       "      <th>1</th>\n",
       "      <td>What kind of fiat currency can I used for hold...</td>\n",
       "      <td>other</td>\n",
       "      <td>f3cf7343067e</td>\n",
       "    </tr>\n",
       "    <tr>\n",
       "      <th>2</th>\n",
       "      <td>I did not get the item I ordered.  How should ...</td>\n",
       "      <td>other</td>\n",
       "      <td>9a19501c3a3c</td>\n",
       "    </tr>\n",
       "    <tr>\n",
       "      <th>3</th>\n",
       "      <td>Freeze my account it's been hacked.</td>\n",
       "      <td>needs_troubleshooting</td>\n",
       "      <td>d76b07db8cf8</td>\n",
       "    </tr>\n",
       "    <tr>\n",
       "      <th>4</th>\n",
       "      <td>is there a reason that my payment didnt go thr...</td>\n",
       "      <td>other</td>\n",
       "      <td>bd95ba09a18d</td>\n",
       "    </tr>\n",
       "  </tbody>\n",
       "</table>\n",
       "</div>"
      ],
      "text/plain": [
       "                                                text  \\\n",
       "0         Can I automatically top-up when traveling?   \n",
       "1  What kind of fiat currency can I used for hold...   \n",
       "2  I did not get the item I ordered.  How should ...   \n",
       "3                Freeze my account it's been hacked.   \n",
       "4  is there a reason that my payment didnt go thr...   \n",
       "\n",
       "                      label   query_index  \n",
       "0  top_up_queries_or_issues  526cd7f17526  \n",
       "1                     other  f3cf7343067e  \n",
       "2                     other  9a19501c3a3c  \n",
       "3     needs_troubleshooting  d76b07db8cf8  \n",
       "4                     other  bd95ba09a18d  "
      ]
     },
     "execution_count": 4,
     "metadata": {},
     "output_type": "execute_result"
    }
   ],
   "source": [
    "# Display the first few rows of a Pandas DataFrame\n",
    "df.head()"
   ]
  },
  {
   "cell_type": "code",
   "execution_count": 5,
   "id": "325fb9dc",
   "metadata": {},
   "outputs": [
    {
     "data": {
      "text/plain": [
       "(14195, 3)"
      ]
     },
     "execution_count": 5,
     "metadata": {},
     "output_type": "execute_result"
    }
   ],
   "source": [
    "# Display the shape of a Pandas DataFrame\n",
    "df.shape"
   ]
  },
  {
   "cell_type": "code",
   "execution_count": 6,
   "id": "5490aade",
   "metadata": {},
   "outputs": [
    {
     "data": {
      "text/plain": [
       "Index(['text', 'label', 'query_index'], dtype='object')"
      ]
     },
     "execution_count": 6,
     "metadata": {},
     "output_type": "execute_result"
    }
   ],
   "source": [
    "# Display the column labels of a Pandas DataFrame\n",
    "df.columns"
   ]
  },
  {
   "cell_type": "code",
   "execution_count": 7,
   "id": "5fe73bae",
   "metadata": {},
   "outputs": [
    {
     "data": {
      "text/plain": [
       "True"
      ]
     },
     "execution_count": 7,
     "metadata": {},
     "output_type": "execute_result"
    }
   ],
   "source": [
    "# Check if there are any duplicated rows in a Pandas DataFrame\n",
    "df.duplicated().any()"
   ]
  },
  {
   "cell_type": "code",
   "execution_count": 8,
   "id": "729a9860",
   "metadata": {},
   "outputs": [],
   "source": [
    "# Remove duplicated rows from a Pandas DataFrame\n",
    "df = df.drop_duplicates()"
   ]
  },
  {
   "cell_type": "code",
   "execution_count": 9,
   "id": "712da9b6",
   "metadata": {},
   "outputs": [
    {
     "data": {
      "text/plain": [
       "(13672, 3)"
      ]
     },
     "execution_count": 9,
     "metadata": {},
     "output_type": "execute_result"
    }
   ],
   "source": [
    "df.shape"
   ]
  },
  {
   "cell_type": "code",
   "execution_count": 10,
   "id": "71d7c825",
   "metadata": {},
   "outputs": [
    {
     "data": {
      "text/plain": [
       "other                       4814\n",
       "needs_troubleshooting       4158\n",
       "card_queries_or_issues      2496\n",
       "top_up_queries_or_issues    1633\n",
       "Other                         21\n",
       "Card_queries_or_issues        11\n",
       "Top_up_queries_or_issues      11\n",
       "Needs_troubleshooting          7\n",
       "Name: label, dtype: int64"
      ]
     },
     "execution_count": 10,
     "metadata": {},
     "output_type": "execute_result"
    }
   ],
   "source": [
    "df['label'].value_counts()"
   ]
  },
  {
   "cell_type": "code",
   "execution_count": 11,
   "id": "49236f86",
   "metadata": {},
   "outputs": [],
   "source": [
    "# Convert the values in a Pandas DataFrame column to lowercase\n",
    "df['label'] = df['label'].str.lower()"
   ]
  },
  {
   "cell_type": "code",
   "execution_count": 12,
   "id": "00bd0ed2",
   "metadata": {},
   "outputs": [
    {
     "data": {
      "text/plain": [
       "other                       4835\n",
       "needs_troubleshooting       4165\n",
       "card_queries_or_issues      2507\n",
       "top_up_queries_or_issues    1644\n",
       "Name: label, dtype: int64"
      ]
     },
     "execution_count": 12,
     "metadata": {},
     "output_type": "execute_result"
    }
   ],
   "source": [
    "df['label'].value_counts()"
   ]
  },
  {
   "cell_type": "code",
   "execution_count": 13,
   "id": "87ce6705",
   "metadata": {},
   "outputs": [],
   "source": [
    "WorkingData = df.copy()"
   ]
  },
  {
   "cell_type": "code",
   "execution_count": 14,
   "id": "a3b14c62",
   "metadata": {},
   "outputs": [
    {
     "data": {
      "text/plain": [
       "text             0\n",
       "label          521\n",
       "query_index      0\n",
       "dtype: int64"
      ]
     },
     "execution_count": 14,
     "metadata": {},
     "output_type": "execute_result"
    }
   ],
   "source": [
    "WorkingData.isnull().sum()"
   ]
  },
  {
   "cell_type": "code",
   "execution_count": 15,
   "id": "5d9f2f5a",
   "metadata": {},
   "outputs": [],
   "source": [
    "from sklearn.impute import SimpleImputer "
   ]
  },
  {
   "cell_type": "code",
   "execution_count": 16,
   "id": "f6b7022d",
   "metadata": {},
   "outputs": [],
   "source": [
    "categorical_columns= ['label']\n",
    "\n",
    "## 1. Imputer\n",
    "imptr_cat = SimpleImputer(missing_values = np.nan, strategy = 'most_frequent')\n",
    "\n",
    "## 2. Fit the imputer object to the feature matrix (only for categorical features)\n",
    "imptr_cat = imptr_cat.fit(WorkingData[categorical_columns])\n",
    "\n",
    "## 3. Call Transform to replace missing data in train_dataset (on specific columns) by the mean of the column to which that missing data belongs to\n",
    "WorkingData[categorical_columns] = imptr_cat.transform(WorkingData[categorical_columns])  "
   ]
  },
  {
   "cell_type": "code",
   "execution_count": 17,
   "id": "6fbc417f",
   "metadata": {},
   "outputs": [
    {
     "data": {
      "text/plain": [
       "text           0\n",
       "label          0\n",
       "query_index    0\n",
       "dtype: int64"
      ]
     },
     "execution_count": 17,
     "metadata": {},
     "output_type": "execute_result"
    }
   ],
   "source": [
    "WorkingData.isnull().sum()"
   ]
  },
  {
   "cell_type": "code",
   "execution_count": 18,
   "id": "37b8b4a9",
   "metadata": {},
   "outputs": [
    {
     "data": {
      "text/plain": [
       "other                       5356\n",
       "needs_troubleshooting       4165\n",
       "card_queries_or_issues      2507\n",
       "top_up_queries_or_issues    1644\n",
       "Name: label, dtype: int64"
      ]
     },
     "execution_count": 18,
     "metadata": {},
     "output_type": "execute_result"
    }
   ],
   "source": [
    "WorkingData['label'].value_counts()"
   ]
  },
  {
   "cell_type": "code",
   "execution_count": 19,
   "id": "663667d4",
   "metadata": {},
   "outputs": [
    {
     "name": "stdout",
     "output_type": "stream",
     "text": [
      "Categories and Number of Occurrences for 'label':\n"
     ]
    },
    {
     "data": {
      "text/html": [
       "<table border=\"1\" class=\"dataframe\">\n",
       "  <thead>\n",
       "    <tr style=\"text-align: right;\">\n",
       "      <th></th>\n",
       "      <th>label</th>\n",
       "    </tr>\n",
       "  </thead>\n",
       "  <tbody>\n",
       "    <tr>\n",
       "      <th>other</th>\n",
       "      <td>5356</td>\n",
       "    </tr>\n",
       "    <tr>\n",
       "      <th>needs_troubleshooting</th>\n",
       "      <td>4165</td>\n",
       "    </tr>\n",
       "    <tr>\n",
       "      <th>card_queries_or_issues</th>\n",
       "      <td>2507</td>\n",
       "    </tr>\n",
       "    <tr>\n",
       "      <th>top_up_queries_or_issues</th>\n",
       "      <td>1644</td>\n",
       "    </tr>\n",
       "  </tbody>\n",
       "</table>"
      ],
      "text/plain": [
       "<IPython.core.display.HTML object>"
      ]
     },
     "metadata": {},
     "output_type": "display_data"
    },
    {
     "name": "stdout",
     "output_type": "stream",
     "text": [
      "\n"
     ]
    },
    {
     "data": {
      "image/png": "[encoded data removed]",
      "text/plain": [
       "<Figure size 500x500 with 1 Axes>"
      ]
     },
     "metadata": {},
     "output_type": "display_data"
    }
   ],
   "source": [
    "# Define a list of categorical columns\n",
    "categorical_columns = ['label']\n",
    "\n",
    "# Iterate over each categorical column\n",
    "for col in categorical_columns:\n",
    "    # Display the categories and number of occurrences in the column\n",
    "    print(f\"Categories and Number of Occurrences for '{col}':\")\n",
    "    pretty_print_df(WorkingData[col].value_counts())\n",
    "    print()\n",
    "    \n",
    "    # Create a pie chart to visualize the distribution of values in the column\n",
    "    plt.figure(figsize=(5, 5))\n",
    "    values = WorkingData[col].value_counts()\n",
    "    labels = values.index.tolist()\n",
    "    plt.pie(values, labels=labels, autopct='%1.1f%%')\n",
    "    plt.title('Question Categories', fontsize=20)\n",
    "    plt.legend(loc=2)\n",
    "    plt.show()"
   ]
  },
  {
   "cell_type": "code",
   "execution_count": 20,
   "id": "bb67db2a",
   "metadata": {},
   "outputs": [],
   "source": [
    "# Remove a column from a Pandas DataFrame\n",
    "del WorkingData['query_index']\n"
   ]
  },
  {
   "cell_type": "code",
   "execution_count": 21,
   "id": "b2b6bfc5",
   "metadata": {},
   "outputs": [
    {
     "data": {
      "text/plain": [
       "(13672, 2)"
      ]
     },
     "execution_count": 21,
     "metadata": {},
     "output_type": "execute_result"
    }
   ],
   "source": [
    "WorkingData.shape"
   ]
  },
  {
   "cell_type": "code",
   "execution_count": 22,
   "id": "671c825d",
   "metadata": {},
   "outputs": [
    {
     "data": {
      "text/plain": [
       "<AxesSubplot: title={'center': 'Count of number of labels'}>"
      ]
     },
     "execution_count": 22,
     "metadata": {},
     "output_type": "execute_result"
    },
    {
     "data": {
      "image/png": "[encoded data removed]",
      "text/plain": [
       "<Figure size 600x300 with 1 Axes>"
      ]
     },
     "metadata": {},
     "output_type": "display_data"
    }
   ],
   "source": [
    "WorkingData['label'].value_counts().plot(kind='bar', title=\"Count of number of labels\", figsize = (6,3))"
   ]
  },
  {
   "cell_type": "markdown",
   "id": "b28047be",
   "metadata": {},
   "source": [
    "### Label Encoding for Target Axis"
   ]
  },
  {
   "cell_type": "code",
   "execution_count": 23,
   "id": "e0f76860",
   "metadata": {},
   "outputs": [],
   "source": [
    "from sklearn import preprocessing"
   ]
  },
  {
   "cell_type": "code",
   "execution_count": 24,
   "id": "65d0d243",
   "metadata": {},
   "outputs": [],
   "source": [
    "WorkingData_2 = WorkingData.copy() "
   ]
  },
  {
   "cell_type": "code",
   "execution_count": 25,
   "id": "b5753430",
   "metadata": {},
   "outputs": [],
   "source": [
    "# label_encoder object knows how to understand word labels.\n",
    "label_encoder = preprocessing.LabelEncoder()\n",
    "\n",
    "# Encode labels in column 'species'.\n",
    "WorkingData_2['label']= label_encoder.fit_transform(WorkingData_2['label'])"
   ]
  },
  {
   "cell_type": "code",
   "execution_count": 26,
   "id": "fef0e229",
   "metadata": {},
   "outputs": [
    {
     "data": {
      "text/plain": [
       "array([3, 2, 1, 0])"
      ]
     },
     "execution_count": 26,
     "metadata": {},
     "output_type": "execute_result"
    }
   ],
   "source": [
    "WorkingData_2['label'].unique()"
   ]
  },
  {
   "cell_type": "code",
   "execution_count": 27,
   "id": "367ea9ec",
   "metadata": {},
   "outputs": [
    {
     "data": {
      "text/plain": [
       "other                       5356\n",
       "needs_troubleshooting       4165\n",
       "card_queries_or_issues      2507\n",
       "top_up_queries_or_issues    1644\n",
       "Name: label, dtype: int64"
      ]
     },
     "execution_count": 27,
     "metadata": {},
     "output_type": "execute_result"
    }
   ],
   "source": [
    "WorkingData['label'].value_counts()"
   ]
  },
  {
   "cell_type": "code",
   "execution_count": 28,
   "id": "23d98f54",
   "metadata": {},
   "outputs": [
    {
     "data": {
      "text/plain": [
       "2    5356\n",
       "1    4165\n",
       "0    2507\n",
       "3    1644\n",
       "Name: label, dtype: int64"
      ]
     },
     "execution_count": 28,
     "metadata": {},
     "output_type": "execute_result"
    }
   ],
   "source": [
    "WorkingData_2['label'].value_counts()"
   ]
  },
  {
   "cell_type": "markdown",
   "id": "70e226d9",
   "metadata": {},
   "source": [
    "other = 2 <br>\n",
    "needs_troubleshooting = 1<br>\n",
    "card_queries_or_issues = 0<br>\n",
    "top_up_queries_or_issues = 3"
   ]
  },
  {
   "cell_type": "code",
   "execution_count": 29,
   "id": "8be42b70",
   "metadata": {},
   "outputs": [
    {
     "data": {
      "text/html": [
       "<div>\n",
       "<style scoped>\n",
       "    .dataframe tbody tr th:only-of-type {\n",
       "        vertical-align: middle;\n",
       "    }\n",
       "\n",
       "    .dataframe tbody tr th {\n",
       "        vertical-align: top;\n",
       "    }\n",
       "\n",
       "    .dataframe thead th {\n",
       "        text-align: right;\n",
       "    }\n",
       "</style>\n",
       "<table border=\"1\" class=\"dataframe\">\n",
       "  <thead>\n",
       "    <tr style=\"text-align: right;\">\n",
       "      <th></th>\n",
       "      <th>text</th>\n",
       "      <th>label</th>\n",
       "    </tr>\n",
       "  </thead>\n",
       "  <tbody>\n",
       "    <tr>\n",
       "      <th>0</th>\n",
       "      <td>Can I automatically top-up when traveling?</td>\n",
       "      <td>3</td>\n",
       "    </tr>\n",
       "    <tr>\n",
       "      <th>1</th>\n",
       "      <td>What kind of fiat currency can I used for hold...</td>\n",
       "      <td>2</td>\n",
       "    </tr>\n",
       "    <tr>\n",
       "      <th>2</th>\n",
       "      <td>I did not get the item I ordered.  How should ...</td>\n",
       "      <td>2</td>\n",
       "    </tr>\n",
       "    <tr>\n",
       "      <th>3</th>\n",
       "      <td>Freeze my account it's been hacked.</td>\n",
       "      <td>1</td>\n",
       "    </tr>\n",
       "    <tr>\n",
       "      <th>4</th>\n",
       "      <td>is there a reason that my payment didnt go thr...</td>\n",
       "      <td>2</td>\n",
       "    </tr>\n",
       "  </tbody>\n",
       "</table>\n",
       "</div>"
      ],
      "text/plain": [
       "                                                text  label\n",
       "0         Can I automatically top-up when traveling?      3\n",
       "1  What kind of fiat currency can I used for hold...      2\n",
       "2  I did not get the item I ordered.  How should ...      2\n",
       "3                Freeze my account it's been hacked.      1\n",
       "4  is there a reason that my payment didnt go thr...      2"
      ]
     },
     "execution_count": 29,
     "metadata": {},
     "output_type": "execute_result"
    }
   ],
   "source": [
    "WorkingData_2.head()"
   ]
  },
  {
   "cell_type": "code",
   "execution_count": 30,
   "id": "17f439e1",
   "metadata": {},
   "outputs": [
    {
     "data": {
      "text/plain": [
       "(13672, 2)"
      ]
     },
     "execution_count": 30,
     "metadata": {},
     "output_type": "execute_result"
    }
   ],
   "source": [
    "WorkingData_2.shape"
   ]
  },
  {
   "cell_type": "markdown",
   "id": "3d5c8d8a",
   "metadata": {},
   "source": [
    "# Data Cleaning in Text Column"
   ]
  },
  {
   "cell_type": "code",
   "execution_count": 31,
   "id": "c249451c",
   "metadata": {},
   "outputs": [],
   "source": [
    "import re ## Regular Expression\n",
    "import nltk ## Natural Language Took Kit"
   ]
  },
  {
   "cell_type": "code",
   "execution_count": 32,
   "id": "bb017600",
   "metadata": {},
   "outputs": [
    {
     "name": "stderr",
     "output_type": "stream",
     "text": [
      "[nltk_data] Downloading package stopwords to\n",
      "[nltk_data]     C:\\Users\\sabbo\\AppData\\Roaming\\nltk_data...\n",
      "[nltk_data]   Package stopwords is already up-to-date!\n"
     ]
    },
    {
     "data": {
      "text/plain": [
       "True"
      ]
     },
     "execution_count": 32,
     "metadata": {},
     "output_type": "execute_result"
    }
   ],
   "source": [
    "nltk.download('stopwords')"
   ]
  },
  {
   "cell_type": "code",
   "execution_count": 33,
   "id": "ac64cf9e",
   "metadata": {},
   "outputs": [],
   "source": [
    "# Import a list of stopwords from the NLTK library\n",
    "from nltk.corpus import stopwords"
   ]
  },
  {
   "cell_type": "code",
   "execution_count": 34,
   "id": "22ba9b30",
   "metadata": {},
   "outputs": [
    {
     "data": {
      "text/plain": [
       "['i',\n",
       " 'me',\n",
       " 'my',\n",
       " 'myself',\n",
       " 'we',\n",
       " 'our',\n",
       " 'ours',\n",
       " 'ourselves',\n",
       " 'you',\n",
       " \"you're\",\n",
       " \"you've\",\n",
       " \"you'll\",\n",
       " \"you'd\",\n",
       " 'your',\n",
       " 'yours',\n",
       " 'yourself',\n",
       " 'yourselves',\n",
       " 'he',\n",
       " 'him',\n",
       " 'his',\n",
       " 'himself',\n",
       " 'she',\n",
       " \"she's\",\n",
       " 'her',\n",
       " 'hers',\n",
       " 'herself',\n",
       " 'it',\n",
       " \"it's\",\n",
       " 'its',\n",
       " 'itself',\n",
       " 'they',\n",
       " 'them',\n",
       " 'their',\n",
       " 'theirs',\n",
       " 'themselves',\n",
       " 'what',\n",
       " 'which',\n",
       " 'who',\n",
       " 'whom',\n",
       " 'this',\n",
       " 'that',\n",
       " \"that'll\",\n",
       " 'these',\n",
       " 'those',\n",
       " 'am',\n",
       " 'is',\n",
       " 'are',\n",
       " 'was',\n",
       " 'were',\n",
       " 'be',\n",
       " 'been',\n",
       " 'being',\n",
       " 'have',\n",
       " 'has',\n",
       " 'had',\n",
       " 'having',\n",
       " 'do',\n",
       " 'does',\n",
       " 'did',\n",
       " 'doing',\n",
       " 'a',\n",
       " 'an',\n",
       " 'the',\n",
       " 'and',\n",
       " 'but',\n",
       " 'if',\n",
       " 'or',\n",
       " 'because',\n",
       " 'as',\n",
       " 'until',\n",
       " 'while',\n",
       " 'of',\n",
       " 'at',\n",
       " 'by',\n",
       " 'for',\n",
       " 'with',\n",
       " 'about',\n",
       " 'against',\n",
       " 'between',\n",
       " 'into',\n",
       " 'through',\n",
       " 'during',\n",
       " 'before',\n",
       " 'after',\n",
       " 'above',\n",
       " 'below',\n",
       " 'to',\n",
       " 'from',\n",
       " 'up',\n",
       " 'down',\n",
       " 'in',\n",
       " 'out',\n",
       " 'on',\n",
       " 'off',\n",
       " 'over',\n",
       " 'under',\n",
       " 'again',\n",
       " 'further',\n",
       " 'then',\n",
       " 'once',\n",
       " 'here',\n",
       " 'there',\n",
       " 'when',\n",
       " 'where',\n",
       " 'why',\n",
       " 'how',\n",
       " 'all',\n",
       " 'any',\n",
       " 'both',\n",
       " 'each',\n",
       " 'few',\n",
       " 'more',\n",
       " 'most',\n",
       " 'other',\n",
       " 'some',\n",
       " 'such',\n",
       " 'no',\n",
       " 'nor',\n",
       " 'not',\n",
       " 'only',\n",
       " 'own',\n",
       " 'same',\n",
       " 'so',\n",
       " 'than',\n",
       " 'too',\n",
       " 'very',\n",
       " 's',\n",
       " 't',\n",
       " 'can',\n",
       " 'will',\n",
       " 'just',\n",
       " 'don',\n",
       " \"don't\",\n",
       " 'should',\n",
       " \"should've\",\n",
       " 'now',\n",
       " 'd',\n",
       " 'll',\n",
       " 'm',\n",
       " 'o',\n",
       " 're',\n",
       " 've',\n",
       " 'y',\n",
       " 'ain',\n",
       " 'aren',\n",
       " \"aren't\",\n",
       " 'couldn',\n",
       " \"couldn't\",\n",
       " 'didn',\n",
       " \"didn't\",\n",
       " 'doesn',\n",
       " \"doesn't\",\n",
       " 'hadn',\n",
       " \"hadn't\",\n",
       " 'hasn',\n",
       " \"hasn't\",\n",
       " 'haven',\n",
       " \"haven't\",\n",
       " 'isn',\n",
       " \"isn't\",\n",
       " 'ma',\n",
       " 'mightn',\n",
       " \"mightn't\",\n",
       " 'mustn',\n",
       " \"mustn't\",\n",
       " 'needn',\n",
       " \"needn't\",\n",
       " 'shan',\n",
       " \"shan't\",\n",
       " 'shouldn',\n",
       " \"shouldn't\",\n",
       " 'wasn',\n",
       " \"wasn't\",\n",
       " 'weren',\n",
       " \"weren't\",\n",
       " 'won',\n",
       " \"won't\",\n",
       " 'wouldn',\n",
       " \"wouldn't\"]"
      ]
     },
     "execution_count": 34,
     "metadata": {},
     "output_type": "execute_result"
    }
   ],
   "source": [
    "# Get the list of English stopwords\n",
    "stopwords.words('english')"
   ]
  },
  {
   "cell_type": "code",
   "execution_count": 35,
   "id": "3f4afbb6",
   "metadata": {},
   "outputs": [],
   "source": [
    "sw = set(stopwords.words('english'))"
   ]
  },
  {
   "cell_type": "code",
   "execution_count": 36,
   "id": "e55447da",
   "metadata": {},
   "outputs": [],
   "source": [
    "# Import the Porter stemming algorithm from the NLTK library\n",
    "from nltk.stem.porter import PorterStemmer\n",
    "\n",
    "# Create a new instance of the Porter stemming algorithm\n",
    "ps = PorterStemmer()"
   ]
  },
  {
   "cell_type": "code",
   "execution_count": 37,
   "id": "76d9e6f2",
   "metadata": {},
   "outputs": [
    {
     "data": {
      "text/plain": [
       "\"I got mugged yesterday and they took everything. I can't use the app, so I need some help.\""
      ]
     },
     "execution_count": 37,
     "metadata": {},
     "output_type": "execute_result"
    }
   ],
   "source": [
    "WorkingData_2[\"text\"][10000]"
   ]
  },
  {
   "cell_type": "code",
   "execution_count": 38,
   "id": "10c5d404",
   "metadata": {},
   "outputs": [],
   "source": [
    "# Import the Porter stemming algorithm from the NLTK library\n",
    "from nltk.stem.porter import PorterStemmer\n",
    "\n",
    "# Create a new instance of the Porter stemming algorithm\n",
    "ps = PorterStemmer()\n",
    "\n",
    "# Define a function to clean a sample of text\n",
    "def clean_text(sample):\n",
    "  # Convert the text to lowercase\n",
    "  sample = sample.lower()\n",
    "\n",
    "  # Remove non-alphabetic characters and replace with spaces\n",
    "  sample = re.sub(\"[^a-zA-Z]+\",\" \", sample)\n",
    "\n",
    "  # Split the text into individual words\n",
    "  sample = sample.split()\n",
    "\n",
    "  # Apply stemming to each word and remove stopwords\n",
    "  sample = [ps.stem(s) for s in sample if s not in sw]\n",
    "\n",
    "  # Join the stemmed words back into a single string\n",
    "  sample = \" \".join(sample)\n",
    "\n",
    "  # Return the cleaned text sample\n",
    "  return sample\n"
   ]
  },
  {
   "cell_type": "markdown",
   "id": "0e7dfe3b",
   "metadata": {},
   "source": [
    "This code defines a function called 'clean_text()' that takes a single argument 'sample', which represents a string of text to be cleaned. The function first converts the text to lowercase using the 'lower()' method, then removes any non-alphabetic characters and replaces them with spaces using the 're.sub()' function. It then splits the cleaned text into individual words using the 'split()' method, and applies stemming to each word using the 'PorterStemmer' instance created earlier. It also removes any stopwords from the text by checking if each word is in the list of stopwords 'sw'. Finally, the function joins the stemmed words back into a single string using the 'join()' method and returns the cleaned text sample. This function can be used to preprocess text data in order to prepare it for NLP tasks like text classification and sentiment analysis."
   ]
  },
  {
   "cell_type": "code",
   "execution_count": 39,
   "id": "08fb79ff",
   "metadata": {},
   "outputs": [
    {
     "data": {
      "text/plain": [
       "'got mug yesterday took everyth use app need help'"
      ]
     },
     "execution_count": 39,
     "metadata": {},
     "output_type": "execute_result"
    }
   ],
   "source": [
    "clean_text(WorkingData_2[\"text\"][10000]) # Example for the fucntion"
   ]
  },
  {
   "cell_type": "code",
   "execution_count": 40,
   "id": "78e59fa7",
   "metadata": {},
   "outputs": [],
   "source": [
    "# Apply the fucntion to dataset text column\n",
    "WorkingData_2['processed_text'] = WorkingData_2['text'].apply(clean_text)"
   ]
  },
  {
   "cell_type": "code",
   "execution_count": 41,
   "id": "52cc1ae0",
   "metadata": {},
   "outputs": [
    {
     "data": {
      "text/html": [
       "<div>\n",
       "<style scoped>\n",
       "    .dataframe tbody tr th:only-of-type {\n",
       "        vertical-align: middle;\n",
       "    }\n",
       "\n",
       "    .dataframe tbody tr th {\n",
       "        vertical-align: top;\n",
       "    }\n",
       "\n",
       "    .dataframe thead th {\n",
       "        text-align: right;\n",
       "    }\n",
       "</style>\n",
       "<table border=\"1\" class=\"dataframe\">\n",
       "  <thead>\n",
       "    <tr style=\"text-align: right;\">\n",
       "      <th></th>\n",
       "      <th>text</th>\n",
       "      <th>label</th>\n",
       "      <th>processed_text</th>\n",
       "    </tr>\n",
       "  </thead>\n",
       "  <tbody>\n",
       "    <tr>\n",
       "      <th>0</th>\n",
       "      <td>Can I automatically top-up when traveling?</td>\n",
       "      <td>3</td>\n",
       "      <td>automat top travel</td>\n",
       "    </tr>\n",
       "    <tr>\n",
       "      <th>1</th>\n",
       "      <td>What kind of fiat currency can I used for hold...</td>\n",
       "      <td>2</td>\n",
       "      <td>kind fiat currenc use hold exchang</td>\n",
       "    </tr>\n",
       "    <tr>\n",
       "      <th>2</th>\n",
       "      <td>I did not get the item I ordered.  How should ...</td>\n",
       "      <td>2</td>\n",
       "      <td>get item order go cancel order payment pleas help</td>\n",
       "    </tr>\n",
       "    <tr>\n",
       "      <th>3</th>\n",
       "      <td>Freeze my account it's been hacked.</td>\n",
       "      <td>1</td>\n",
       "      <td>freez account hack</td>\n",
       "    </tr>\n",
       "    <tr>\n",
       "      <th>4</th>\n",
       "      <td>is there a reason that my payment didnt go thr...</td>\n",
       "      <td>2</td>\n",
       "      <td>reason payment didnt go</td>\n",
       "    </tr>\n",
       "  </tbody>\n",
       "</table>\n",
       "</div>"
      ],
      "text/plain": [
       "                                                text  label  \\\n",
       "0         Can I automatically top-up when traveling?      3   \n",
       "1  What kind of fiat currency can I used for hold...      2   \n",
       "2  I did not get the item I ordered.  How should ...      2   \n",
       "3                Freeze my account it's been hacked.      1   \n",
       "4  is there a reason that my payment didnt go thr...      2   \n",
       "\n",
       "                                      processed_text  \n",
       "0                                 automat top travel  \n",
       "1                 kind fiat currenc use hold exchang  \n",
       "2  get item order go cancel order payment pleas help  \n",
       "3                                 freez account hack  \n",
       "4                            reason payment didnt go  "
      ]
     },
     "execution_count": 41,
     "metadata": {},
     "output_type": "execute_result"
    }
   ],
   "source": [
    "WorkingData_2.head()"
   ]
  },
  {
   "cell_type": "code",
   "execution_count": 42,
   "id": "9677d895",
   "metadata": {},
   "outputs": [],
   "source": [
    "# Extract the 'processed_text' column from the WorkingData_2 DataFrame\n",
    "processed_text = WorkingData_2['processed_text']\n",
    "\n",
    "# Convert the processed text column to a NumPy array\n",
    "corpus = processed_text.values"
   ]
  },
  {
   "cell_type": "code",
   "execution_count": 43,
   "id": "c390ab7e",
   "metadata": {},
   "outputs": [
    {
     "data": {
      "text/plain": [
       "array(['automat top travel', 'kind fiat currenc use hold exchang',\n",
       "       'get item order go cancel order payment pleas help', ...,\n",
       "       'pleas tell card payment go tri buy someth onlin put card payment take come back later',\n",
       "       'rate currenc exchang wrong bought someth', 'abl track card sent'],\n",
       "      dtype=object)"
      ]
     },
     "execution_count": 43,
     "metadata": {},
     "output_type": "execute_result"
    }
   ],
   "source": [
    "corpus"
   ]
  },
  {
   "cell_type": "markdown",
   "id": "7478c3ff",
   "metadata": {},
   "source": [
    "\"corpus\" is a variable containing a NumPy array of preprocessed text data. The exact contents of the \"corpus\" array depend on the data that was loaded into the \"WorkingData_2\" DataFrame and how it was preprocessed. Without more information about the data and preprocessing steps, it is not possible to determine the contents of the \"corpus\" array."
   ]
  },
  {
   "cell_type": "markdown",
   "id": "803e1f9e",
   "metadata": {},
   "source": [
    "# Data Transformation"
   ]
  },
  {
   "cell_type": "code",
   "execution_count": 44,
   "id": "397a9b5d",
   "metadata": {},
   "outputs": [],
   "source": [
    "# Import the CountVectorizer class from the sklearn.feature_extraction.text module\n",
    "from sklearn.feature_extraction.text import CountVectorizer\n",
    "\n",
    "# Create a new instance of the CountVectorizer class with max_features set to 1600\n",
    "cv = CountVectorizer(max_df = 0.5, max_features=100)"
   ]
  },
  {
   "cell_type": "code",
   "execution_count": 45,
   "id": "e9be0e4d",
   "metadata": {},
   "outputs": [],
   "source": [
    "X = cv.fit_transform(corpus).toarray()"
   ]
  },
  {
   "cell_type": "code",
   "execution_count": 46,
   "id": "c6873365",
   "metadata": {},
   "outputs": [
    {
     "data": {
      "text/plain": [
       "(13672, 1400)"
      ]
     },
     "execution_count": 46,
     "metadata": {},
     "output_type": "execute_result"
    }
   ],
   "source": [
    "X.shape"
   ]
  },
  {
   "cell_type": "code",
   "execution_count": 47,
   "id": "fe39e0ea",
   "metadata": {},
   "outputs": [
    {
     "data": {
      "text/plain": [
       "array([[0, 0, 0, ..., 0, 0, 0],\n",
       "       [0, 0, 0, ..., 0, 0, 0],\n",
       "       [0, 0, 0, ..., 0, 0, 0],\n",
       "       ...,\n",
       "       [0, 0, 0, ..., 0, 0, 0],\n",
       "       [0, 0, 0, ..., 0, 0, 0],\n",
       "       [0, 0, 0, ..., 0, 0, 0]], dtype=int64)"
      ]
     },
     "execution_count": 47,
     "metadata": {},
     "output_type": "execute_result"
    }
   ],
   "source": [
    "X[:50]"
   ]
  },
  {
   "cell_type": "code",
   "execution_count": 48,
   "id": "963e7d0d",
   "metadata": {},
   "outputs": [],
   "source": [
    "y=WorkingData_2['label'].values"
   ]
  },
  {
   "cell_type": "code",
   "execution_count": 49,
   "id": "babad064",
   "metadata": {},
   "outputs": [
    {
     "data": {
      "text/plain": [
       "(13672,)"
      ]
     },
     "execution_count": 49,
     "metadata": {},
     "output_type": "execute_result"
    }
   ],
   "source": [
    "y.shape"
   ]
  },
  {
   "cell_type": "code",
   "execution_count": 50,
   "id": "0830188f",
   "metadata": {},
   "outputs": [
    {
     "data": {
      "text/plain": [
       "array([3, 2, 2, 1, 2, 2, 0, 2, 2, 2, 0, 1, 2, 2, 2, 1, 2, 2, 2, 0, 2, 2,\n",
       "       2, 0, 2, 0, 2, 2, 2, 1, 2, 2, 3, 1, 1, 2, 1, 2, 0, 1, 2, 2, 3, 2,\n",
       "       2, 2, 3, 2, 1, 2, 2, 1, 2, 0, 1, 1, 3, 2, 1, 2, 1, 1, 1, 0, 2, 2,\n",
       "       1, 2, 1, 1, 3, 2, 1, 1, 2, 1, 0, 2, 1, 2, 1, 1, 0, 0, 3, 3, 0, 0,\n",
       "       2, 1, 1, 2, 0, 1, 1, 3, 1, 2, 1, 2])"
      ]
     },
     "execution_count": 50,
     "metadata": {},
     "output_type": "execute_result"
    }
   ],
   "source": [
    "y[:100]"
   ]
  },
  {
   "cell_type": "code",
   "execution_count": 51,
   "id": "20e95275",
   "metadata": {},
   "outputs": [],
   "source": [
    "## Saving Bow dictionary to later use\n",
    "# Import the pickle module\n",
    "import pickle\n",
    "\n",
    "# Set the path for the output file\n",
    "bow_path = '01.Model.pkl'\n",
    "\n",
    "# Use the pickle.dump() function to save the CountVectorizer instance to a file\n",
    "# The \"wb\" argument specifies that the file should be opened in binary mode for writing\n",
    "pickle.dump(cv, open(bow_path, \"wb\"))"
   ]
  },
  {
   "cell_type": "markdown",
   "id": "7ba89cef",
   "metadata": {},
   "source": [
    "# Dividing Dataset into Training and Test"
   ]
  },
  {
   "cell_type": "code",
   "execution_count": null,
   "id": "3fd3807e",
   "metadata": {},
   "outputs": [],
   "source": []
  },
  {
   "cell_type": "code",
   "execution_count": null,
   "id": "3b902f3e",
   "metadata": {},
   "outputs": [],
   "source": []
  },
  {
   "cell_type": "code",
   "execution_count": null,
   "id": "ae6daee6",
   "metadata": {},
   "outputs": [],
   "source": []
  }
 ],
 "metadata": {
  "kernelspec": {
   "display_name": "Python 3 (ipykernel)",
   "language": "python",
   "name": "python3"
  },
  "language_info": {
   "codemirror_mode": {
    "name": "ipython",
    "version": 3
   },
   "file_extension": ".py",
   "mimetype": "text/x-python",
   "name": "python",
   "nbconvert_exporter": "python",
   "pygments_lexer": "ipython3",
   "version": "3.11.1"
  }
 },
 "nbformat": 4,
 "nbformat_minor": 5
}
